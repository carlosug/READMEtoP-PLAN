{
 "cells": [
  {
   "cell_type": "markdown",
   "metadata": {},
   "source": [
    "## Fine-tuning LLMs\n",
    "https://towardsdatascience.com/fine-tuning-large-language-models-llms-23473d763b91"
   ]
  },
  {
   "cell_type": "code",
   "execution_count": 1,
   "metadata": {},
   "outputs": [
    {
     "name": "stdout",
     "output_type": "stream",
     "text": [
      "Requirement already satisfied: evaluate in /Users/ccugutrillague/mambaforge/envs/coderefinery/lib/python3.11/site-packages (0.4.1)\n",
      "Requirement already satisfied: datasets>=2.0.0 in /Users/ccugutrillague/mambaforge/envs/coderefinery/lib/python3.11/site-packages (from evaluate) (2.14.4)\n",
      "Requirement already satisfied: numpy>=1.17 in /Users/ccugutrillague/mambaforge/envs/coderefinery/lib/python3.11/site-packages (from evaluate) (1.25.2)\n",
      "Requirement already satisfied: dill in /Users/ccugutrillague/mambaforge/envs/coderefinery/lib/python3.11/site-packages (from evaluate) (0.3.6)\n",
      "Requirement already satisfied: pandas in /Users/ccugutrillague/mambaforge/envs/coderefinery/lib/python3.11/site-packages (from evaluate) (2.0.3)\n",
      "Requirement already satisfied: requests>=2.19.0 in /Users/ccugutrillague/mambaforge/envs/coderefinery/lib/python3.11/site-packages (from evaluate) (2.31.0)\n",
      "Requirement already satisfied: tqdm>=4.62.1 in /Users/ccugutrillague/mambaforge/envs/coderefinery/lib/python3.11/site-packages (from evaluate) (4.66.1)\n",
      "Requirement already satisfied: xxhash in /Users/ccugutrillague/mambaforge/envs/coderefinery/lib/python3.11/site-packages (from evaluate) (3.4.1)\n",
      "Requirement already satisfied: multiprocess in /Users/ccugutrillague/mambaforge/envs/coderefinery/lib/python3.11/site-packages (from evaluate) (0.70.14)\n",
      "Requirement already satisfied: fsspec>=2021.05.0 in /Users/ccugutrillague/mambaforge/envs/coderefinery/lib/python3.11/site-packages (from fsspec[http]>=2021.05.0->evaluate) (2023.6.0)\n",
      "Requirement already satisfied: huggingface-hub>=0.7.0 in /Users/ccugutrillague/mambaforge/envs/coderefinery/lib/python3.11/site-packages (from evaluate) (0.20.3)\n",
      "Requirement already satisfied: packaging in /Users/ccugutrillague/mambaforge/envs/coderefinery/lib/python3.11/site-packages (from evaluate) (23.1)\n",
      "Requirement already satisfied: responses<0.19 in /Users/ccugutrillague/mambaforge/envs/coderefinery/lib/python3.11/site-packages (from evaluate) (0.18.0)\n",
      "Requirement already satisfied: pyarrow>=8.0.0 in /Users/ccugutrillague/mambaforge/envs/coderefinery/lib/python3.11/site-packages (from datasets>=2.0.0->evaluate) (13.0.0)\n",
      "Requirement already satisfied: aiohttp in /Users/ccugutrillague/mambaforge/envs/coderefinery/lib/python3.11/site-packages (from datasets>=2.0.0->evaluate) (3.8.6)\n",
      "Requirement already satisfied: pyyaml>=5.1 in /Users/ccugutrillague/mambaforge/envs/coderefinery/lib/python3.11/site-packages (from datasets>=2.0.0->evaluate) (6.0.1)\n",
      "Requirement already satisfied: filelock in /Users/ccugutrillague/mambaforge/envs/coderefinery/lib/python3.11/site-packages (from huggingface-hub>=0.7.0->evaluate) (3.12.3)\n",
      "Requirement already satisfied: typing-extensions>=3.7.4.3 in /Users/ccugutrillague/mambaforge/envs/coderefinery/lib/python3.11/site-packages (from huggingface-hub>=0.7.0->evaluate) (4.7.1)\n",
      "Requirement already satisfied: charset-normalizer<4,>=2 in /Users/ccugutrillague/mambaforge/envs/coderefinery/lib/python3.11/site-packages (from requests>=2.19.0->evaluate) (3.2.0)\n",
      "Requirement already satisfied: idna<4,>=2.5 in /Users/ccugutrillague/mambaforge/envs/coderefinery/lib/python3.11/site-packages (from requests>=2.19.0->evaluate) (3.4)\n",
      "Requirement already satisfied: urllib3<3,>=1.21.1 in /Users/ccugutrillague/mambaforge/envs/coderefinery/lib/python3.11/site-packages (from requests>=2.19.0->evaluate) (2.0.4)\n",
      "Requirement already satisfied: certifi>=2017.4.17 in /Users/ccugutrillague/mambaforge/envs/coderefinery/lib/python3.11/site-packages (from requests>=2.19.0->evaluate) (2023.7.22)\n",
      "Requirement already satisfied: python-dateutil>=2.8.2 in /Users/ccugutrillague/mambaforge/envs/coderefinery/lib/python3.11/site-packages (from pandas->evaluate) (2.8.2)\n",
      "Requirement already satisfied: pytz>=2020.1 in /Users/ccugutrillague/mambaforge/envs/coderefinery/lib/python3.11/site-packages (from pandas->evaluate) (2023.3.post1)\n",
      "Requirement already satisfied: tzdata>=2022.1 in /Users/ccugutrillague/mambaforge/envs/coderefinery/lib/python3.11/site-packages (from pandas->evaluate) (2023.3)\n",
      "Requirement already satisfied: attrs>=17.3.0 in /Users/ccugutrillague/mambaforge/envs/coderefinery/lib/python3.11/site-packages (from aiohttp->datasets>=2.0.0->evaluate) (23.1.0)\n",
      "Requirement already satisfied: multidict<7.0,>=4.5 in /Users/ccugutrillague/mambaforge/envs/coderefinery/lib/python3.11/site-packages (from aiohttp->datasets>=2.0.0->evaluate) (6.0.4)\n",
      "Requirement already satisfied: async-timeout<5.0,>=4.0.0a3 in /Users/ccugutrillague/mambaforge/envs/coderefinery/lib/python3.11/site-packages (from aiohttp->datasets>=2.0.0->evaluate) (4.0.3)\n",
      "Requirement already satisfied: yarl<2.0,>=1.0 in /Users/ccugutrillague/mambaforge/envs/coderefinery/lib/python3.11/site-packages (from aiohttp->datasets>=2.0.0->evaluate) (1.9.2)\n",
      "Requirement already satisfied: frozenlist>=1.1.1 in /Users/ccugutrillague/mambaforge/envs/coderefinery/lib/python3.11/site-packages (from aiohttp->datasets>=2.0.0->evaluate) (1.4.0)\n",
      "Requirement already satisfied: aiosignal>=1.1.2 in /Users/ccugutrillague/mambaforge/envs/coderefinery/lib/python3.11/site-packages (from aiohttp->datasets>=2.0.0->evaluate) (1.3.1)\n",
      "Requirement already satisfied: six>=1.5 in /Users/ccugutrillague/mambaforge/envs/coderefinery/lib/python3.11/site-packages (from python-dateutil>=2.8.2->pandas->evaluate) (1.16.0)\n",
      "Note: you may need to restart the kernel to use updated packages.\n",
      "'NoneType' object has no attribute 'cadam32bit_grad_fp32'\n"
     ]
    },
    {
     "name": "stderr",
     "output_type": "stream",
     "text": [
      "/Users/ccugutrillague/mambaforge/envs/coderefinery/lib/python3.11/site-packages/bitsandbytes/cextension.py:34: UserWarning: The installed version of bitsandbytes was compiled without GPU support. 8-bit optimizers, 8-bit multiplication, and GPU quantization are unavailable.\n",
      "  warn(\"The installed version of bitsandbytes was compiled without GPU support. \"\n"
     ]
    }
   ],
   "source": [
    "# fine tuning\n",
    "%pip install evaluate\n",
    "from datasets import load_dataset, DatasetDict, Dataset\n",
    "\n",
    "from transformers import (\n",
    "    AutoTokenizer,\n",
    "    AutoConfig, \n",
    "    AutoModelForSequenceClassification,\n",
    "    DataCollatorWithPadding,\n",
    "    TrainingArguments,\n",
    "    Trainer)\n",
    "\n",
    "from peft import PeftModel, PeftConfig, get_peft_model, LoraConfig\n",
    "import evaluate\n",
    "import torch\n",
    "import numpy as np"
   ]
  },
  {
   "cell_type": "code",
   "execution_count": 2,
   "metadata": {},
   "outputs": [
    {
     "name": "stderr",
     "output_type": "stream",
     "text": [
      "Some weights of DistilBertForSequenceClassification were not initialized from the model checkpoint at distilbert-base-uncased and are newly initialized: ['classifier.weight', 'pre_classifier.bias', 'classifier.bias', 'pre_classifier.weight']\n",
      "You should probably TRAIN this model on a down-stream task to be able to use it for predictions and inference.\n"
     ]
    }
   ],
   "source": [
    "# base model\n",
    "model_checkpoint = 'distilbert-base-uncased'\n",
    "\n",
    "# define label maps\n",
    "id2label = {0: \"Source\", 1: \"Container\", 2: \"packagemanager\"}\n",
    "label2id = {\"Source\":0, \"`Container`\":1, \"Packagemanager\":2}\n",
    "\n",
    "\n",
    "# generate classification model from model_checkpoint\n",
    "model = AutoModelForSequenceClassification.from_pretrained(\n",
    "    model_checkpoint, num_labels=3, id2label=id2label, label2id=label2id)"
   ]
  },
  {
   "cell_type": "code",
   "execution_count": 3,
   "metadata": {},
   "outputs": [
    {
     "data": {
      "text/plain": [
       "{0: 'Source', 1: 'Container', 2: 'packagemanager'}"
      ]
     },
     "execution_count": 3,
     "metadata": {},
     "output_type": "execute_result"
    }
   ],
   "source": [
    "id2label"
   ]
  },
  {
   "cell_type": "code",
   "execution_count": null,
   "metadata": {},
   "outputs": [],
   "source": []
  },
  {
   "cell_type": "code",
   "execution_count": 4,
   "metadata": {},
   "outputs": [
    {
     "data": {
      "application/vnd.jupyter.widget-view+json": {
       "model_id": "d0046034732e4890b5bd5ac3db165f4c",
       "version_major": 2,
       "version_minor": 0
      },
      "text/plain": [
       "Downloading data files:   0%|          | 0/1 [00:00<?, ?it/s]"
      ]
     },
     "metadata": {},
     "output_type": "display_data"
    },
    {
     "data": {
      "application/vnd.jupyter.widget-view+json": {
       "model_id": "43a64c5f7f5b451c848509e9c5655681",
       "version_major": 2,
       "version_minor": 0
      },
      "text/plain": [
       "Extracting data files:   0%|          | 0/1 [00:00<?, ?it/s]"
      ]
     },
     "metadata": {},
     "output_type": "display_data"
    },
    {
     "data": {
      "application/vnd.jupyter.widget-view+json": {
       "model_id": "ff19b685ffe943929e50ba3eaa41c6e2",
       "version_major": 2,
       "version_minor": 0
      },
      "text/plain": [
       "Generating train split: 0 examples [00:00, ? examples/s]"
      ]
     },
     "metadata": {},
     "output_type": "display_data"
    },
    {
     "data": {
      "application/vnd.jupyter.widget-view+json": {
       "model_id": "7697ca63d7f947f4bda6bba665a1debb",
       "version_major": 2,
       "version_minor": 0
      },
      "text/plain": [
       "Filter:   0%|          | 0/39 [00:00<?, ? examples/s]"
      ]
     },
     "metadata": {},
     "output_type": "display_data"
    },
    {
     "data": {
      "text/plain": [
       "DatasetDict({\n",
       "    train: Dataset({\n",
       "        features: ['software', 'repo_name', 'readme_url', 'content', 'plan', 'steps', 'optional_steps', 'extra_info_optional'],\n",
       "        num_rows: 29\n",
       "    })\n",
       "})"
      ]
     },
     "execution_count": 4,
     "metadata": {},
     "output_type": "execute_result"
    }
   ],
   "source": [
    "# load dataset\n",
    "dataset = load_dataset(\"carlosug/ResearchInstall\")\n",
    "dataset\n",
    "dataset = dataset.filter(\n",
    "    lambda x: (x[\"content\"] != None)\n",
    ")\n",
    "dataset"
   ]
  },
  {
   "cell_type": "code",
   "execution_count": 5,
   "metadata": {},
   "outputs": [
    {
     "data": {
      "text/html": [
       "<div>\n",
       "<style scoped>\n",
       "    .dataframe tbody tr th:only-of-type {\n",
       "        vertical-align: middle;\n",
       "    }\n",
       "\n",
       "    .dataframe tbody tr th {\n",
       "        vertical-align: top;\n",
       "    }\n",
       "\n",
       "    .dataframe thead th {\n",
       "        text-align: right;\n",
       "    }\n",
       "</style>\n",
       "<table border=\"1\" class=\"dataframe\">\n",
       "  <thead>\n",
       "    <tr style=\"text-align: right;\">\n",
       "      <th></th>\n",
       "      <th>software</th>\n",
       "      <th>repo_name</th>\n",
       "      <th>readme_url</th>\n",
       "      <th>content</th>\n",
       "      <th>plan</th>\n",
       "      <th>steps</th>\n",
       "      <th>optional_steps</th>\n",
       "      <th>extra_info_optional</th>\n",
       "    </tr>\n",
       "  </thead>\n",
       "  <tbody>\n",
       "    <tr>\n",
       "      <th>0</th>\n",
       "      <td>ensuring-trustworthy-and-ethical-behaviour-in</td>\n",
       "      <td>https://paperwithcode.com/paper/</td>\n",
       "      <td>https://raw.githubusercontent.com/AAAI-DISIM-U...</td>\n",
       "      <td>## Installation\\n\\n**OS X &amp; Linux:**\\n1.  To d...</td>\n",
       "      <td>binary, source</td>\n",
       "      <td>[plan binary]&gt;&gt;step1. follow the instructions ...</td>\n",
       "      <td>**Windows:**\\n1.  To download and install SICS...</td>\n",
       "      <td>You will see different windows opening:\\nProlo...</td>\n",
       "    </tr>\n",
       "    <tr>\n",
       "      <th>1</th>\n",
       "      <td>only-the-curve-shape-matters-training</td>\n",
       "      <td>https://paperwithcode.com/paper/</td>\n",
       "      <td>https://raw.githubusercontent.com/cfeng783/GTT...</td>\n",
       "      <td>## Getting Started\\n\\n#### Install dependencie...</td>\n",
       "      <td>source</td>\n",
       "      <td>[plan source]&gt;&gt; [INCOMPLETE] step1. Install de...</td>\n",
       "      <td>None</td>\n",
       "      <td>None</td>\n",
       "    </tr>\n",
       "    <tr>\n",
       "      <th>2</th>\n",
       "      <td>aydiv-adaptable-yielding-3d-object-detection</td>\n",
       "      <td>https://paperwithcode.com/paper/</td>\n",
       "      <td>https://raw.githubusercontent.com/sanjay-810/A...</td>\n",
       "      <td>### **Installation**\\n1.  Prepare for the runn...</td>\n",
       "      <td>source,docker</td>\n",
       "      <td>[plan source]&gt;&gt; step1. Prepare for the running...</td>\n",
       "      <td>None</td>\n",
       "      <td>None</td>\n",
       "    </tr>\n",
       "    <tr>\n",
       "      <th>3</th>\n",
       "      <td>cartesian-atomic-cluster-expansion-for</td>\n",
       "      <td>https://paperwithcode.com/paper/</td>\n",
       "      <td>https://raw.githubusercontent.com/BingqingChen...</td>\n",
       "      <td>## Installation\\n\\nPlease refer to the `setup....</td>\n",
       "      <td>source</td>\n",
       "      <td>[plan source]&gt;&gt;[INCOMPLETE] step1. please refe...</td>\n",
       "      <td>None</td>\n",
       "      <td>None</td>\n",
       "    </tr>\n",
       "    <tr>\n",
       "      <th>4</th>\n",
       "      <td>teller-a-trustworthy-framework-for</td>\n",
       "      <td>https://paperwithcode.com/paper/</td>\n",
       "      <td>https://raw.githubusercontent.com/less-and-les...</td>\n",
       "      <td>## Getting Started\\n\\nStep 1: Download the dat...</td>\n",
       "      <td>binary</td>\n",
       "      <td>[plan binary]&gt;&gt; step1: Download the dataset fo...</td>\n",
       "      <td>None</td>\n",
       "      <td>None</td>\n",
       "    </tr>\n",
       "    <tr>\n",
       "      <th>5</th>\n",
       "      <td>continuous-time-radar-inertial-and-lidar</td>\n",
       "      <td>https://paperwithcode.com/paper/</td>\n",
       "      <td>https://raw.githubusercontent.com/utiasASRL/st...</td>\n",
       "      <td>## Installation\\n\\nClone this repository and i...</td>\n",
       "      <td>source</td>\n",
       "      <td>[plan source]&gt;&gt; step1. clone this repository a...</td>\n",
       "      <td>None</td>\n",
       "      <td>None</td>\n",
       "    </tr>\n",
       "    <tr>\n",
       "      <th>6</th>\n",
       "      <td>robust-parameter-fitting-to-realistic-network</td>\n",
       "      <td>https://paperwithcode.com/paper/</td>\n",
       "      <td>https://raw.githubusercontent.com/PFischbeck/p...</td>\n",
       "      <td># Installation\\n\\n- Make sure you have Python,...</td>\n",
       "      <td>source</td>\n",
       "      <td>[plan source]&gt;&gt; step1. Make sure you have Pyth...</td>\n",
       "      <td>step7. Optional: Download the file `output-dat...</td>\n",
       "      <td>None</td>\n",
       "    </tr>\n",
       "    <tr>\n",
       "      <th>7</th>\n",
       "      <td>get-tok-a-genai-enriched-multimodal-tiktok</td>\n",
       "      <td>https://paperwithcode.com/paper/</td>\n",
       "      <td>https://raw.githubusercontent.com/gabbypinto/G...</td>\n",
       "      <td>## Installation\\npip install -r requirements.t...</td>\n",
       "      <td>packagemanager</td>\n",
       "      <td>[plan packagemanager]&gt;&gt;step1. pip install -r r...</td>\n",
       "      <td>None</td>\n",
       "      <td>*Note: I did not us a virtual environment so t...</td>\n",
       "    </tr>\n",
       "    <tr>\n",
       "      <th>8</th>\n",
       "      <td>geometric-slosh-free-tracking-for-robotic</td>\n",
       "      <td>https://paperwithcode.com/paper/</td>\n",
       "      <td>https://raw.githubusercontent.com/jonarriza96/...</td>\n",
       "      <td>## Installation\\n\\n### Dependencies\\n\\nInitial...</td>\n",
       "      <td>source</td>\n",
       "      <td>[plan source]&gt;&gt; step1. Check dependencies. ste...</td>\n",
       "      <td>None</td>\n",
       "      <td>None</td>\n",
       "    </tr>\n",
       "    <tr>\n",
       "      <th>9</th>\n",
       "      <td>real-time-line-based-room-segmentation-and</td>\n",
       "      <td>https://paperwithcode.com/paper/</td>\n",
       "      <td>https://raw.githubusercontent.com/EricssonRese...</td>\n",
       "      <td>## Installation\\nThe project can be installed ...</td>\n",
       "      <td>source</td>\n",
       "      <td>[plan source]&gt;&gt;[INCOMPLETE]step1. Run the comm...</td>\n",
       "      <td>None</td>\n",
       "      <td>None</td>\n",
       "    </tr>\n",
       "    <tr>\n",
       "      <th>10</th>\n",
       "      <td>viga</td>\n",
       "      <td>https://bio.tools/</td>\n",
       "      <td>https://raw.githubusercontent.com/viralInforma...</td>\n",
       "      <td>## Installation\\n\\n### Step1: Download VIGA\\n\\...</td>\n",
       "      <td>source</td>\n",
       "      <td>[plan source]&gt;&gt; step1. Download VIGA with Git ...</td>\n",
       "      <td>None</td>\n",
       "      <td>manual Installation of MetaCompass\\nhttps://gi...</td>\n",
       "    </tr>\n",
       "    <tr>\n",
       "      <th>11</th>\n",
       "      <td>nrn-ez</td>\n",
       "      <td>https://bio.tools/</td>\n",
       "      <td>https://raw.githubusercontent.com/scimemia/NRN...</td>\n",
       "      <td>**INSTALLATION FOR VERSION 1.1.6**\\n\\nNRN-EZ w...</td>\n",
       "      <td>binary</td>\n",
       "      <td>[plan binary]&gt;&gt; step1. install requirements:\\n...</td>\n",
       "      <td>None</td>\n",
       "      <td>2. for linux:download the Linux zip file and, ...</td>\n",
       "    </tr>\n",
       "    <tr>\n",
       "      <th>12</th>\n",
       "      <td>causnet</td>\n",
       "      <td>https://bio.tools/</td>\n",
       "      <td>https://raw.githubusercontent.com/nand1155/Cau...</td>\n",
       "      <td>## Installation\\n\\nYou can install the develop...</td>\n",
       "      <td>source</td>\n",
       "      <td>[source]&gt;&gt;step1.install the development versio...</td>\n",
       "      <td>None</td>\n",
       "      <td>None</td>\n",
       "    </tr>\n",
       "    <tr>\n",
       "      <th>13</th>\n",
       "      <td>viralcc</td>\n",
       "      <td>https://bio.tools/</td>\n",
       "      <td>https://raw.githubusercontent.com/dyxstat/Repr...</td>\n",
       "      <td>\"# Instruction of reproducing results in Viral...</td>\n",
       "      <td>source</td>\n",
       "      <td>[plan source]&gt;&gt;step1.download and preprocess t...</td>\n",
       "      <td>None</td>\n",
       "      <td>(extra comment: NCBI may update its links for...</td>\n",
       "    </tr>\n",
       "    <tr>\n",
       "      <th>14</th>\n",
       "      <td>DRaW</td>\n",
       "      <td>https://bio.tools/</td>\n",
       "      <td>https://raw.githubusercontent.com/Bioinformati...</td>\n",
       "      <td># Running DRaW on COVID-19 datasets\\nThe DRaW ...</td>\n",
       "      <td>source</td>\n",
       "      <td>[plan source]&gt;&gt;step1.execute \"Drug-Repurposing...</td>\n",
       "      <td>None</td>\n",
       "      <td>The repurposed drugs will be stored in the \"m...</td>\n",
       "    </tr>\n",
       "    <tr>\n",
       "      <th>15</th>\n",
       "      <td>NRN-EZ</td>\n",
       "      <td>https://bio.tools/</td>\n",
       "      <td>https://raw.githubusercontent.com/scimemia/NRN...</td>\n",
       "      <td>**INSTALLATION FOR VERSION 1.1.6**\\n\\nNRN-EZ w...</td>\n",
       "      <td>source</td>\n",
       "      <td>[plan source]&gt;&gt;step1. install the requirements...</td>\n",
       "      <td>step2. for Linux: download the Linux zip file ...</td>\n",
       "      <td>None</td>\n",
       "    </tr>\n",
       "    <tr>\n",
       "      <th>16</th>\n",
       "      <td>guiding-instruction-based-image-editing-via</td>\n",
       "      <td>https://paperwithcode.com/paper/</td>\n",
       "      <td>https://raw.githubusercontent.com/apple/ml-mgi...</td>\n",
       "      <td>## Requirements\\n```\\nconda create -n mgie pyt...</td>\n",
       "      <td>source</td>\n",
       "      <td>[plan source]&gt;&gt; step1. create conda environmen...</td>\n",
       "      <td>None</td>\n",
       "      <td>None</td>\n",
       "    </tr>\n",
       "    <tr>\n",
       "      <th>17</th>\n",
       "      <td>self-play-fine-tuning-converts-weak-language</td>\n",
       "      <td>https://paperwithcode.com/paper/</td>\n",
       "      <td>https://raw.githubusercontent.com/uclaml/SPIN/...</td>\n",
       "      <td>## Setup\\nThe following steps provide the nece...</td>\n",
       "      <td>source</td>\n",
       "      <td>[plan source]&gt;&gt;step1.create a Python virtual e...</td>\n",
       "      <td>None</td>\n",
       "      <td>None</td>\n",
       "    </tr>\n",
       "    <tr>\n",
       "      <th>18</th>\n",
       "      <td>genegpt-teaching-large-language-models-to-use</td>\n",
       "      <td>https://paperwithcode.com/paper/</td>\n",
       "      <td>https://raw.githubusercontent.com/ncbi/GeneGPT...</td>\n",
       "      <td># Requirements\\n\\nThe code has been tested wit...</td>\n",
       "      <td>source</td>\n",
       "      <td>[plan source]&gt;&gt;step1.install requirements:\\n``...</td>\n",
       "      <td>None</td>\n",
       "      <td>The code has been tested with Python 3.9.13</td>\n",
       "    </tr>\n",
       "    <tr>\n",
       "      <th>19</th>\n",
       "      <td>learning-to-fly-in-seconds</td>\n",
       "      <td>https://paperwithcode.com/paper/</td>\n",
       "      <td>https://raw.githubusercontent.com/arplaborator...</td>\n",
       "      <td>## Instructions to run the code\\n### Docker (i...</td>\n",
       "      <td>source,docker</td>\n",
       "      <td>[plan1&gt;&gt;Docker (isolated)]\\nstep1: Execute a s...</td>\n",
       "      <td>None</td>\n",
       "      <td>None</td>\n",
       "    </tr>\n",
       "    <tr>\n",
       "      <th>20</th>\n",
       "      <td>/LargeWorldModel/LWM</td>\n",
       "      <td>https://paperwithcode.com/paper/</td>\n",
       "      <td>https://raw.githubusercontent.com/LargeWorldMo...</td>\n",
       "      <td>## Setup\\nInstall the requirements with:\\n```\\...</td>\n",
       "      <td>packagemanager, source</td>\n",
       "      <td>[plan packagemanager]&gt;&gt;step1.install the requi...</td>\n",
       "      <td>None</td>\n",
       "      <td>optional. set up TPU VM with:\\n```\\nsh tpu_req...</td>\n",
       "    </tr>\n",
       "    <tr>\n",
       "      <th>21</th>\n",
       "      <td>microsoft/UFO</td>\n",
       "      <td>https://paperwithcode.com/paper/</td>\n",
       "      <td>https://raw.githubusercontent.com/microsoft/UF...</td>\n",
       "      <td>### ___ Step 1: Installation\\nUFO requires **P...</td>\n",
       "      <td>source</td>\n",
       "      <td>[plan source]&gt;&gt;step1: Run the following comman...</td>\n",
       "      <td>None</td>\n",
       "      <td>#### __Reminder:  ####\\n- Before UFO executing...</td>\n",
       "    </tr>\n",
       "    <tr>\n",
       "      <th>22</th>\n",
       "      <td>/catid/dora</td>\n",
       "      <td>https://paperwithcode.com/paper/</td>\n",
       "      <td>https://raw.githubusercontent.com/catid/dora/m...</td>\n",
       "      <td>## Demo\\n\\nInstall conda: https://docs.conda.i...</td>\n",
       "      <td>source</td>\n",
       "      <td>[plan source]&gt;&gt;step1. install conda:https://do...</td>\n",
       "      <td>None</td>\n",
       "      <td>None</td>\n",
       "    </tr>\n",
       "    <tr>\n",
       "      <th>23</th>\n",
       "      <td>YOLO-World</td>\n",
       "      <td>https://paperwithcode.com/paper/</td>\n",
       "      <td>https://raw.githubusercontent.com/AILab-CVC/YO...</td>\n",
       "      <td>### 1. Installation\\n\\nYOLO-World is developed...</td>\n",
       "      <td>source</td>\n",
       "      <td>[plan source]&gt;&gt;step1. clone repository:\\n```\\n...</td>\n",
       "      <td>None</td>\n",
       "      <td>None</td>\n",
       "    </tr>\n",
       "    <tr>\n",
       "      <th>24</th>\n",
       "      <td>FasterDecoding/BitDelta</td>\n",
       "      <td>https://paperwithcode.com/paper/</td>\n",
       "      <td>https://raw.githubusercontent.com/FasterDecodi...</td>\n",
       "      <td>## Install\\n\\n1. Clone the repo and navigate t...</td>\n",
       "      <td>source</td>\n",
       "      <td>[plan source]&gt;&gt;step1.clone the repo and naviga...</td>\n",
       "      <td>None</td>\n",
       "      <td>None</td>\n",
       "    </tr>\n",
       "    <tr>\n",
       "      <th>25</th>\n",
       "      <td>tensorflow</td>\n",
       "      <td>https://paperwithcode.com/paper/</td>\n",
       "      <td>https://raw.githubusercontent.com/tensorflow/t...</td>\n",
       "      <td>## Install\\n\\nSee the [TensorFlow install guid...</td>\n",
       "      <td>packagemanager</td>\n",
       "      <td>[plan packagemanager]&gt;&gt;via pip. step1.:\\n```\\n...</td>\n",
       "      <td>None</td>\n",
       "      <td>None</td>\n",
       "    </tr>\n",
       "    <tr>\n",
       "      <th>26</th>\n",
       "      <td>transformers</td>\n",
       "      <td>https://paperwithcode.com/paper/</td>\n",
       "      <td>https://raw.githubusercontent.com/huggingface/...</td>\n",
       "      <td>## Installation\\n\\n### With pip\\n\\nThis reposi...</td>\n",
       "      <td>packagemanager</td>\n",
       "      <td>[plan packagemanager]&gt;&gt;via pip:\\nstep1. instal...</td>\n",
       "      <td>None</td>\n",
       "      <td>requirements &gt;&gt; This repository is tested on P...</td>\n",
       "    </tr>\n",
       "    <tr>\n",
       "      <th>27</th>\n",
       "      <td>langchain</td>\n",
       "      <td>https://paperwithcode.com/paper/</td>\n",
       "      <td>https://raw.githubusercontent.com/langchain-ai...</td>\n",
       "      <td>## Quick Install\\n\\nWith pip:\\n```bash\\npip in...</td>\n",
       "      <td>packagemanager</td>\n",
       "      <td>[plan packagemanager]&gt;&gt;step1: via pip\\n```bash...</td>\n",
       "      <td>None</td>\n",
       "      <td>None</td>\n",
       "    </tr>\n",
       "    <tr>\n",
       "      <th>28</th>\n",
       "      <td>DIG/dig-stable</td>\n",
       "      <td>https://paperwithcode.com/paper/</td>\n",
       "      <td>https://raw.githubusercontent.com/divelab/DIG/...</td>\n",
       "      <td>## Installation\\n\\n### Install from pip\\nThe k...</td>\n",
       "      <td>packagemanager</td>\n",
       "      <td>[plan packagemanager]&gt;&gt;step 1. Install [PyTorc...</td>\n",
       "      <td>None</td>\n",
       "      <td>None</td>\n",
       "    </tr>\n",
       "  </tbody>\n",
       "</table>\n",
       "</div>"
      ],
      "text/plain": [
       "                                         software  \\\n",
       "0   ensuring-trustworthy-and-ethical-behaviour-in   \n",
       "1           only-the-curve-shape-matters-training   \n",
       "2    aydiv-adaptable-yielding-3d-object-detection   \n",
       "3          cartesian-atomic-cluster-expansion-for   \n",
       "4              teller-a-trustworthy-framework-for   \n",
       "5        continuous-time-radar-inertial-and-lidar   \n",
       "6   robust-parameter-fitting-to-realistic-network   \n",
       "7      get-tok-a-genai-enriched-multimodal-tiktok   \n",
       "8       geometric-slosh-free-tracking-for-robotic   \n",
       "9      real-time-line-based-room-segmentation-and   \n",
       "10                                           viga   \n",
       "11                                         nrn-ez   \n",
       "12                                        causnet   \n",
       "13                                        viralcc   \n",
       "14                                           DRaW   \n",
       "15                                         NRN-EZ   \n",
       "16    guiding-instruction-based-image-editing-via   \n",
       "17   self-play-fine-tuning-converts-weak-language   \n",
       "18  genegpt-teaching-large-language-models-to-use   \n",
       "19                     learning-to-fly-in-seconds   \n",
       "20                           /LargeWorldModel/LWM   \n",
       "21                                  microsoft/UFO   \n",
       "22                                    /catid/dora   \n",
       "23                                     YOLO-World   \n",
       "24                        FasterDecoding/BitDelta   \n",
       "25                                     tensorflow   \n",
       "26                                   transformers   \n",
       "27                                      langchain   \n",
       "28                                 DIG/dig-stable   \n",
       "\n",
       "                           repo_name  \\\n",
       "0   https://paperwithcode.com/paper/   \n",
       "1   https://paperwithcode.com/paper/   \n",
       "2   https://paperwithcode.com/paper/   \n",
       "3   https://paperwithcode.com/paper/   \n",
       "4   https://paperwithcode.com/paper/   \n",
       "5   https://paperwithcode.com/paper/   \n",
       "6   https://paperwithcode.com/paper/   \n",
       "7   https://paperwithcode.com/paper/   \n",
       "8   https://paperwithcode.com/paper/   \n",
       "9   https://paperwithcode.com/paper/   \n",
       "10                https://bio.tools/   \n",
       "11                https://bio.tools/   \n",
       "12                https://bio.tools/   \n",
       "13                https://bio.tools/   \n",
       "14                https://bio.tools/   \n",
       "15                https://bio.tools/   \n",
       "16  https://paperwithcode.com/paper/   \n",
       "17  https://paperwithcode.com/paper/   \n",
       "18  https://paperwithcode.com/paper/   \n",
       "19  https://paperwithcode.com/paper/   \n",
       "20  https://paperwithcode.com/paper/   \n",
       "21  https://paperwithcode.com/paper/   \n",
       "22  https://paperwithcode.com/paper/   \n",
       "23  https://paperwithcode.com/paper/   \n",
       "24  https://paperwithcode.com/paper/   \n",
       "25  https://paperwithcode.com/paper/   \n",
       "26  https://paperwithcode.com/paper/   \n",
       "27  https://paperwithcode.com/paper/   \n",
       "28  https://paperwithcode.com/paper/   \n",
       "\n",
       "                                           readme_url  \\\n",
       "0   https://raw.githubusercontent.com/AAAI-DISIM-U...   \n",
       "1   https://raw.githubusercontent.com/cfeng783/GTT...   \n",
       "2   https://raw.githubusercontent.com/sanjay-810/A...   \n",
       "3   https://raw.githubusercontent.com/BingqingChen...   \n",
       "4   https://raw.githubusercontent.com/less-and-les...   \n",
       "5   https://raw.githubusercontent.com/utiasASRL/st...   \n",
       "6   https://raw.githubusercontent.com/PFischbeck/p...   \n",
       "7   https://raw.githubusercontent.com/gabbypinto/G...   \n",
       "8   https://raw.githubusercontent.com/jonarriza96/...   \n",
       "9   https://raw.githubusercontent.com/EricssonRese...   \n",
       "10  https://raw.githubusercontent.com/viralInforma...   \n",
       "11  https://raw.githubusercontent.com/scimemia/NRN...   \n",
       "12  https://raw.githubusercontent.com/nand1155/Cau...   \n",
       "13  https://raw.githubusercontent.com/dyxstat/Repr...   \n",
       "14  https://raw.githubusercontent.com/Bioinformati...   \n",
       "15  https://raw.githubusercontent.com/scimemia/NRN...   \n",
       "16  https://raw.githubusercontent.com/apple/ml-mgi...   \n",
       "17  https://raw.githubusercontent.com/uclaml/SPIN/...   \n",
       "18  https://raw.githubusercontent.com/ncbi/GeneGPT...   \n",
       "19  https://raw.githubusercontent.com/arplaborator...   \n",
       "20  https://raw.githubusercontent.com/LargeWorldMo...   \n",
       "21  https://raw.githubusercontent.com/microsoft/UF...   \n",
       "22  https://raw.githubusercontent.com/catid/dora/m...   \n",
       "23  https://raw.githubusercontent.com/AILab-CVC/YO...   \n",
       "24  https://raw.githubusercontent.com/FasterDecodi...   \n",
       "25  https://raw.githubusercontent.com/tensorflow/t...   \n",
       "26  https://raw.githubusercontent.com/huggingface/...   \n",
       "27  https://raw.githubusercontent.com/langchain-ai...   \n",
       "28  https://raw.githubusercontent.com/divelab/DIG/...   \n",
       "\n",
       "                                              content                    plan  \\\n",
       "0   ## Installation\\n\\n**OS X & Linux:**\\n1.  To d...          binary, source   \n",
       "1   ## Getting Started\\n\\n#### Install dependencie...                  source   \n",
       "2   ### **Installation**\\n1.  Prepare for the runn...           source,docker   \n",
       "3   ## Installation\\n\\nPlease refer to the `setup....                  source   \n",
       "4   ## Getting Started\\n\\nStep 1: Download the dat...                  binary   \n",
       "5   ## Installation\\n\\nClone this repository and i...                  source   \n",
       "6   # Installation\\n\\n- Make sure you have Python,...                  source   \n",
       "7   ## Installation\\npip install -r requirements.t...          packagemanager   \n",
       "8   ## Installation\\n\\n### Dependencies\\n\\nInitial...                  source   \n",
       "9   ## Installation\\nThe project can be installed ...                  source   \n",
       "10  ## Installation\\n\\n### Step1: Download VIGA\\n\\...                  source   \n",
       "11  **INSTALLATION FOR VERSION 1.1.6**\\n\\nNRN-EZ w...                  binary   \n",
       "12  ## Installation\\n\\nYou can install the develop...                  source   \n",
       "13  \"# Instruction of reproducing results in Viral...                  source   \n",
       "14  # Running DRaW on COVID-19 datasets\\nThe DRaW ...                  source   \n",
       "15  **INSTALLATION FOR VERSION 1.1.6**\\n\\nNRN-EZ w...                  source   \n",
       "16  ## Requirements\\n```\\nconda create -n mgie pyt...                  source   \n",
       "17  ## Setup\\nThe following steps provide the nece...                  source   \n",
       "18  # Requirements\\n\\nThe code has been tested wit...                  source   \n",
       "19  ## Instructions to run the code\\n### Docker (i...           source,docker   \n",
       "20  ## Setup\\nInstall the requirements with:\\n```\\...  packagemanager, source   \n",
       "21  ### ___ Step 1: Installation\\nUFO requires **P...                  source   \n",
       "22  ## Demo\\n\\nInstall conda: https://docs.conda.i...                  source   \n",
       "23  ### 1. Installation\\n\\nYOLO-World is developed...                  source   \n",
       "24  ## Install\\n\\n1. Clone the repo and navigate t...                  source   \n",
       "25  ## Install\\n\\nSee the [TensorFlow install guid...          packagemanager   \n",
       "26  ## Installation\\n\\n### With pip\\n\\nThis reposi...          packagemanager   \n",
       "27  ## Quick Install\\n\\nWith pip:\\n```bash\\npip in...          packagemanager   \n",
       "28  ## Installation\\n\\n### Install from pip\\nThe k...          packagemanager   \n",
       "\n",
       "                                                steps  \\\n",
       "0   [plan binary]>>step1. follow the instructions ...   \n",
       "1   [plan source]>> [INCOMPLETE] step1. Install de...   \n",
       "2   [plan source]>> step1. Prepare for the running...   \n",
       "3   [plan source]>>[INCOMPLETE] step1. please refe...   \n",
       "4   [plan binary]>> step1: Download the dataset fo...   \n",
       "5   [plan source]>> step1. clone this repository a...   \n",
       "6   [plan source]>> step1. Make sure you have Pyth...   \n",
       "7   [plan packagemanager]>>step1. pip install -r r...   \n",
       "8   [plan source]>> step1. Check dependencies. ste...   \n",
       "9   [plan source]>>[INCOMPLETE]step1. Run the comm...   \n",
       "10  [plan source]>> step1. Download VIGA with Git ...   \n",
       "11  [plan binary]>> step1. install requirements:\\n...   \n",
       "12  [source]>>step1.install the development versio...   \n",
       "13  [plan source]>>step1.download and preprocess t...   \n",
       "14  [plan source]>>step1.execute \"Drug-Repurposing...   \n",
       "15  [plan source]>>step1. install the requirements...   \n",
       "16  [plan source]>> step1. create conda environmen...   \n",
       "17  [plan source]>>step1.create a Python virtual e...   \n",
       "18  [plan source]>>step1.install requirements:\\n``...   \n",
       "19  [plan1>>Docker (isolated)]\\nstep1: Execute a s...   \n",
       "20  [plan packagemanager]>>step1.install the requi...   \n",
       "21  [plan source]>>step1: Run the following comman...   \n",
       "22  [plan source]>>step1. install conda:https://do...   \n",
       "23  [plan source]>>step1. clone repository:\\n```\\n...   \n",
       "24  [plan source]>>step1.clone the repo and naviga...   \n",
       "25  [plan packagemanager]>>via pip. step1.:\\n```\\n...   \n",
       "26  [plan packagemanager]>>via pip:\\nstep1. instal...   \n",
       "27  [plan packagemanager]>>step1: via pip\\n```bash...   \n",
       "28  [plan packagemanager]>>step 1. Install [PyTorc...   \n",
       "\n",
       "                                       optional_steps  \\\n",
       "0   **Windows:**\\n1.  To download and install SICS...   \n",
       "1                                                None   \n",
       "2                                                None   \n",
       "3                                                None   \n",
       "4                                                None   \n",
       "5                                                None   \n",
       "6   step7. Optional: Download the file `output-dat...   \n",
       "7                                                None   \n",
       "8                                                None   \n",
       "9                                                None   \n",
       "10                                               None   \n",
       "11                                               None   \n",
       "12                                               None   \n",
       "13                                               None   \n",
       "14                                               None   \n",
       "15  step2. for Linux: download the Linux zip file ...   \n",
       "16                                               None   \n",
       "17                                               None   \n",
       "18                                               None   \n",
       "19                                               None   \n",
       "20                                               None   \n",
       "21                                               None   \n",
       "22                                               None   \n",
       "23                                               None   \n",
       "24                                               None   \n",
       "25                                               None   \n",
       "26                                               None   \n",
       "27                                               None   \n",
       "28                                               None   \n",
       "\n",
       "                                  extra_info_optional  \n",
       "0   You will see different windows opening:\\nProlo...  \n",
       "1                                                None  \n",
       "2                                                None  \n",
       "3                                                None  \n",
       "4                                                None  \n",
       "5                                                None  \n",
       "6                                                None  \n",
       "7   *Note: I did not us a virtual environment so t...  \n",
       "8                                                None  \n",
       "9                                                None  \n",
       "10  manual Installation of MetaCompass\\nhttps://gi...  \n",
       "11  2. for linux:download the Linux zip file and, ...  \n",
       "12                                               None  \n",
       "13   (extra comment: NCBI may update its links for...  \n",
       "14   The repurposed drugs will be stored in the \"m...  \n",
       "15                                               None  \n",
       "16                                               None  \n",
       "17                                               None  \n",
       "18        The code has been tested with Python 3.9.13  \n",
       "19                                               None  \n",
       "20  optional. set up TPU VM with:\\n```\\nsh tpu_req...  \n",
       "21  #### __Reminder:  ####\\n- Before UFO executing...  \n",
       "22                                               None  \n",
       "23                                               None  \n",
       "24                                               None  \n",
       "25                                               None  \n",
       "26  requirements >> This repository is tested on P...  \n",
       "27                                               None  \n",
       "28                                               None  "
      ]
     },
     "execution_count": 5,
     "metadata": {},
     "output_type": "execute_result"
    }
   ],
   "source": [
    "# Read as pandas DataFrame\n",
    "dataset['train'].to_pandas()"
   ]
  },
  {
   "cell_type": "code",
   "execution_count": 6,
   "metadata": {},
   "outputs": [
    {
     "data": {
      "text/plain": [
       "DatasetDict({\n",
       "    train: Dataset({\n",
       "        features: ['software', 'repo_name', 'readme_url', 'content', 'plan', 'steps', 'optional_steps', 'extra_info_optional'],\n",
       "        num_rows: 23\n",
       "    })\n",
       "    validation: Dataset({\n",
       "        features: ['software', 'repo_name', 'readme_url', 'content', 'plan', 'steps', 'optional_steps', 'extra_info_optional'],\n",
       "        num_rows: 6\n",
       "    })\n",
       "    test: Dataset({\n",
       "        features: ['software', 'repo_name', 'readme_url', 'content', 'plan', 'steps', 'optional_steps', 'extra_info_optional'],\n",
       "        num_rows: 23\n",
       "    })\n",
       "})"
      ]
     },
     "execution_count": 6,
     "metadata": {},
     "output_type": "execute_result"
    }
   ],
   "source": [
    "dataset = dataset[\"train\"].train_test_split(train_size=0.8, seed=3)\n",
    "dataset[\"validation\"] = dataset.pop(\"test\")\n",
    "dataset[\"test\"] = dataset[\"train\"]\n",
    "dataset"
   ]
  },
  {
   "cell_type": "code",
   "execution_count": 7,
   "metadata": {},
   "outputs": [
    {
     "data": {
      "image/png": "[encoded data removed]",
      "text/plain": [
       "<Figure size 1500x600 with 1 Axes>"
      ]
     },
     "metadata": {},
     "output_type": "display_data"
    },
    {
     "data": {
      "image/png": "[encoded data removed]",
      "text/plain": [
       "<Figure size 1500x600 with 1 Axes>"
      ]
     },
     "metadata": {},
     "output_type": "display_data"
    },
    {
     "data": {
      "image/png": "[encoded data removed]",
      "text/plain": [
       "<Figure size 1500x600 with 1 Axes>"
      ]
     },
     "metadata": {},
     "output_type": "display_data"
    }
   ],
   "source": [
    "from transformers import AutoTokenizer\n",
    "import matplotlib.pyplot as plt\n",
    "import seaborn as sns\n",
    "\n",
    "# 1. Load the tokenizer\n",
    "tokenizer = AutoTokenizer.from_pretrained(\"NousResearch/Llama-2-7b-hf\")\n",
    "\n",
    "# 2. Tokenize each row and count the number of tokens\n",
    "instruction_token_counts = [len(tokenizer.tokenize(example[\"content\"])) for example in dataset['train']]\n",
    "output_token_counts = [len(tokenizer.tokenize(example[\"plan\"])) for example in dataset['train']]\n",
    "combined_token_counts = [instruction + output for instruction, output in zip(instruction_token_counts, output_token_counts)]\n",
    "\n",
    "# Helper function to plot the distributions\n",
    "def plot_distribution(token_counts, title):\n",
    "    sns.set_style(\"whitegrid\")\n",
    "    plt.figure(figsize=(15, 6))\n",
    "    plt.hist(token_counts, bins=50, color='#3498db', edgecolor='black')\n",
    "    plt.title(title, fontsize=16)\n",
    "    plt.xlabel(\"Number of tokens\", fontsize=14)\n",
    "    plt.ylabel(\"Number of examples\", fontsize=14)\n",
    "    plt.xticks(fontsize=12)\n",
    "    plt.yticks(fontsize=12)\n",
    "    plt.tight_layout()\n",
    "    plt.show()\n",
    "\n",
    "# Plot the distribution of token counts\n",
    "plot_distribution(instruction_token_counts, \"Distribution of token counts for instruction only\")\n",
    "plot_distribution(output_token_counts, \"Distribution of token counts for output only\")\n",
    "plot_distribution(combined_token_counts, \"Distribution of token counts for combined instruction + output\")"
   ]
  },
  {
   "cell_type": "code",
   "execution_count": null,
   "metadata": {},
   "outputs": [],
   "source": []
  },
  {
   "cell_type": "code",
   "execution_count": 8,
   "metadata": {},
   "outputs": [],
   "source": [
    "# preproces data\n",
    "# create tokenizer\n",
    "tokenizer = AutoTokenizer.from_pretrained(model_checkpoint, add_prefix_space=True)"
   ]
  },
  {
   "cell_type": "code",
   "execution_count": 9,
   "metadata": {},
   "outputs": [
    {
     "data": {
      "application/vnd.jupyter.widget-view+json": {
       "model_id": "fa5bdf40e29b4146ac7d912b63832b70",
       "version_major": 2,
       "version_minor": 0
      },
      "text/plain": [
       "Map:   0%|          | 0/23 [00:00<?, ? examples/s]"
      ]
     },
     "metadata": {},
     "output_type": "display_data"
    },
    {
     "data": {
      "application/vnd.jupyter.widget-view+json": {
       "model_id": "98baae454ffa45e6b895c2e15e222336",
       "version_major": 2,
       "version_minor": 0
      },
      "text/plain": [
       "Map:   0%|          | 0/6 [00:00<?, ? examples/s]"
      ]
     },
     "metadata": {},
     "output_type": "display_data"
    },
    {
     "data": {
      "application/vnd.jupyter.widget-view+json": {
       "model_id": "c0113c166bfd4950b60e29e221d49ff1",
       "version_major": 2,
       "version_minor": 0
      },
      "text/plain": [
       "Map:   0%|          | 0/23 [00:00<?, ? examples/s]"
      ]
     },
     "metadata": {},
     "output_type": "display_data"
    },
    {
     "data": {
      "text/plain": [
       "DatasetDict({\n",
       "    train: Dataset({\n",
       "        features: ['software', 'repo_name', 'readme_url', 'content', 'plan', 'steps', 'optional_steps', 'extra_info_optional', 'input_ids', 'attention_mask'],\n",
       "        num_rows: 23\n",
       "    })\n",
       "    validation: Dataset({\n",
       "        features: ['software', 'repo_name', 'readme_url', 'content', 'plan', 'steps', 'optional_steps', 'extra_info_optional', 'input_ids', 'attention_mask'],\n",
       "        num_rows: 6\n",
       "    })\n",
       "    test: Dataset({\n",
       "        features: ['software', 'repo_name', 'readme_url', 'content', 'plan', 'steps', 'optional_steps', 'extra_info_optional', 'input_ids', 'attention_mask'],\n",
       "        num_rows: 23\n",
       "    })\n",
       "})"
      ]
     },
     "execution_count": 9,
     "metadata": {},
     "output_type": "execute_result"
    }
   ],
   "source": [
    "# create tokenize function\n",
    "def tokenize_function(examples):\n",
    "    # extract text\n",
    "    text = examples[\"content\"]\n",
    "\n",
    "    #tokenize and truncate text\n",
    "    tokenizer.truncation_side = \"left\"\n",
    "    tokenized_inputs = tokenizer(\n",
    "        text,\n",
    "        return_tensors=\"np\",\n",
    "        truncation=True,\n",
    "        max_length=512\n",
    "    )\n",
    "\n",
    "    return tokenized_inputs\n",
    "\n",
    "# add pad token if none exists\n",
    "if tokenizer.pad_token is None:\n",
    "    tokenizer.add_special_tokens({'pad_token': '[PAD]'})\n",
    "    model.resize_token_embeddings(len(tokenizer))\n",
    "\n",
    "# tokenize training and validation datasets\n",
    "tokenized_dataset = dataset.map(tokenize_function, batched=True)\n",
    "tokenized_dataset"
   ]
  },
  {
   "cell_type": "code",
   "execution_count": 10,
   "metadata": {},
   "outputs": [],
   "source": [
    "# create data collator\n",
    "data_collator = DataCollatorWithPadding(tokenizer=tokenizer)"
   ]
  },
  {
   "cell_type": "code",
   "execution_count": 11,
   "metadata": {},
   "outputs": [],
   "source": [
    "# import accuracy evaluation metric\n",
    "accuracy = evaluate.load(\"accuracy\")\n",
    "\n",
    "# define an evaluation function to pass into trainer later\n",
    "def compute_metrics(p):\n",
    "    predictions, labels = p\n",
    "    predictions = np.argmax(predictions, axis=1)\n",
    "\n",
    "    return {\"accuracy\": accuracy.compute(predictions=predictions, \n",
    "                                          references=labels)}"
   ]
  },
  {
   "cell_type": "code",
   "execution_count": 12,
   "metadata": {},
   "outputs": [
    {
     "name": "stdout",
     "output_type": "stream",
     "text": [
      "Untrained model predictions:\n",
      "----------------------------\n",
      "conda install. - Source\n",
      "you should download. - Source\n",
      "first step is to clone the repo. - Source\n",
      "```python3 install requirements.txt```. - Source\n",
      "docker run . - Source\n"
     ]
    }
   ],
   "source": [
    "# define list of examples\n",
    "text_list = [\"conda install.\", \"you should download.\", \n",
    "\"first step is to clone the repo.\", \"```python3 install requirements.txt```.\", \n",
    "\"docker run .\"]\n",
    "\n",
    "print(\"Untrained model predictions:\")\n",
    "print(\"----------------------------\")\n",
    "for text in text_list:\n",
    "    # tokenize text\n",
    "    inputs = tokenizer.encode(text, return_tensors=\"pt\")\n",
    "    # compute logits\n",
    "    logits = model(inputs).logits\n",
    "    # convert logits to label\n",
    "    predictions = torch.argmax(logits)\n",
    "\n",
    "    print(text + \" - \" + id2label[predictions.tolist()])"
   ]
  },
  {
   "cell_type": "code",
   "execution_count": 13,
   "metadata": {},
   "outputs": [],
   "source": [
    "# fine tuning with lora\n",
    "peft_config = LoraConfig(task_type=\"SEQ_CLS\", # sequence classification\n",
    "                        r=4, # intrinsic rank of trainable weight matrix\n",
    "                        lora_alpha=32, # this is like a learning rate\n",
    "                        lora_dropout=0.01, # probablity of dropout\n",
    "                        target_modules = ['q_lin']) # we apply lora to query layer only"
   ]
  },
  {
   "cell_type": "code",
   "execution_count": 14,
   "metadata": {},
   "outputs": [
    {
     "name": "stdout",
     "output_type": "stream",
     "text": [
      "trainable params: 1,222,662 || all params: 67,585,542 || trainable%: 1.8090585113603144\n"
     ]
    }
   ],
   "source": [
    "# train model\n",
    "model = get_peft_model(model, peft_config)\n",
    "model.print_trainable_parameters()"
   ]
  },
  {
   "cell_type": "code",
   "execution_count": 15,
   "metadata": {},
   "outputs": [],
   "source": [
    "# define hyperparameters for model training\n",
    "# hyperparameters\n",
    "lr = 1e-3 # size of optimization step \n",
    "batch_size = 4 # number of examples processed per optimziation step\n",
    "num_epochs = 10 # number of times model runs through training data\n",
    "\n",
    "# define training arguments\n",
    "training_args = TrainingArguments(\n",
    "    output_dir= model_checkpoint + \"-lora-text-classification\",\n",
    "    learning_rate=lr,\n",
    "    per_device_train_batch_size=batch_size, \n",
    "    per_device_eval_batch_size=batch_size,\n",
    "    num_train_epochs=num_epochs,\n",
    "    weight_decay=0.01,\n",
    "    evaluation_strategy=\"epoch\",\n",
    "    save_strategy=\"epoch\",\n",
    "    load_best_model_at_end=True,\n",
    ")"
   ]
  },
  {
   "cell_type": "code",
   "execution_count": 17,
   "metadata": {},
   "outputs": [
    {
     "data": {
      "application/vnd.jupyter.widget-view+json": {
       "model_id": "6c0f2582ab0249ce9345337ae52397d8",
       "version_major": 2,
       "version_minor": 0
      },
      "text/plain": [
       "  0%|          | 0/60 [00:00<?, ?it/s]"
      ]
     },
     "metadata": {},
     "output_type": "display_data"
    },
    {
     "ename": "ValueError",
     "evalue": "The model did not return a loss from the inputs, only the following keys: logits. For reference, the inputs it received are input_ids,attention_mask.",
     "output_type": "error",
     "traceback": [
      "\u001b[0;31m---------------------------------------------------------------------------\u001b[0m",
      "\u001b[0;31mValueError\u001b[0m                                Traceback (most recent call last)",
      "Cell \u001b[0;32mIn[17], line 13\u001b[0m\n\u001b[1;32m      2\u001b[0m trainer \u001b[38;5;241m=\u001b[39m Trainer(\n\u001b[1;32m      3\u001b[0m     model\u001b[38;5;241m=\u001b[39mmodel, \u001b[38;5;66;03m# our peft model\u001b[39;00m\n\u001b[1;32m      4\u001b[0m     args\u001b[38;5;241m=\u001b[39mtraining_args, \u001b[38;5;66;03m# hyperparameters\u001b[39;00m\n\u001b[0;32m   (...)\u001b[0m\n\u001b[1;32m      9\u001b[0m     compute_metrics\u001b[38;5;241m=\u001b[39mcompute_metrics, \u001b[38;5;66;03m# evaluates model using compute_metrics() function from before\u001b[39;00m\n\u001b[1;32m     10\u001b[0m )\n\u001b[1;32m     12\u001b[0m \u001b[38;5;66;03m# train model\u001b[39;00m\n\u001b[0;32m---> 13\u001b[0m \u001b[43mtrainer\u001b[49m\u001b[38;5;241;43m.\u001b[39;49m\u001b[43mtrain\u001b[49m\u001b[43m(\u001b[49m\u001b[43m)\u001b[49m\n",
      "File \u001b[0;32m~/mambaforge/envs/coderefinery/lib/python3.11/site-packages/transformers/trainer.py:1555\u001b[0m, in \u001b[0;36mTrainer.train\u001b[0;34m(self, resume_from_checkpoint, trial, ignore_keys_for_eval, **kwargs)\u001b[0m\n\u001b[1;32m   1553\u001b[0m         hf_hub_utils\u001b[38;5;241m.\u001b[39menable_progress_bars()\n\u001b[1;32m   1554\u001b[0m \u001b[38;5;28;01melse\u001b[39;00m:\n\u001b[0;32m-> 1555\u001b[0m     \u001b[38;5;28;01mreturn\u001b[39;00m \u001b[43minner_training_loop\u001b[49m\u001b[43m(\u001b[49m\n\u001b[1;32m   1556\u001b[0m \u001b[43m        \u001b[49m\u001b[43margs\u001b[49m\u001b[38;5;241;43m=\u001b[39;49m\u001b[43margs\u001b[49m\u001b[43m,\u001b[49m\n\u001b[1;32m   1557\u001b[0m \u001b[43m        \u001b[49m\u001b[43mresume_from_checkpoint\u001b[49m\u001b[38;5;241;43m=\u001b[39;49m\u001b[43mresume_from_checkpoint\u001b[49m\u001b[43m,\u001b[49m\n\u001b[1;32m   1558\u001b[0m \u001b[43m        \u001b[49m\u001b[43mtrial\u001b[49m\u001b[38;5;241;43m=\u001b[39;49m\u001b[43mtrial\u001b[49m\u001b[43m,\u001b[49m\n\u001b[1;32m   1559\u001b[0m \u001b[43m        \u001b[49m\u001b[43mignore_keys_for_eval\u001b[49m\u001b[38;5;241;43m=\u001b[39;49m\u001b[43mignore_keys_for_eval\u001b[49m\u001b[43m,\u001b[49m\n\u001b[1;32m   1560\u001b[0m \u001b[43m    \u001b[49m\u001b[43m)\u001b[49m\n",
      "File \u001b[0;32m~/mambaforge/envs/coderefinery/lib/python3.11/site-packages/transformers/trainer.py:1837\u001b[0m, in \u001b[0;36mTrainer._inner_training_loop\u001b[0;34m(self, batch_size, args, resume_from_checkpoint, trial, ignore_keys_for_eval)\u001b[0m\n\u001b[1;32m   1834\u001b[0m     \u001b[38;5;28mself\u001b[39m\u001b[38;5;241m.\u001b[39mcontrol \u001b[38;5;241m=\u001b[39m \u001b[38;5;28mself\u001b[39m\u001b[38;5;241m.\u001b[39mcallback_handler\u001b[38;5;241m.\u001b[39mon_step_begin(args, \u001b[38;5;28mself\u001b[39m\u001b[38;5;241m.\u001b[39mstate, \u001b[38;5;28mself\u001b[39m\u001b[38;5;241m.\u001b[39mcontrol)\n\u001b[1;32m   1836\u001b[0m \u001b[38;5;28;01mwith\u001b[39;00m \u001b[38;5;28mself\u001b[39m\u001b[38;5;241m.\u001b[39maccelerator\u001b[38;5;241m.\u001b[39maccumulate(model):\n\u001b[0;32m-> 1837\u001b[0m     tr_loss_step \u001b[38;5;241m=\u001b[39m \u001b[38;5;28;43mself\u001b[39;49m\u001b[38;5;241;43m.\u001b[39;49m\u001b[43mtraining_step\u001b[49m\u001b[43m(\u001b[49m\u001b[43mmodel\u001b[49m\u001b[43m,\u001b[49m\u001b[43m \u001b[49m\u001b[43minputs\u001b[49m\u001b[43m)\u001b[49m\n\u001b[1;32m   1839\u001b[0m \u001b[38;5;28;01mif\u001b[39;00m (\n\u001b[1;32m   1840\u001b[0m     args\u001b[38;5;241m.\u001b[39mlogging_nan_inf_filter\n\u001b[1;32m   1841\u001b[0m     \u001b[38;5;129;01mand\u001b[39;00m \u001b[38;5;129;01mnot\u001b[39;00m is_torch_tpu_available()\n\u001b[1;32m   1842\u001b[0m     \u001b[38;5;129;01mand\u001b[39;00m (torch\u001b[38;5;241m.\u001b[39misnan(tr_loss_step) \u001b[38;5;129;01mor\u001b[39;00m torch\u001b[38;5;241m.\u001b[39misinf(tr_loss_step))\n\u001b[1;32m   1843\u001b[0m ):\n\u001b[1;32m   1844\u001b[0m     \u001b[38;5;66;03m# if loss is nan or inf simply add the average of previous logged losses\u001b[39;00m\n\u001b[1;32m   1845\u001b[0m     tr_loss \u001b[38;5;241m+\u001b[39m\u001b[38;5;241m=\u001b[39m tr_loss \u001b[38;5;241m/\u001b[39m (\u001b[38;5;241m1\u001b[39m \u001b[38;5;241m+\u001b[39m \u001b[38;5;28mself\u001b[39m\u001b[38;5;241m.\u001b[39mstate\u001b[38;5;241m.\u001b[39mglobal_step \u001b[38;5;241m-\u001b[39m \u001b[38;5;28mself\u001b[39m\u001b[38;5;241m.\u001b[39m_globalstep_last_logged)\n",
      "File \u001b[0;32m~/mambaforge/envs/coderefinery/lib/python3.11/site-packages/transformers/trainer.py:2682\u001b[0m, in \u001b[0;36mTrainer.training_step\u001b[0;34m(self, model, inputs)\u001b[0m\n\u001b[1;32m   2679\u001b[0m     \u001b[38;5;28;01mreturn\u001b[39;00m loss_mb\u001b[38;5;241m.\u001b[39mreduce_mean()\u001b[38;5;241m.\u001b[39mdetach()\u001b[38;5;241m.\u001b[39mto(\u001b[38;5;28mself\u001b[39m\u001b[38;5;241m.\u001b[39margs\u001b[38;5;241m.\u001b[39mdevice)\n\u001b[1;32m   2681\u001b[0m \u001b[38;5;28;01mwith\u001b[39;00m \u001b[38;5;28mself\u001b[39m\u001b[38;5;241m.\u001b[39mcompute_loss_context_manager():\n\u001b[0;32m-> 2682\u001b[0m     loss \u001b[38;5;241m=\u001b[39m \u001b[38;5;28;43mself\u001b[39;49m\u001b[38;5;241;43m.\u001b[39;49m\u001b[43mcompute_loss\u001b[49m\u001b[43m(\u001b[49m\u001b[43mmodel\u001b[49m\u001b[43m,\u001b[49m\u001b[43m \u001b[49m\u001b[43minputs\u001b[49m\u001b[43m)\u001b[49m\n\u001b[1;32m   2684\u001b[0m \u001b[38;5;28;01mif\u001b[39;00m \u001b[38;5;28mself\u001b[39m\u001b[38;5;241m.\u001b[39margs\u001b[38;5;241m.\u001b[39mn_gpu \u001b[38;5;241m>\u001b[39m \u001b[38;5;241m1\u001b[39m:\n\u001b[1;32m   2685\u001b[0m     loss \u001b[38;5;241m=\u001b[39m loss\u001b[38;5;241m.\u001b[39mmean()  \u001b[38;5;66;03m# mean() to average on multi-gpu parallel training\u001b[39;00m\n",
      "File \u001b[0;32m~/mambaforge/envs/coderefinery/lib/python3.11/site-packages/transformers/trainer.py:2724\u001b[0m, in \u001b[0;36mTrainer.compute_loss\u001b[0;34m(self, model, inputs, return_outputs)\u001b[0m\n\u001b[1;32m   2722\u001b[0m \u001b[38;5;28;01melse\u001b[39;00m:\n\u001b[1;32m   2723\u001b[0m     \u001b[38;5;28;01mif\u001b[39;00m \u001b[38;5;28misinstance\u001b[39m(outputs, \u001b[38;5;28mdict\u001b[39m) \u001b[38;5;129;01mand\u001b[39;00m \u001b[38;5;124m\"\u001b[39m\u001b[38;5;124mloss\u001b[39m\u001b[38;5;124m\"\u001b[39m \u001b[38;5;129;01mnot\u001b[39;00m \u001b[38;5;129;01min\u001b[39;00m outputs:\n\u001b[0;32m-> 2724\u001b[0m         \u001b[38;5;28;01mraise\u001b[39;00m \u001b[38;5;167;01mValueError\u001b[39;00m(\n\u001b[1;32m   2725\u001b[0m             \u001b[38;5;124m\"\u001b[39m\u001b[38;5;124mThe model did not return a loss from the inputs, only the following keys: \u001b[39m\u001b[38;5;124m\"\u001b[39m\n\u001b[1;32m   2726\u001b[0m             \u001b[38;5;124mf\u001b[39m\u001b[38;5;124m\"\u001b[39m\u001b[38;5;132;01m{\u001b[39;00m\u001b[38;5;124m'\u001b[39m\u001b[38;5;124m,\u001b[39m\u001b[38;5;124m'\u001b[39m\u001b[38;5;241m.\u001b[39mjoin(outputs\u001b[38;5;241m.\u001b[39mkeys())\u001b[38;5;132;01m}\u001b[39;00m\u001b[38;5;124m. For reference, the inputs it received are \u001b[39m\u001b[38;5;132;01m{\u001b[39;00m\u001b[38;5;124m'\u001b[39m\u001b[38;5;124m,\u001b[39m\u001b[38;5;124m'\u001b[39m\u001b[38;5;241m.\u001b[39mjoin(inputs\u001b[38;5;241m.\u001b[39mkeys())\u001b[38;5;132;01m}\u001b[39;00m\u001b[38;5;124m.\u001b[39m\u001b[38;5;124m\"\u001b[39m\n\u001b[1;32m   2727\u001b[0m         )\n\u001b[1;32m   2728\u001b[0m     \u001b[38;5;66;03m# We don't use .loss here since the model may return tuples instead of ModelOutput.\u001b[39;00m\n\u001b[1;32m   2729\u001b[0m     loss \u001b[38;5;241m=\u001b[39m outputs[\u001b[38;5;124m\"\u001b[39m\u001b[38;5;124mloss\u001b[39m\u001b[38;5;124m\"\u001b[39m] \u001b[38;5;28;01mif\u001b[39;00m \u001b[38;5;28misinstance\u001b[39m(outputs, \u001b[38;5;28mdict\u001b[39m) \u001b[38;5;28;01melse\u001b[39;00m outputs[\u001b[38;5;241m0\u001b[39m]\n",
      "\u001b[0;31mValueError\u001b[0m: The model did not return a loss from the inputs, only the following keys: logits. For reference, the inputs it received are input_ids,attention_mask."
     ]
    }
   ],
   "source": [
    "# creater trainer object\n",
    "trainer = Trainer(\n",
    "    model=model, # our peft model\n",
    "    args=training_args, # hyperparameters\n",
    "    train_dataset=tokenized_dataset[\"train\"], # training data\n",
    "    eval_dataset=tokenized_dataset[\"validation\"], # validation data\n",
    "    tokenizer=tokenizer, # define tokenizer\n",
    "    data_collator=data_collator, # this will dynamically pad examples in each batch to be equal length\n",
    "    compute_metrics=compute_metrics, # evaluates model using compute_metrics() function from before\n",
    ")\n",
    "\n",
    "# train model\n",
    "trainer.train()"
   ]
  },
  {
   "cell_type": "code",
   "execution_count": null,
   "metadata": {},
   "outputs": [
    {
     "name": "stdout",
     "output_type": "stream",
     "text": [
      "corpus_generator.ipynb\n",
      "\u001b[1m\u001b[36mdata\u001b[m\u001b[m/\n",
      "\u001b[1m\u001b[36mdistilbert-base-uncased-lora-text-classification\u001b[m\u001b[m/\n",
      "explore_instructions.ipynb\n",
      "extractINSTALL.py\n",
      "mapper.py\n",
      "\u001b[1m\u001b[36mresults\u001b[m\u001b[m/\n"
     ]
    },
    {
     "name": "stderr",
     "output_type": "stream",
     "text": [
      "huggingface/tokenizers: The current process just got forked, after parallelism has already been used. Disabling parallelism to avoid deadlocks...\n",
      "To disable this warning, you can either:\n",
      "\t- Avoid using `tokenizers` before the fork if possible\n",
      "\t- Explicitly set the environment variable TOKENIZERS_PARALLELISM=(true | false)\n"
     ]
    }
   ],
   "source": [
    "%ls"
   ]
  },
  {
   "cell_type": "code",
   "execution_count": null,
   "metadata": {},
   "outputs": [],
   "source": [
    "trainer.save_model(\"results/ft-model\")"
   ]
  },
  {
   "cell_type": "code",
   "execution_count": null,
   "metadata": {},
   "outputs": [],
   "source": [
    "from transformers import pipeline\n",
    "from transformers import AutoModelForTokenClassification\n",
    "from transformers import AutoTokenizer\n",
    "from transformers import TokenClassificationPipeline\n",
    "import torch\n"
   ]
  },
  {
   "cell_type": "code",
   "execution_count": null,
   "metadata": {},
   "outputs": [],
   "source": [
    "EXAMPLE = \"where are you?\""
   ]
  },
  {
   "cell_type": "code",
   "execution_count": null,
   "metadata": {},
   "outputs": [],
   "source": [
    "tokenizer = AutoTokenizer.from_pretrained(\"karlholten/distilbert-carpentries-restaurant-ner\")"
   ]
  },
  {
   "cell_type": "code",
   "execution_count": null,
   "metadata": {},
   "outputs": [],
   "source": [
    "model = AutoModelForTokenClassification.from_pretrained(\"karlholten/distilbert-carpentries-restaurant-ner\")"
   ]
  },
  {
   "cell_type": "code",
   "execution_count": null,
   "metadata": {},
   "outputs": [],
   "source": [
    "nlp = pipeline(\"ner\", model=model, tokenizer=tokenizer, aggregation_strategy=\"first\")"
   ]
  },
  {
   "cell_type": "code",
   "execution_count": null,
   "metadata": {},
   "outputs": [],
   "source": [
    "ner_results = nlp(EXAMPLE)"
   ]
  },
  {
   "cell_type": "code",
   "execution_count": null,
   "metadata": {},
   "outputs": [
    {
     "name": "stdout",
     "output_type": "stream",
     "text": [
      "[]\n"
     ]
    }
   ],
   "source": [
    "print(ner_results)"
   ]
  }
 ],
 "metadata": {
  "kernelspec": {
   "display_name": "base",
   "language": "python",
   "name": "python3"
  },
  "language_info": {
   "codemirror_mode": {
    "name": "ipython",
    "version": 3
   },
   "file_extension": ".py",
   "mimetype": "text/x-python",
   "name": "python",
   "nbconvert_exporter": "python",
   "pygments_lexer": "ipython3",
   "version": "3.11.5"
  }
 },
 "nbformat": 4,
 "nbformat_minor": 2
}
