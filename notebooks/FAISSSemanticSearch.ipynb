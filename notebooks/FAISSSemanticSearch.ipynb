{
 "cells": [
  {
   "cell_type": "markdown",
   "metadata": {},
   "source": [
    "### Semantic Search with FAISS"
   ]
  },
  {
   "cell_type": "code",
   "execution_count": 2,
   "metadata": {},
   "outputs": [
    {
     "data": {
      "application/vnd.jupyter.widget-view+json": {
       "model_id": "4c117fb7dd114dd3914cc7ddb00b650b",
       "version_major": 2,
       "version_minor": 0
      },
      "text/plain": [
       "Downloading readme:   0%|          | 0.00/826 [00:00<?, ?B/s]"
      ]
     },
     "metadata": {},
     "output_type": "display_data"
    },
    {
     "data": {
      "application/vnd.jupyter.widget-view+json": {
       "model_id": "1d748db2f3284ef7b819a0769899c4ea",
       "version_major": 2,
       "version_minor": 0
      },
      "text/plain": [
       "Downloading data:   0%|          | 0.00/62.7k [00:00<?, ?B/s]"
      ]
     },
     "metadata": {},
     "output_type": "display_data"
    },
    {
     "data": {
      "application/vnd.jupyter.widget-view+json": {
       "model_id": "83efe7c08d6948c6b22e3876d3b574e0",
       "version_major": 2,
       "version_minor": 0
      },
      "text/plain": [
       "Generating train split: 0 examples [00:00, ? examples/s]"
      ]
     },
     "metadata": {},
     "output_type": "display_data"
    },
    {
     "data": {
      "text/plain": [
       "Dataset({\n",
       "    features: ['software', 'repo_name', 'readme_url', 'content', 'plan', 'steps', 'optional_steps', 'extra_info_optional'],\n",
       "    num_rows: 39\n",
       "})"
      ]
     },
     "execution_count": 2,
     "metadata": {},
     "output_type": "execute_result"
    }
   ],
   "source": [
    "# load dataset\n",
    "from datasets import load_dataset\n",
    "\n",
    "\n",
    "df_install = load_dataset(\"carlosug/ResearchInstall\", split=\"train\")\n",
    "df_install\n",
    "\n"
   ]
  },
  {
   "cell_type": "code",
   "execution_count": 3,
   "metadata": {},
   "outputs": [
    {
     "data": {
      "text/plain": [
       "Dataset({\n",
       "    features: ['software', 'readme_url', 'content', 'plan', 'steps'],\n",
       "    num_rows: 39\n",
       "})"
      ]
     },
     "execution_count": 3,
     "metadata": {},
     "output_type": "execute_result"
    }
   ],
   "source": [
    "columns = df_install.column_names\n",
    "columns\n",
    "columns_to_keep = [\"software\", \"content\", \"readme_url\", \"steps\", \"plan\"]\n",
    "columns_to_remove = set(columns_to_keep).symmetric_difference(columns)\n",
    "df_install = df_install.remove_columns(columns_to_remove)\n",
    "df_install"
   ]
  },
  {
   "cell_type": "code",
   "execution_count": 4,
   "metadata": {},
   "outputs": [
    {
     "data": {
      "text/html": [
       "<div>\n",
       "<style scoped>\n",
       "    .dataframe tbody tr th:only-of-type {\n",
       "        vertical-align: middle;\n",
       "    }\n",
       "\n",
       "    .dataframe tbody tr th {\n",
       "        vertical-align: top;\n",
       "    }\n",
       "\n",
       "    .dataframe thead th {\n",
       "        text-align: right;\n",
       "    }\n",
       "</style>\n",
       "<table border=\"1\" class=\"dataframe\">\n",
       "  <thead>\n",
       "    <tr style=\"text-align: right;\">\n",
       "      <th></th>\n",
       "      <th>software</th>\n",
       "      <th>readme_url</th>\n",
       "      <th>content</th>\n",
       "      <th>plan</th>\n",
       "      <th>steps</th>\n",
       "    </tr>\n",
       "  </thead>\n",
       "  <tbody>\n",
       "    <tr>\n",
       "      <th>0</th>\n",
       "      <td>vcr-video-representation-for-contextual</td>\n",
       "      <td>https://raw.githubusercontent.com/oronnir/VCR/...</td>\n",
       "      <td>None</td>\n",
       "      <td>None</td>\n",
       "      <td>None</td>\n",
       "    </tr>\n",
       "    <tr>\n",
       "      <th>1</th>\n",
       "      <td>ensuring-trustworthy-and-ethical-behaviour-in</td>\n",
       "      <td>https://raw.githubusercontent.com/AAAI-DISIM-U...</td>\n",
       "      <td>## Installation\\n\\n**OS X &amp; Linux:**\\n1.  To d...</td>\n",
       "      <td>binary, source</td>\n",
       "      <td>[plan binary]&gt;&gt;step1. follow the instructions ...</td>\n",
       "    </tr>\n",
       "    <tr>\n",
       "      <th>2</th>\n",
       "      <td>synthesizing-sentiment-controlled-feedback</td>\n",
       "      <td>https://raw.githubusercontent.com/MIntelligenc...</td>\n",
       "      <td>None</td>\n",
       "      <td>None</td>\n",
       "      <td>None</td>\n",
       "    </tr>\n",
       "    <tr>\n",
       "      <th>3</th>\n",
       "      <td>only-the-curve-shape-matters-training</td>\n",
       "      <td>https://raw.githubusercontent.com/cfeng783/GTT...</td>\n",
       "      <td>## Getting Started\\n\\n#### Install dependencie...</td>\n",
       "      <td>source</td>\n",
       "      <td>[plan source]&gt;&gt; [INCOMPLETE] step1. Install de...</td>\n",
       "    </tr>\n",
       "    <tr>\n",
       "      <th>4</th>\n",
       "      <td>from-uncertainty-to-precision-enhancing</td>\n",
       "      <td>https://raw.githubusercontent.com/fer-agathe/c...</td>\n",
       "      <td>None</td>\n",
       "      <td>None</td>\n",
       "      <td>None</td>\n",
       "    </tr>\n",
       "    <tr>\n",
       "      <th>5</th>\n",
       "      <td>stochastic-gradient-flow-dynamics-of-test</td>\n",
       "      <td>https://raw.githubusercontent.com/rodsveiga/sg...</td>\n",
       "      <td>None</td>\n",
       "      <td>None</td>\n",
       "      <td>None</td>\n",
       "    </tr>\n",
       "    <tr>\n",
       "      <th>6</th>\n",
       "      <td>accuracy-of-textfooler-black-box-adversarial</td>\n",
       "      <td>https://raw.githubusercontent.com/zero-one-los...</td>\n",
       "      <td>None</td>\n",
       "      <td>None</td>\n",
       "      <td>None</td>\n",
       "    </tr>\n",
       "    <tr>\n",
       "      <th>7</th>\n",
       "      <td>differentially-private-decentralized-learning-1</td>\n",
       "      <td>https://raw.githubusercontent.com/totilas/DPra...</td>\n",
       "      <td>None</td>\n",
       "      <td>None</td>\n",
       "      <td>None</td>\n",
       "    </tr>\n",
       "    <tr>\n",
       "      <th>8</th>\n",
       "      <td>aydiv-adaptable-yielding-3d-object-detection</td>\n",
       "      <td>https://raw.githubusercontent.com/sanjay-810/A...</td>\n",
       "      <td>### **Installation**\\n1.  Prepare for the runn...</td>\n",
       "      <td>source,docker</td>\n",
       "      <td>[plan source]&gt;&gt; step1. Prepare for the running...</td>\n",
       "    </tr>\n",
       "    <tr>\n",
       "      <th>9</th>\n",
       "      <td>cartesian-atomic-cluster-expansion-for</td>\n",
       "      <td>https://raw.githubusercontent.com/BingqingChen...</td>\n",
       "      <td>## Installation\\n\\nPlease refer to the `setup....</td>\n",
       "      <td>source</td>\n",
       "      <td>[plan source]&gt;&gt;[INCOMPLETE] step1. please refe...</td>\n",
       "    </tr>\n",
       "    <tr>\n",
       "      <th>10</th>\n",
       "      <td>teller-a-trustworthy-framework-for</td>\n",
       "      <td>https://raw.githubusercontent.com/less-and-les...</td>\n",
       "      <td>## Getting Started\\n\\nStep 1: Download the dat...</td>\n",
       "      <td>binary</td>\n",
       "      <td>[plan binary]&gt;&gt; step1: Download the dataset fo...</td>\n",
       "    </tr>\n",
       "    <tr>\n",
       "      <th>11</th>\n",
       "      <td>continuous-time-radar-inertial-and-lidar</td>\n",
       "      <td>https://raw.githubusercontent.com/utiasASRL/st...</td>\n",
       "      <td>## Installation\\n\\nClone this repository and i...</td>\n",
       "      <td>source</td>\n",
       "      <td>[plan source]&gt;&gt; step1. clone this repository a...</td>\n",
       "    </tr>\n",
       "    <tr>\n",
       "      <th>12</th>\n",
       "      <td>towards-a-thermodynamical-deep-learning</td>\n",
       "      <td>https://raw.githubusercontent.com/fedezocco/Th...</td>\n",
       "      <td>None</td>\n",
       "      <td>None</td>\n",
       "      <td>None</td>\n",
       "    </tr>\n",
       "    <tr>\n",
       "      <th>13</th>\n",
       "      <td>robust-parameter-fitting-to-realistic-network</td>\n",
       "      <td>https://raw.githubusercontent.com/PFischbeck/p...</td>\n",
       "      <td># Installation\\n\\n- Make sure you have Python,...</td>\n",
       "      <td>source</td>\n",
       "      <td>[plan source]&gt;&gt; step1. Make sure you have Pyth...</td>\n",
       "    </tr>\n",
       "    <tr>\n",
       "      <th>14</th>\n",
       "      <td>get-tok-a-genai-enriched-multimodal-tiktok</td>\n",
       "      <td>https://raw.githubusercontent.com/gabbypinto/G...</td>\n",
       "      <td>## Installation\\npip install -r requirements.t...</td>\n",
       "      <td>packagemanager</td>\n",
       "      <td>[plan packagemanager]&gt;&gt;step1. pip install -r r...</td>\n",
       "    </tr>\n",
       "    <tr>\n",
       "      <th>15</th>\n",
       "      <td>a-longitudinal-study-of-italian-and-french</td>\n",
       "      <td>https://raw.githubusercontent.com/orsoFra/LS_F...</td>\n",
       "      <td>None</td>\n",
       "      <td>None</td>\n",
       "      <td>None</td>\n",
       "    </tr>\n",
       "    <tr>\n",
       "      <th>16</th>\n",
       "      <td>geometric-slosh-free-tracking-for-robotic</td>\n",
       "      <td>https://raw.githubusercontent.com/jonarriza96/...</td>\n",
       "      <td>## Installation\\n\\n### Dependencies\\n\\nInitial...</td>\n",
       "      <td>source</td>\n",
       "      <td>[plan source]&gt;&gt; step1. Check dependencies. ste...</td>\n",
       "    </tr>\n",
       "    <tr>\n",
       "      <th>17</th>\n",
       "      <td>real-time-line-based-room-segmentation-and</td>\n",
       "      <td>https://raw.githubusercontent.com/EricssonRese...</td>\n",
       "      <td>## Installation\\nThe project can be installed ...</td>\n",
       "      <td>source</td>\n",
       "      <td>[plan source]&gt;&gt;[INCOMPLETE]step1. Run the comm...</td>\n",
       "    </tr>\n",
       "    <tr>\n",
       "      <th>18</th>\n",
       "      <td>viga</td>\n",
       "      <td>https://raw.githubusercontent.com/viralInforma...</td>\n",
       "      <td>## Installation\\n\\n### Step1: Download VIGA\\n\\...</td>\n",
       "      <td>source</td>\n",
       "      <td>[plan source]&gt;&gt; step1. Download VIGA with Git ...</td>\n",
       "    </tr>\n",
       "    <tr>\n",
       "      <th>19</th>\n",
       "      <td>lncrtpred</td>\n",
       "      <td>https://raw.githubusercontent.com/zglabDIB/Lnc...</td>\n",
       "      <td>None</td>\n",
       "      <td>None</td>\n",
       "      <td>None</td>\n",
       "    </tr>\n",
       "    <tr>\n",
       "      <th>20</th>\n",
       "      <td>nrn-ez</td>\n",
       "      <td>https://raw.githubusercontent.com/scimemia/NRN...</td>\n",
       "      <td>**INSTALLATION FOR VERSION 1.1.6**\\n\\nNRN-EZ w...</td>\n",
       "      <td>binary</td>\n",
       "      <td>[plan binary]&gt;&gt; step1. install requirements:\\n...</td>\n",
       "    </tr>\n",
       "    <tr>\n",
       "      <th>21</th>\n",
       "      <td>causnet</td>\n",
       "      <td>https://raw.githubusercontent.com/nand1155/Cau...</td>\n",
       "      <td>## Installation\\n\\nYou can install the develop...</td>\n",
       "      <td>source</td>\n",
       "      <td>[source]&gt;&gt;step1.install the development versio...</td>\n",
       "    </tr>\n",
       "    <tr>\n",
       "      <th>22</th>\n",
       "      <td>viralcc</td>\n",
       "      <td>https://raw.githubusercontent.com/dyxstat/Repr...</td>\n",
       "      <td>\"# Instruction of reproducing results in Viral...</td>\n",
       "      <td>source</td>\n",
       "      <td>[plan source]&gt;&gt;step1.download and preprocess t...</td>\n",
       "    </tr>\n",
       "    <tr>\n",
       "      <th>23</th>\n",
       "      <td>DRaW</td>\n",
       "      <td>https://raw.githubusercontent.com/Bioinformati...</td>\n",
       "      <td># Running DRaW on COVID-19 datasets\\nThe DRaW ...</td>\n",
       "      <td>source</td>\n",
       "      <td>[plan source]&gt;&gt;step1.execute \"Drug-Repurposing...</td>\n",
       "    </tr>\n",
       "    <tr>\n",
       "      <th>24</th>\n",
       "      <td>NRN-EZ</td>\n",
       "      <td>https://raw.githubusercontent.com/scimemia/NRN...</td>\n",
       "      <td>**INSTALLATION FOR VERSION 1.1.6**\\n\\nNRN-EZ w...</td>\n",
       "      <td>source</td>\n",
       "      <td>[plan source]&gt;&gt;step1. install the requirements...</td>\n",
       "    </tr>\n",
       "    <tr>\n",
       "      <th>25</th>\n",
       "      <td>guiding-instruction-based-image-editing-via</td>\n",
       "      <td>https://raw.githubusercontent.com/apple/ml-mgi...</td>\n",
       "      <td>## Requirements\\n```\\nconda create -n mgie pyt...</td>\n",
       "      <td>source</td>\n",
       "      <td>[plan source]&gt;&gt; step1. create conda environmen...</td>\n",
       "    </tr>\n",
       "    <tr>\n",
       "      <th>26</th>\n",
       "      <td>self-play-fine-tuning-converts-weak-language</td>\n",
       "      <td>https://raw.githubusercontent.com/uclaml/SPIN/...</td>\n",
       "      <td>## Setup\\nThe following steps provide the nece...</td>\n",
       "      <td>source</td>\n",
       "      <td>[plan source]&gt;&gt;step1.create a Python virtual e...</td>\n",
       "    </tr>\n",
       "    <tr>\n",
       "      <th>27</th>\n",
       "      <td>genegpt-teaching-large-language-models-to-use</td>\n",
       "      <td>https://raw.githubusercontent.com/ncbi/GeneGPT...</td>\n",
       "      <td># Requirements\\n\\nThe code has been tested wit...</td>\n",
       "      <td>source</td>\n",
       "      <td>[plan source]&gt;&gt;step1.install requirements:\\n``...</td>\n",
       "    </tr>\n",
       "    <tr>\n",
       "      <th>28</th>\n",
       "      <td>the-boundary-of-neural-network-trainability</td>\n",
       "      <td>https://raw.githubusercontent.com/Sohl-Dickste...</td>\n",
       "      <td>None</td>\n",
       "      <td>None</td>\n",
       "      <td>None</td>\n",
       "    </tr>\n",
       "    <tr>\n",
       "      <th>29</th>\n",
       "      <td>learning-to-fly-in-seconds</td>\n",
       "      <td>https://raw.githubusercontent.com/arplaborator...</td>\n",
       "      <td>## Instructions to run the code\\n### Docker (i...</td>\n",
       "      <td>source,docker</td>\n",
       "      <td>[plan1&gt;&gt;Docker (isolated)]\\nstep1: Execute a s...</td>\n",
       "    </tr>\n",
       "    <tr>\n",
       "      <th>30</th>\n",
       "      <td>/LargeWorldModel/LWM</td>\n",
       "      <td>https://raw.githubusercontent.com/LargeWorldMo...</td>\n",
       "      <td>## Setup\\nInstall the requirements with:\\n```\\...</td>\n",
       "      <td>packagemanager, source</td>\n",
       "      <td>[plan packagemanager]&gt;&gt;step1.install the requi...</td>\n",
       "    </tr>\n",
       "    <tr>\n",
       "      <th>31</th>\n",
       "      <td>microsoft/UFO</td>\n",
       "      <td>https://raw.githubusercontent.com/microsoft/UF...</td>\n",
       "      <td>### ___ Step 1: Installation\\nUFO requires **P...</td>\n",
       "      <td>source</td>\n",
       "      <td>[plan source]&gt;&gt;step1: Run the following comman...</td>\n",
       "    </tr>\n",
       "    <tr>\n",
       "      <th>32</th>\n",
       "      <td>/catid/dora</td>\n",
       "      <td>https://raw.githubusercontent.com/catid/dora/m...</td>\n",
       "      <td>## Demo\\n\\nInstall conda: https://docs.conda.i...</td>\n",
       "      <td>source</td>\n",
       "      <td>[plan source]&gt;&gt;step1. install conda:https://do...</td>\n",
       "    </tr>\n",
       "    <tr>\n",
       "      <th>33</th>\n",
       "      <td>YOLO-World</td>\n",
       "      <td>https://raw.githubusercontent.com/AILab-CVC/YO...</td>\n",
       "      <td>### 1. Installation\\n\\nYOLO-World is developed...</td>\n",
       "      <td>source</td>\n",
       "      <td>[plan source]&gt;&gt;step1. clone repository:\\n```\\n...</td>\n",
       "    </tr>\n",
       "    <tr>\n",
       "      <th>34</th>\n",
       "      <td>FasterDecoding/BitDelta</td>\n",
       "      <td>https://raw.githubusercontent.com/FasterDecodi...</td>\n",
       "      <td>## Install\\n\\n1. Clone the repo and navigate t...</td>\n",
       "      <td>source</td>\n",
       "      <td>[plan source]&gt;&gt;step1.clone the repo and naviga...</td>\n",
       "    </tr>\n",
       "    <tr>\n",
       "      <th>35</th>\n",
       "      <td>tensorflow</td>\n",
       "      <td>https://raw.githubusercontent.com/tensorflow/t...</td>\n",
       "      <td>## Install\\n\\nSee the [TensorFlow install guid...</td>\n",
       "      <td>packagemanager</td>\n",
       "      <td>[plan packagemanager]&gt;&gt;via pip. step1.:\\n```\\n...</td>\n",
       "    </tr>\n",
       "    <tr>\n",
       "      <th>36</th>\n",
       "      <td>transformers</td>\n",
       "      <td>https://raw.githubusercontent.com/huggingface/...</td>\n",
       "      <td>## Installation\\n\\n### With pip\\n\\nThis reposi...</td>\n",
       "      <td>packagemanager</td>\n",
       "      <td>[plan packagemanager]&gt;&gt;via pip:\\nstep1. instal...</td>\n",
       "    </tr>\n",
       "    <tr>\n",
       "      <th>37</th>\n",
       "      <td>langchain</td>\n",
       "      <td>https://raw.githubusercontent.com/langchain-ai...</td>\n",
       "      <td>## Quick Install\\n\\nWith pip:\\n```bash\\npip in...</td>\n",
       "      <td>packagemanager</td>\n",
       "      <td>[plan packagemanager]&gt;&gt;step1: via pip\\n```bash...</td>\n",
       "    </tr>\n",
       "    <tr>\n",
       "      <th>38</th>\n",
       "      <td>DIG/dig-stable</td>\n",
       "      <td>https://raw.githubusercontent.com/divelab/DIG/...</td>\n",
       "      <td>## Installation\\n\\n### Install from pip\\nThe k...</td>\n",
       "      <td>packagemanager</td>\n",
       "      <td>[plan packagemanager]&gt;&gt;step 1. Install [PyTorc...</td>\n",
       "    </tr>\n",
       "  </tbody>\n",
       "</table>\n",
       "</div>"
      ],
      "text/plain": [
       "                                           software  \\\n",
       "0           vcr-video-representation-for-contextual   \n",
       "1     ensuring-trustworthy-and-ethical-behaviour-in   \n",
       "2        synthesizing-sentiment-controlled-feedback   \n",
       "3             only-the-curve-shape-matters-training   \n",
       "4           from-uncertainty-to-precision-enhancing   \n",
       "5         stochastic-gradient-flow-dynamics-of-test   \n",
       "6      accuracy-of-textfooler-black-box-adversarial   \n",
       "7   differentially-private-decentralized-learning-1   \n",
       "8      aydiv-adaptable-yielding-3d-object-detection   \n",
       "9            cartesian-atomic-cluster-expansion-for   \n",
       "10               teller-a-trustworthy-framework-for   \n",
       "11         continuous-time-radar-inertial-and-lidar   \n",
       "12          towards-a-thermodynamical-deep-learning   \n",
       "13    robust-parameter-fitting-to-realistic-network   \n",
       "14       get-tok-a-genai-enriched-multimodal-tiktok   \n",
       "15       a-longitudinal-study-of-italian-and-french   \n",
       "16        geometric-slosh-free-tracking-for-robotic   \n",
       "17       real-time-line-based-room-segmentation-and   \n",
       "18                                             viga   \n",
       "19                                        lncrtpred   \n",
       "20                                           nrn-ez   \n",
       "21                                          causnet   \n",
       "22                                          viralcc   \n",
       "23                                             DRaW   \n",
       "24                                           NRN-EZ   \n",
       "25      guiding-instruction-based-image-editing-via   \n",
       "26     self-play-fine-tuning-converts-weak-language   \n",
       "27    genegpt-teaching-large-language-models-to-use   \n",
       "28      the-boundary-of-neural-network-trainability   \n",
       "29                       learning-to-fly-in-seconds   \n",
       "30                             /LargeWorldModel/LWM   \n",
       "31                                    microsoft/UFO   \n",
       "32                                      /catid/dora   \n",
       "33                                       YOLO-World   \n",
       "34                          FasterDecoding/BitDelta   \n",
       "35                                       tensorflow   \n",
       "36                                     transformers   \n",
       "37                                        langchain   \n",
       "38                                   DIG/dig-stable   \n",
       "\n",
       "                                           readme_url  \\\n",
       "0   https://raw.githubusercontent.com/oronnir/VCR/...   \n",
       "1   https://raw.githubusercontent.com/AAAI-DISIM-U...   \n",
       "2   https://raw.githubusercontent.com/MIntelligenc...   \n",
       "3   https://raw.githubusercontent.com/cfeng783/GTT...   \n",
       "4   https://raw.githubusercontent.com/fer-agathe/c...   \n",
       "5   https://raw.githubusercontent.com/rodsveiga/sg...   \n",
       "6   https://raw.githubusercontent.com/zero-one-los...   \n",
       "7   https://raw.githubusercontent.com/totilas/DPra...   \n",
       "8   https://raw.githubusercontent.com/sanjay-810/A...   \n",
       "9   https://raw.githubusercontent.com/BingqingChen...   \n",
       "10  https://raw.githubusercontent.com/less-and-les...   \n",
       "11  https://raw.githubusercontent.com/utiasASRL/st...   \n",
       "12  https://raw.githubusercontent.com/fedezocco/Th...   \n",
       "13  https://raw.githubusercontent.com/PFischbeck/p...   \n",
       "14  https://raw.githubusercontent.com/gabbypinto/G...   \n",
       "15  https://raw.githubusercontent.com/orsoFra/LS_F...   \n",
       "16  https://raw.githubusercontent.com/jonarriza96/...   \n",
       "17  https://raw.githubusercontent.com/EricssonRese...   \n",
       "18  https://raw.githubusercontent.com/viralInforma...   \n",
       "19  https://raw.githubusercontent.com/zglabDIB/Lnc...   \n",
       "20  https://raw.githubusercontent.com/scimemia/NRN...   \n",
       "21  https://raw.githubusercontent.com/nand1155/Cau...   \n",
       "22  https://raw.githubusercontent.com/dyxstat/Repr...   \n",
       "23  https://raw.githubusercontent.com/Bioinformati...   \n",
       "24  https://raw.githubusercontent.com/scimemia/NRN...   \n",
       "25  https://raw.githubusercontent.com/apple/ml-mgi...   \n",
       "26  https://raw.githubusercontent.com/uclaml/SPIN/...   \n",
       "27  https://raw.githubusercontent.com/ncbi/GeneGPT...   \n",
       "28  https://raw.githubusercontent.com/Sohl-Dickste...   \n",
       "29  https://raw.githubusercontent.com/arplaborator...   \n",
       "30  https://raw.githubusercontent.com/LargeWorldMo...   \n",
       "31  https://raw.githubusercontent.com/microsoft/UF...   \n",
       "32  https://raw.githubusercontent.com/catid/dora/m...   \n",
       "33  https://raw.githubusercontent.com/AILab-CVC/YO...   \n",
       "34  https://raw.githubusercontent.com/FasterDecodi...   \n",
       "35  https://raw.githubusercontent.com/tensorflow/t...   \n",
       "36  https://raw.githubusercontent.com/huggingface/...   \n",
       "37  https://raw.githubusercontent.com/langchain-ai...   \n",
       "38  https://raw.githubusercontent.com/divelab/DIG/...   \n",
       "\n",
       "                                              content                    plan  \\\n",
       "0                                                None                    None   \n",
       "1   ## Installation\\n\\n**OS X & Linux:**\\n1.  To d...          binary, source   \n",
       "2                                                None                    None   \n",
       "3   ## Getting Started\\n\\n#### Install dependencie...                  source   \n",
       "4                                                None                    None   \n",
       "5                                                None                    None   \n",
       "6                                                None                    None   \n",
       "7                                                None                    None   \n",
       "8   ### **Installation**\\n1.  Prepare for the runn...           source,docker   \n",
       "9   ## Installation\\n\\nPlease refer to the `setup....                  source   \n",
       "10  ## Getting Started\\n\\nStep 1: Download the dat...                  binary   \n",
       "11  ## Installation\\n\\nClone this repository and i...                  source   \n",
       "12                                               None                    None   \n",
       "13  # Installation\\n\\n- Make sure you have Python,...                  source   \n",
       "14  ## Installation\\npip install -r requirements.t...          packagemanager   \n",
       "15                                               None                    None   \n",
       "16  ## Installation\\n\\n### Dependencies\\n\\nInitial...                  source   \n",
       "17  ## Installation\\nThe project can be installed ...                  source   \n",
       "18  ## Installation\\n\\n### Step1: Download VIGA\\n\\...                  source   \n",
       "19                                               None                    None   \n",
       "20  **INSTALLATION FOR VERSION 1.1.6**\\n\\nNRN-EZ w...                  binary   \n",
       "21  ## Installation\\n\\nYou can install the develop...                  source   \n",
       "22  \"# Instruction of reproducing results in Viral...                  source   \n",
       "23  # Running DRaW on COVID-19 datasets\\nThe DRaW ...                  source   \n",
       "24  **INSTALLATION FOR VERSION 1.1.6**\\n\\nNRN-EZ w...                  source   \n",
       "25  ## Requirements\\n```\\nconda create -n mgie pyt...                  source   \n",
       "26  ## Setup\\nThe following steps provide the nece...                  source   \n",
       "27  # Requirements\\n\\nThe code has been tested wit...                  source   \n",
       "28                                               None                    None   \n",
       "29  ## Instructions to run the code\\n### Docker (i...           source,docker   \n",
       "30  ## Setup\\nInstall the requirements with:\\n```\\...  packagemanager, source   \n",
       "31  ### ___ Step 1: Installation\\nUFO requires **P...                  source   \n",
       "32  ## Demo\\n\\nInstall conda: https://docs.conda.i...                  source   \n",
       "33  ### 1. Installation\\n\\nYOLO-World is developed...                  source   \n",
       "34  ## Install\\n\\n1. Clone the repo and navigate t...                  source   \n",
       "35  ## Install\\n\\nSee the [TensorFlow install guid...          packagemanager   \n",
       "36  ## Installation\\n\\n### With pip\\n\\nThis reposi...          packagemanager   \n",
       "37  ## Quick Install\\n\\nWith pip:\\n```bash\\npip in...          packagemanager   \n",
       "38  ## Installation\\n\\n### Install from pip\\nThe k...          packagemanager   \n",
       "\n",
       "                                                steps  \n",
       "0                                                None  \n",
       "1   [plan binary]>>step1. follow the instructions ...  \n",
       "2                                                None  \n",
       "3   [plan source]>> [INCOMPLETE] step1. Install de...  \n",
       "4                                                None  \n",
       "5                                                None  \n",
       "6                                                None  \n",
       "7                                                None  \n",
       "8   [plan source]>> step1. Prepare for the running...  \n",
       "9   [plan source]>>[INCOMPLETE] step1. please refe...  \n",
       "10  [plan binary]>> step1: Download the dataset fo...  \n",
       "11  [plan source]>> step1. clone this repository a...  \n",
       "12                                               None  \n",
       "13  [plan source]>> step1. Make sure you have Pyth...  \n",
       "14  [plan packagemanager]>>step1. pip install -r r...  \n",
       "15                                               None  \n",
       "16  [plan source]>> step1. Check dependencies. ste...  \n",
       "17  [plan source]>>[INCOMPLETE]step1. Run the comm...  \n",
       "18  [plan source]>> step1. Download VIGA with Git ...  \n",
       "19                                               None  \n",
       "20  [plan binary]>> step1. install requirements:\\n...  \n",
       "21  [source]>>step1.install the development versio...  \n",
       "22  [plan source]>>step1.download and preprocess t...  \n",
       "23  [plan source]>>step1.execute \"Drug-Repurposing...  \n",
       "24  [plan source]>>step1. install the requirements...  \n",
       "25  [plan source]>> step1. create conda environmen...  \n",
       "26  [plan source]>>step1.create a Python virtual e...  \n",
       "27  [plan source]>>step1.install requirements:\\n``...  \n",
       "28                                               None  \n",
       "29  [plan1>>Docker (isolated)]\\nstep1: Execute a s...  \n",
       "30  [plan packagemanager]>>step1.install the requi...  \n",
       "31  [plan source]>>step1: Run the following comman...  \n",
       "32  [plan source]>>step1. install conda:https://do...  \n",
       "33  [plan source]>>step1. clone repository:\\n```\\n...  \n",
       "34  [plan source]>>step1.clone the repo and naviga...  \n",
       "35  [plan packagemanager]>>via pip. step1.:\\n```\\n...  \n",
       "36  [plan packagemanager]>>via pip:\\nstep1. instal...  \n",
       "37  [plan packagemanager]>>step1: via pip\\n```bash...  \n",
       "38  [plan packagemanager]>>step 1. Install [PyTorc...  "
      ]
     },
     "execution_count": 4,
     "metadata": {},
     "output_type": "execute_result"
    }
   ],
   "source": [
    "df_install.to_pandas()"
   ]
  },
  {
   "cell_type": "code",
   "execution_count": 5,
   "metadata": {},
   "outputs": [
    {
     "data": {
      "application/vnd.jupyter.widget-view+json": {
       "model_id": "6c2fc16c97e540d58dfe73678618846c",
       "version_major": 2,
       "version_minor": 0
      },
      "text/plain": [
       "Filter:   0%|          | 0/39 [00:00<?, ? examples/s]"
      ]
     },
     "metadata": {},
     "output_type": "display_data"
    },
    {
     "data": {
      "text/plain": [
       "Dataset({\n",
       "    features: ['software', 'readme_url', 'content', 'plan', 'steps'],\n",
       "    num_rows: 29\n",
       "})"
      ]
     },
     "execution_count": 5,
     "metadata": {},
     "output_type": "execute_result"
    }
   ],
   "source": [
    "df_install = df_install.filter(\n",
    "    lambda x: (x[\"content\"] != None)\n",
    ")\n",
    "df_install"
   ]
  },
  {
   "cell_type": "code",
   "execution_count": 6,
   "metadata": {},
   "outputs": [],
   "source": [
    "df_install.set_format(\"pandas\")\n",
    "df2install = df_install[:]\n",
    "# df2install[\"readme_url\"][0].tolist() error str object has no attribute 'tolist'"
   ]
  },
  {
   "cell_type": "code",
   "execution_count": 7,
   "metadata": {},
   "outputs": [
    {
     "data": {
      "text/plain": [
       "'[plan source]>> step1. Prepare for the running environment. step2. prepare for the data:```cd Aydiv python depth_to_lidar.py ```\\n[plan docker]>> step1. You can use the docker image provided by [`OpenPCDet`](https://github.com/open-mmlab/OpenPCDet)'"
      ]
     },
     "execution_count": 7,
     "metadata": {},
     "output_type": "execute_result"
    }
   ],
   "source": [
    "df_install.set_format(\"pandas\")\n",
    "dataset_carlos = df_install[:]\n",
    "dataset_carlos[\"steps\"][2]"
   ]
  },
  {
   "cell_type": "code",
   "execution_count": 26,
   "metadata": {},
   "outputs": [
    {
     "data": {
      "text/plain": [
       "software      object\n",
       "readme_url    object\n",
       "content       object\n",
       "plan          object\n",
       "steps         object\n",
       "dtype: object"
      ]
     },
     "execution_count": 26,
     "metadata": {},
     "output_type": "execute_result"
    }
   ],
   "source": [
    "content_df = df2install.explode(\"content\", ignore_index=True)\n",
    "content_df.head(4)\n",
    "content_df.dtypes"
   ]
  },
  {
   "cell_type": "code",
   "execution_count": 20,
   "metadata": {},
   "outputs": [
    {
     "data": {
      "text/plain": [
       "Dataset({\n",
       "    features: ['software', 'readme_url', 'content', 'plan', 'steps'],\n",
       "    num_rows: 29\n",
       "})"
      ]
     },
     "execution_count": 20,
     "metadata": {},
     "output_type": "execute_result"
    }
   ],
   "source": [
    "from datasets import Dataset\n",
    "\n",
    "content_dataset = Dataset.from_pandas(content_df)\n",
    "content_dataset"
   ]
  },
  {
   "cell_type": "code",
   "execution_count": 21,
   "metadata": {},
   "outputs": [
    {
     "data": {
      "application/vnd.jupyter.widget-view+json": {
       "model_id": "5786cea4550a40a2850695a9ec699267",
       "version_major": 2,
       "version_minor": 0
      },
      "text/plain": [
       "Map:   0%|          | 0/29 [00:00<?, ? examples/s]"
      ]
     },
     "metadata": {},
     "output_type": "display_data"
    }
   ],
   "source": [
    "content_dataset = content_dataset.map(\n",
    "    lambda x: {\"content_length\": len(x[\"content\"].split())} # to count number of rows in a cell comments\n",
    ")"
   ]
  },
  {
   "cell_type": "code",
   "execution_count": 22,
   "metadata": {},
   "outputs": [],
   "source": [
    "# content_dataset = content_dataset.filter(lambda x: x[\"content_length\"] > 1) # filter small comments\n",
    "# content_dataset"
   ]
  },
  {
   "cell_type": "code",
   "execution_count": 28,
   "metadata": {},
   "outputs": [
    {
     "data": {
      "application/vnd.jupyter.widget-view+json": {
       "model_id": "c2383ef14ea04568a92aace4b46c3867",
       "version_major": 2,
       "version_minor": 0
      },
      "text/plain": [
       "Map:   0%|          | 0/29 [00:00<?, ? examples/s]"
      ]
     },
     "metadata": {},
     "output_type": "display_data"
    }
   ],
   "source": [
    "def concatenate_text(examples):\n",
    "    return {\n",
    "        \"text\": examples[\"software\"]\n",
    "        + \" \\n \"\n",
    "        + examples[\"content\"]\n",
    "        + \" \\n \"\n",
    "        + examples[\"plan\"]\n",
    "        + \" \\n \"\n",
    "        + examples[\"steps\"]\n",
    "        + \" \\n \"\n",
    "        # + examples[\"seq_order\"] no string\n",
    "    }\n",
    "\n",
    "\n",
    "content_dataset = content_dataset.map(concatenate_text)"
   ]
  },
  {
   "cell_type": "code",
   "execution_count": 29,
   "metadata": {},
   "outputs": [
    {
     "data": {
      "text/plain": [
       "['ensuring-trustworthy-and-ethical-behaviour-in \\n ## Installation\\n\\n**OS X & Linux:**\\n1.  To download and install SICStus Prolog (it is needed), follow the instructions at https://sicstus.sics.se/download4.html.\\n2.  Then, you can download DALI and test it by running an example DALI MAS:\\n```sh\\ngit clone https://github.com/AAAI-DISIM-UnivAQ/DALI.git\\ncd DALI/Examples/advanced\\nbash startmas.sh\\n```\\n&nbsp;&nbsp;&nbsp;&nbsp; You will see different windows opening:\\n* &nbsp;&nbsp;&nbsp;&nbsp; Prolog LINDA server (active_server_wi.pl)\\n* &nbsp;&nbsp;&nbsp;&nbsp; Prolog FIPA client (active_user_wi.pl) \\n* &nbsp;&nbsp;&nbsp;&nbsp; 1 instance of DALI metaintepreter for each agent (active_dali_wi.pl)\\n\\n**Windows:**\\n1.  To download and install SICStus Prolog (it is needed), follow the instructions at https://sicstus.sics.se/download4.html.\\n2.  Then, you can download DALI from https://github.com/AAAI-DISIM-UnivAQ/DALI.git.\\n3.  Unzip the repository, go to the folder \"DALI/Examples/basic\", and test if DALI works by duble clicking \"startmas.bat\" file (this will launch an example DALI MAS). \\\\\\n\\\\\\n&nbsp;&nbsp;&nbsp;&nbsp; You will see different windows opening:\\n* &nbsp;&nbsp;&nbsp;&nbsp; Prolog LINDA server (active_server_wi.pl)\\n* &nbsp;&nbsp;&nbsp;&nbsp; Prolog FIPA client (active_user_wi.pl) \\n* &nbsp;&nbsp;&nbsp;&nbsp; 1 instance of DALI metaintepreter for each agent (active_dali_wi.pl) \\n binary, source \\n [plan binary]>>step1. follow the instructions at https://sicstus.sics.se/download4.html.\\n[plan source]>>step 2. download DALI. step3. test it by running an example DALI MAS:\\n```sh\\ngit clone https://github.com/AAAI-DISIM-UnivAQ/DALI.git\\ncd DALI/Examples/advanced\\nbash startmas.sh\\n``` \\n ',\n",
       " 'only-the-curve-shape-matters-training \\n ## Getting Started\\n\\n#### Install dependencies (with python 3.10) \\n\\n```shell\\npip install -r requirements.txt\\n``` \\n source \\n [plan source]>> [INCOMPLETE] step1. Install dependencies with ```pip install -r requirements.txt``` \\n ',\n",
       " 'aydiv-adaptable-yielding-3d-object-detection \\n ### **Installation**\\n1.  Prepare for the running environment. \\n\\n    You can use the docker image provided by [`OpenPCDet`](https://github.com/open-mmlab/OpenPCDet). Our experiments are based on the\\n    docker provided by Voxel-R-CNN and we use NVIDIA Tesla V100 to train our Aydiv.\\n\\n2. Prepare for the data.\\n\\n    Convert Argoverse 2 (or) waymo open Dataset into kitti format [`converter`](https://github.com/sanjay-810/AYDIV_ICRA/tree/main/data_converter/convert)\\n\\n    Please prepare dataset as [`OpenPCDet`](https://github.com/open-mmlab/OpenPCDet).  \\n    \\n    To generate depth_pseudo_rgbseguv_twise by yourself with depth_dense_twise as follows:\\n\\n    ```\\n    cd Aydiv\\n    python depth_to_lidar.py\\n    ```\\n    \\n    If you want to generate dense depth maps by yourself, it is recommended to use [`TWISE`](https://github.com/imransai/TWISE). The dense depth maps we provide are generated by TWISE. Anyway, you should have your dataset as follows:\\n\\n    ```\\n    Aydiv\\n    ___ data\\n    _   ___ waymo_aydiv_seguv_twise\\n    _   _   ___ ImageSets\\n    _   _   ___ training\\n    _   _   _   ___calib & velodyne & label_2 & image_2 & (optional: planes) & depth_dense_twise & depth_pseudo_rgbseguv_twise\\n    _   _   ___ testing\\n    _   _   _   ___calib & velodyne & image_2 & depth_dense_twise & depth_pseudo_rgbseguv_twise\\n    ___ pcdet\\n    ___ tools\\n    ```\\n    Each pseudo point in depth_pseudo_rgbseguv_twise has 9 attributes (x, y, z, r, g, b, seg, u, v). It should be noted that we do not use the seg attribute, because the image segmentation results cannot bring improvement to Aydiv in our experiments. Argoverse 2 data should be in same format.\\n\\n3. Setup.\\n\\n    ```\\n    cd Aydiv\\n    python setup.py develop\\n    cd pcdet/ops/iou3d/cuda_op\\n    python setup.py develop\\n    cd ../../../..\\n    ``` \\n source,docker \\n [plan source]>> step1. Prepare for the running environment. step2. prepare for the data:```cd Aydiv python depth_to_lidar.py ```\\n[plan docker]>> step1. You can use the docker image provided by [`OpenPCDet`](https://github.com/open-mmlab/OpenPCDet) \\n ',\n",
       " 'cartesian-atomic-cluster-expansion-for \\n ## Installation\\n\\nPlease refer to the `setup.py` file for installation instructions. \\n source \\n [plan source]>>[INCOMPLETE] step1. please refer to the `setup.py` file for installation instructions. \\n ',\n",
       " 'teller-a-trustworthy-framework-for \\n ## Getting Started\\n\\nStep 1: Download the dataset folder from onedrive by [data.zip](https://portland-my.sharepoint.com/:u:/g/personal/liuhui3-c_my_cityu_edu_hk/EfApQlFP3PhFjUW4527STo0BALMdP16zs-HPMNgwQVFWsA?e=zoHlW2). Unzip this folder into the project  directory.  You can find four orginal datasets,  pre-processed datasets (i.e., val.jsonl, test.jsonl, train.jsonl in each dataset folder) and the files incuding questions and answers \\n\\nStep 2: Place you OpenAI key into the file named api_key.txt. \\n\\n```\\nopenai.api_key = \"\"\\n``` \\n binary \\n [plan binary]>> step1: Download the dataset folder from onedrive by https://portland-my.sharepoint.com/:u:/g/personal/liuhui3-c_my_cityu_edu_hk/EfApQlFP3PhFjUW4527STo0BALMdP16zs-HPMNgwQVFWsA?e=zoHlW2. \\nstep2. Unzip this folder into the project  directory.\\nstep3. Place you OpenAI key into the file named api_key.txt.\\n```\\nopenai.api_key = \"\"\\n``` \\n ',\n",
       " 'continuous-time-radar-inertial-and-lidar \\n ## Installation\\n\\nClone this repository and its submodules.\\n\\nWe use docker to install dependencies The recommended way to build the docker image is\\n\\n```bash\\ndocker build -t steam_icp \\\\\\n  --build-arg USERID=$(id -u) \\\\\\n  --build-arg GROUPID=$(id -g) \\\\\\n  --build-arg USERNAME=$(whoami) \\\\\\n  --build-arg HOMEDIR=${HOME} .\\n```\\n\\nWhen starting a container, remember to mount the code, dataset, and output directories to proper locations in the container.\\nAn example command to start a docker container with the image is\\n\\n```bash\\ndocker run -it --name steam_icp \\\\\\n  --privileged \\\\\\n  --network=host \\\\\\n  -e DISPLAY=$DISPLAY \\\\\\n  -v /tmp/.X11-unix:/tmp/.X11-unix \\\\\\n  -v ${HOME}:${HOME}:rw \\\\\\n  steam_icp\\n```\\n\\n(Inside Container) Go to the root directory of this repository and build STEAM-ICP\\n\\n```bash\\nbash build.sh\\n``` \\n source \\n [plan source]>> step1. clone this repository and its submodules. step2.  Use docker to install dependencies  ```docker build -t steam_icp \\\\\\n  --build-arg USERID=$(id -u) \\\\\\n  --build-arg GROUPID=$(id -g) \\\\\\n  --build-arg USERNAME=$(whoami) \\\\\\n  --build-arg HOMEDIR=${HOME} .\\n``` \\nstep3. mount the code, dataset, and output directories to proper locations in the container.\\n```\\ndocker run -it --name steam_icp \\\\\\n  --privileged \\\\\\n  --network=host \\\\\\n  -e DISPLAY=$DISPLAY \\\\\\n  -v /tmp/.X11-unix:/tmp/.X11-unix \\\\\\n  -v ${HOME}:${HOME}:rw \\\\\\n  steam_icp\\nstep4.(Inside Container) Go to the root directory of this repository and build STEAM-ICP\\n```bash\\nbash build.sh\\n``` \\n ',\n",
       " 'robust-parameter-fitting-to-realistic-network \\n # Installation\\n\\n- Make sure you have Python, Pip and R installed.\\n- Checkout this repository\\n- Install the python dependencies with\\n\\n```\\npip3 install -r requirements.txt\\n```\\n\\n- Install the `pygirgs` package at https://github.com/PFischbeck/pygirgs\\n\\n- Install the R dependencies (used for plots) with\\n\\n```\\nR -e \\'install.packages(c(\"ggplot2\", \"reshape2\", \"plyr\", \"dplyr\", \"scales\"), repos=\"https://cloud.r-project.org/\")\\'\\n```\\n\\n- Download the file `konect-data.zip` from [Zenodo](https://doi.org/10.5281/zenodo.10629451) and extract its contents into the folder `input_data/konect`\\n- Optional: Download the file `output-data.zip` from [Zenodo](https://doi.org/10.5281/zenodo.10629451) and extract its contents into the folder `output_data`. This way, you can access all experiment results without running them yourself. \\n source \\n [plan source]>> step1. Make sure you have Python, Pip and R installed.\\nstep2. Checkout this repository\\nstep3. Install the python dependencies with\\n```\\npip3 install -r requirements.txt\\n```\\nstep4. Install the `pygirgs` package at https://github.com/PFischbeck/pygirgs\\nstep5. Install the R dependencies (used for plots) with\\n```\\nR -e \\'install.packages(c(\"ggplot2\", \"reshape2\", \"plyr\", \"dplyr\", \"scales\"), repos=\"https://cloud.r-project.org/\")\\'\\n```\\nstep6. Download the file `konect-data.zip` from [Zenodo](https://doi.org/10.5281/zenodo.10629451) and extract its contents into the folder `input_data/konect`\\nstep7. Optional: Download the file `output-data.zip` from [Zenodo](https://doi.org/10.5281/zenodo.10629451) and extract its contents into the folder `output_data`. This way, you can access all experiment results without running them yourself. \\n ',\n",
       " \"get-tok-a-genai-enriched-multimodal-tiktok \\n ## Installation\\npip install -r requirements.txt \\n\\n*Note: I did not us a virtual environment so the packages in the requirements.txt file are probably not reflective of all the packages used in this project. If some issues pop up please don't hesitate to email me at: gpinto@usc.edu* \\n packagemanager \\n [plan packagemanager]>>step1. pip install -r requirements.txt  \\n \",\n",
       " 'geometric-slosh-free-tracking-for-robotic \\n ## Installation\\n\\n### Dependencies\\n\\nInitialize git submodules with\\n\\n```\\n    git submodule init\\n    git submodule update\\n```\\n\\n### Python environment\\n\\nInstall the specific versions of every package from `requirements.txt` in a new conda environment:\\n\\n```\\nconda create --name gsft python=3.9\\nconda activate gsft\\npip install -r requirements.txt\\n```\\n\\nTo ensure that Python paths are properly defined, update the `~/.bashrc` by adding the following lines\\n\\n```\\nexport GSFT_PATH=/path_to_gsfc\\nexport PYTHONPATH=$PYTHONPATH:/$GSFT_PATH\\n``` \\n source \\n [plan source]>> step1. Check dependencies. step2. Initialize git submodules with\\n```\\n    git submodule init\\n    git submodule update\\n```\\nstep3. Create conda environment and install requirements:\\n```\\nconda create --name gsft python=3.9\\nconda activate gsft\\npip install -r requirements.txt\\n```\\nstep4. Create variables to ensure that Python paths are properly defined, update the `~/.bashrc` by adding the following lines\\n```\\nexport GSFT_PATH=/path_to_gsfc\\nexport PYTHONPATH=$PYTHONPATH:/$GSFT_PATH\\n``` \\n ',\n",
       " 'real-time-line-based-room-segmentation-and \\n ## Installation\\nThe project can be installed by running the following command in your terminal:\\n```bash\\npip install -r requirements.txt\\n``` \\n source \\n [plan source]>>[INCOMPLETE]step1. Run the command in your terminal:\\n```\\npip install -r requirements.txt\\n``` \\n ',\n",
       " 'viga \\n ## Installation\\n\\n### Step1: Download VIGA\\n\\nDownload VIGA with Git from GitHub\\n\\n```\\ngit clone https://github.com/viralInformatics/VIGA.git\\n```\\n\\nor Download ZIP to local\\n\\n### Step 2: Download Database\\n\\n```\\n1. download taxdmp.zip [Index of /pub/taxonomy (nih.gov)](https://ftp.ncbi.nlm.nih.gov/pub/taxonomy/) and unzip taxdmp.zip and put it in ./db/\\n\\n2. download \"prot.accession2taxid\" file from https://ftp.ncbi.nlm.nih.gov/pub/taxonomy/accession2taxid/\\n\\n3. download \"RefSeqVirusProtein\" file from\\nwget -c ftp.ncbi.nlm.nih.gov/refseq/release/viral/viral.1.protein.faa.gz\\ngzip -d viral.1.protein.faa.gz\\nmv viral.1.protein.faa RefSeqVirusProtein\\n\\n4. download \"nr\" file from\\nwget -c ftp://ftp.ncbi.nlm.nih.gov/blast/db/FASTA/nr.gz\\nor ascp -T  -i  asperaweb_id_dsa.openssh --host=ftp.ncbi.nih.gov --user=anonftp --mode=recv /blast/db/FASTA/nr.gz ./\\ngzip -d nr.gz\\n\\n5. Use Diamond v2.0.11.149 to create two separate databases as the indexing libraries in the current version are incompatible with each other.\\n\\n6. In order to set up a reference database for DIAMOND, the makedb command needs to be executed with the following command line:\\ndiamond makedb --in YourPath/RefSeqVirusProtein  -d Diamond_RefSeqVirusProtein --taxonmap YourPath/prot.accession2taxid --taxonnodes YourPath/nodes.dmp\\ndiamond makedb --in nr -d Dimond_nr --taxonmap YourPath/prot.accession2taxid --taxonnodes YourPath/nodes.dmp\\n\\n```\\n\\n### Step 3: Installation of dependent software\\n\\n#### Installing Some Software Using Conda\\n\\n```\\nconda install fastp=0.12.4 trinity=2.8.5 diamond=2.0.11.149 ragtag=2.1.0 quast=5.0.2\\n```\\n\\n#### Manual Installation of MetaCompass\\n\\nhttps://github.com/marbl/MetaCompass\\n\\n### Step 4: Python Dependencies\\n\\nBase on python 3.6.8\\n\\n```\\npip install pandas=1.1.5 numpy=1.19.5  matplotlib=3.3.4  biopython=1.79\\n```\\n \\n source \\n [plan source]>> step1. Download VIGA with Git from GitHub:\\n```\\ngit clone https://github.com/viralInformatics/VIGA.git\\n(stepOptional). or Download ZIP to local\\nstep2.download Database:\\nstep2.1.download taxdmp.zip: https://ftp.ncbi.nlm.nih.gov/pub/taxonomy/ and unzip taxdmp.zip and put it in ./db/\\nstep2.2.download \"prot.accession2taxid\" file from https://ftp.ncbi.nlm.nih.gov/pub/taxonomy/accession2taxid/\\nstep2.3.download \"RefSeqVirusProtein\" file from\\n```wget -c ftp.ncbi.nlm.nih.gov/refseq/release/viral/viral.1.protein.faa.gz\\ngzip -d viral.1.protein.faa.gz\\nmv viral.1.protein.faa RefSeqVirusProtein```\\nstep2.4. download \"nr\" file from```\\nwget -c ftp://ftp.ncbi.nlm.nih.gov/blast/db/FASTA/nr.gz\\nor ascp -T  -i  asperaweb_id_dsa.openssh --host=ftp.ncbi.nih.gov --user=anonftp --mode=recv /blast/db/FASTA/nr.gz ./\\ngzip -d nr.gz```\\nstep2.5.use Diamond v2.0.11.149 to create two separate databases.\\nstep2.6.In order to set up a reference database for DIAMOND, the makedb command needs to be executed with the following command line:\\ndiamond makedb --in YourPath/RefSeqVirusProtein  -d Diamond_RefSeqVirusProtein --taxonmap YourPath/prot.accession2taxid --taxonnodes YourPath/nodes.dmp\\ndiamond makedb --in nr -d Dimond_nr --taxonmap YourPath/prot.accession2taxid --taxonnodes YourPath/nodes.dmp\\n```\\nstep3. installing  requirements via conda\\n```\\nconda install fastp=0.12.4 trinity=2.8.5 diamond=2.0.11.149 ragtag=2.1.0 quast=5.0.2\\n```\\nstep4: install Python dependencies base on python 3.6.8\\n```\\npip install pandas=1.1.5 numpy=1.19.5  matplotlib=3.3.4  biopython=1.79\\n``` \\n ',\n",
       " 'nrn-ez \\n **INSTALLATION FOR VERSION 1.1.6**\\n\\nNRN-EZ was built with PyInstaller 3.6, and requires the following languages and libraries:\\n\\nÔøΩ\\tPython 3.6.9 and higher (currently up to 3.10)\\n\\nÔøΩ\\tPyQt 5.10.1\\n\\nÔøΩ\\tPyQtGraph 0.11.0\\n\\nInstallation instructions for Linux (Ubuntu and Pop!_OS): download the Linux zip file and, from the command window, run a bash command for the install.sh file, in the corresponding installation folder. \\n\\nInstallation instructions for Mac OS: download the Mac zip file and copy the NRN-EZ app to the Applications folder. \\n\\nInstallation instructions for Windows: download the Win zip file and run the installation wizard. \\n binary \\n [plan binary]>> step1. install requirements:\\nPython 3.6.9 and higher (currently up to 3.10)\\nPyQt 5.10.1\\nPyQtGraph 0.11.0\\nstep2. for linux:download the Linux zip file and, from the command window. step3. run a bash command for the install.sh file in the corresponding installation folder.  \\n ',\n",
       " 'causnet \\n ## Installation\\n\\nYou can install the development version from GitHub with:\\n\\n``` r\\nrequire(\"devtools\")\\ninstall_github(\"https://github.com/nand1155/CausNet\")\\n``` \\n source \\n [source]>>step1.install the development version from GitHub with:\\n``` r\\nrequire(\"devtools\")\\ninstall_github(\"https://github.com/nand1155/CausNet\")\\n``` \\n ',\n",
       " 'viralcc \\n \"# Instruction of reproducing results in ViralCC paper\\nWe take the cow fecal datasets for example. The other two datasets were processed following the same procedure.\\n\\nScripts to process the intermediate data and plot figures are available in the folder [Scripts](https://github.com/dyxstat/Reproduce_ViralCC/tree/main/Scripts).\\n\\nSource data of Figure 2 and 3 in the main text and Figure S1 in the supplementary materials are provided in the folder [Source Data](https://github.com/dyxstat/Reproduce_ViralCC/tree/main/Source%20Data).\\n\\n**Version of softwares exploited in the analyses**\\n```\\nfastq_dump command from Sratoolkit: v2.10.8\\n\\nbbduk.sh and clumpify.sh command from BBTools suite: v37.25\\n\\nmegahit command from MEGAHIT: v1.2.9\\n\\nbwa command from BWA MEM: v0.7.17\\n\\nsamtools command from Samtools: v1.15.1\\n\\nwrapper_phage_contigs_sorter_iPlant.pl command from VirSorter: v1.0.6\\n\\ncheckv command from CheckV: 0.7.0\\n```\\n\\n**Step 1 Download and preprocess the raw data**\\n\\nNote: NCBI may update its links for downloading the database. Please check the latest link at [NCBI](https://www.ncbi.nlm.nih.gov/) if you meet the download error.\\n```\\nwget https://sra-downloadb.be-md.ncbi.nlm.nih.gov/sos2/sra-pub-run-13/ERR2282092/ERR2282092.1\\nwget https://sra-downloadb.be-md.ncbi.nlm.nih.gov/sos2/sra-pub-run-13/ERR2530126/ERR2530126.1\\nwget https://sra-downloadb.be-md.ncbi.nlm.nih.gov/sos2/sra-pub-run-13/ERR2530127/ERR2530127.1\\n\\nfastq-dump --split-files --gzip ERR2282092.1\\nfastq-dump --split-files --gzip ERR2530126.1\\nfastq-dump --split-files --gzip ERR2530127.1\\n\\nbbduk.sh  in1=ERR2282092.1_1.fastq.gz in2=ERR2282092.1_2.fastq.gz out1=COWSG1_AQ.fastq.gz out2=COWSG2_AQ.fastq.gz ref=/home1/yuxuandu/cmb/SOFTWARE/bbmap/resources/adapters.fa ktrim=r k=23 mink=11 hdist=1 minlen=50 tpe tbo\\nbbduk.sh  in1=ERR2530126.1_1.fastq.gz in2=ERR2530126.1_2.fastq.gz out1=S3HIC1_AQ.fastq.gz out2=S3HIC2_AQ.fastq.gz ref=/home1/yuxuandu/cmb/SOFTWARE/bbmap/resources/adapters.fa ktrim=r k=23 mink=11 hdist=1 minlen=50 tpe tbo\\nbbduk.sh  in1=ERR2530127.1_1.fastq.gz in2=ERR2530127.1_2.fastq.gz out1=M1HIC1_AQ.fastq.gz out2=M1HIC2_AQ.fastq.gz ref=/home1/yuxuandu/cmb/SOFTWARE/bbmap/resources/adapters.fa ktrim=r k=23 mink=11 hdist=1 minlen=50 tpe tbo\\n\\nbbduk.sh  in1=S3HIC1_AQ.fastq.gz in2=S3HIC2_AQ.fastq.gz out1=S3HIC1_CL.fastq.gz out2=S3HIC2_CL.fastq.gz trimq=10 qtrim=r ftm=5 minlen=50\\nbbduk.sh  in1=M1HIC1_AQ.fastq.gz in2=M1HIC2_AQ.fastq.gz out1=M1HIC1_CL.fastq.gz out2=M1HIC2_CL.fastq.gz trimq=10 qtrim=r ftm=5 minlen=50\\nbbduk.sh  in1=COWSG1_AQ.fastq.gz in2=COWSG2_AQ.fastq.gz out1=COWSG1_CL.fastq.gz out2=COWSG2_CL.fastq.gz trimq=10 qtrim=r ftm=5 minlen=50\\n\\nbbduk.sh in1=S3HIC1_CL.fastq.gz in2=S3HIC2_CL.fastq.gz out1=S3HIC1_trim.fastq.gz out2=S3HIC2_trim.fastq.gz ftl=10\\nbbduk.sh in1=M1HIC1_CL.fastq.gz in2=M1HIC2_CL.fastq.gz out1=M1HIC1_trim.fastq.gz out2=M1HIC2_trim.fastq.gz ftl=10\\n\\nclumpify.sh in1=S3HIC1_trim.fastq.gz in2=S3HIC2_trim.fastq.gz out1=S3HIC1_dedup.fastq.gz out2=S3HIC2_dedup.fastq.gz dedupe\\nclumpify.sh in1=M1HIC1_trim.fastq.gz in2=M1HIC2_trim.fastq.gz out1=M1HIC1_dedup.fastq.gz out2=M1HIC2_dedup.fastq.gz dedupe\\ncat S3HIC1_dedup.fastq.gz M1HIC1_dedup.fastq.gz > HIC1.fastq.gz\\ncat S3HIC2_dedup.fastq.gz M1HIC2_dedup.fastq.gz > HIC2.fastq.gz\\n```\\n\\n**Step 2: Assemble contigs and align processed Hi-C reads to contigs**\\n```\\nmegahit -1 COWSG1_CL.fastq.gz -2 COWSG2_CL.fastq.gz -o COW_ASSEMBLY --min-contig-len 1000 --k-min 21 --k-max 141 --k-step 12 --merge-level 20,0.95\\n\\nbwa index final.contigs.fa\\nbwa mem -5SP final.contigs.fa HIC1.fastq.gz HIC2.fastq.gz > COW_MAP.sam\\nsamtools view -F 0x904 -bS COW_MAP.sam > COW_MAP_UNSORTED.bam\\nsamtools sort -n COW_MAP_UNSORTED.bam -o COW_MAP_SORTED.bam\\n```\\n\\n**Step3: Identify viral contigs from assembled contigs**\\n```\\nperl removesmalls.pl 3000 final.contigs.fa > cow_3000.fa\\nwrapper_phage_contigs_sorter_iPlant.pl -f cow_3000.fa --db 1 --wdir output_directory --ncpu 16 --data-dir /panfs/qcb-panasas/yuxuandu/virsorter-data\\nRscript find_viral_contig.R\\n```\\n\\n**Step4: Run ViralCC**\\n```\\npython ./viralcc.py pipeline -v final.contigs.fa COW_MAP_SORTED.bam viral.txt out_cow\\n```\\n\\n**Step5: Evaluation draft viral genomes using CheckV**\\n```\\npython concatenation.py -p out_cow/VIRAL_BIN -o viralCC_cow_bins.fa\\ncheckv end_to_end viralCC_cow_bins.fa output_checkv_viralcc_cow -t 16 -d /panfs/qcb-panasas/yuxuandu/checkv-db-v1.0\\n```\" \\n source \\n [plan source]>>step1.download and preprocess the raw data.\\n```\\nwget https://sra-downloadb.be-md.ncbi.nlm.nih.gov/sos2/sra-pub-run-13/ERR2282092/ERR2282092.1\\nwget https://sra-downloadb.be-md.ncbi.nlm.nih.gov/sos2/sra-pub-run-13/ERR2530126/ERR2530126.1\\nwget https://sra-downloadb.be-md.ncbi.nlm.nih.gov/sos2/sra-pub-run-13/ERR2530127/ERR2530127.1\\nfastq-dump --split-files --gzip ERR2282092.1\\nfastq-dump --split-files --gzip ERR2530126.1\\nfastq-dump --split-files --gzip ERR2530127.1\\nbbduk.sh  in1=ERR2282092.1_1.fastq.gz in2=ERR2282092.1_2.fastq.gz out1=COWSG1_AQ.fastq.gz out2=COWSG2_AQ.fastq.gz ref=/home1/yuxuandu/cmb/SOFTWARE/bbmap/resources/adapters.fa ktrim=r k=23 mink=11 hdist=1 minlen=50 tpe tbo\\nbbduk.sh  in1=ERR2530126.1_1.fastq.gz in2=ERR2530126.1_2.fastq.gz out1=S3HIC1_AQ.fastq.gz out2=S3HIC2_AQ.fastq.gz ref=/home1/yuxuandu/cmb/SOFTWARE/bbmap/resources/adapters.fa ktrim=r k=23 mink=11 hdist=1 minlen=50 tpe tbo\\nbbduk.sh  in1=ERR2530127.1_1.fastq.gz in2=ERR2530127.1_2.fastq.gz out1=M1HIC1_AQ.fastq.gz out2=M1HIC2_AQ.fastq.gz ref=/home1/yuxuandu/cmb/SOFTWARE/bbmap/resources/adapters.fa ktrim=r k=23 mink=11 hdist=1 minlen=50 tpe tbo\\nbbduk.sh  in1=S3HIC1_AQ.fastq.gz in2=S3HIC2_AQ.fastq.gz out1=S3HIC1_CL.fastq.gz out2=S3HIC2_CL.fastq.gz trimq=10 qtrim=r ftm=5 minlen=50\\nbbduk.sh  in1=M1HIC1_AQ.fastq.gz in2=M1HIC2_AQ.fastq.gz out1=M1HIC1_CL.fastq.gz out2=M1HIC2_CL.fastq.gz trimq=10 qtrim=r ftm=5 minlen=50\\nbbduk.sh  in1=COWSG1_AQ.fastq.gz in2=COWSG2_AQ.fastq.gz out1=COWSG1_CL.fastq.gz out2=COWSG2_CL.fastq.gz trimq=10 qtrim=r ftm=5 minlen=50\\nbbduk.sh in1=S3HIC1_CL.fastq.gz in2=S3HIC2_CL.fastq.gz out1=S3HIC1_trim.fastq.gz out2=S3HIC2_trim.fastq.gz ftl=10\\nbbduk.sh in1=M1HIC1_CL.fastq.gz in2=M1HIC2_CL.fastq.gz out1=M1HIC1_trim.fastq.gz out2=M1HIC2_trim.fastq.gz ftl=10\\nclumpify.sh in1=S3HIC1_trim.fastq.gz in2=S3HIC2_trim.fastq.gz out1=S3HIC1_dedup.fastq.gz out2=S3HIC2_dedup.fastq.gz dedupe\\nclumpify.sh in1=M1HIC1_trim.fastq.gz in2=M1HIC2_trim.fastq.gz out1=M1HIC1_dedup.fastq.gz out2=M1HIC2_dedup.fastq.gz dedupe\\ncat S3HIC1_dedup.fastq.gz M1HIC1_dedup.fastq.gz > HIC1.fastq.gz\\ncat S3HIC2_dedup.fastq.gz M1HIC2_dedup.fastq.gz > HIC2.fastq.gz\\n```\\nstep2.assemble contigs and step3. align processed Hi-C reads to contigs**\\n```\\nmegahit -1 COWSG1_CL.fastq.gz -2 COWSG2_CL.fastq.gz -o COW_ASSEMBLY --min-contig-len 1000 --k-min 21 --k-max 141 --k-step 12 --merge-level 20,0.95\\nbwa index final.contigs.fa\\nbwa mem -5SP final.contigs.fa HIC1.fastq.gz HIC2.fastq.gz > COW_MAP.sam\\nsamtools view -F 0x904 -bS COW_MAP.sam > COW_MAP_UNSORTED.bam\\nsamtools sort -n COW_MAP_UNSORTED.bam -o COW_MAP_SORTED.bam\\n```\\nstep4. identify viral contigs from assembled contigs:\\n```\\nperl removesmalls.pl 3000 final.contigs.fa > cow_3000.fa\\nwrapper_phage_contigs_sorter_iPlant.pl -f cow_3000.fa --db 1 --wdir output_directory --ncpu 16 --data-dir /panfs/qcb-panasas/yuxuandu/virsorter-data\\nRscript find_viral_contig.R\\n```\\nstep5. run ViralCC:\\n```\\npython ./viralcc.py pipeline -v final.contigs.fa COW_MAP_SORTED.bam viral.txt out_cow\\n```\\nstep6. evaluation draft viral genomes using CheckV:\\n```\\npython concatenation.py -p out_cow/VIRAL_BIN -o viralCC_cow_bins.fa\\ncheckv end_to_end viralCC_cow_bins.fa output_checkv_viralcc_cow -t 16 -d /panfs/qcb-panasas/yuxuandu/checkv-db-v1.0\\n``` \\n ',\n",
       " 'DRaW \\n # Running DRaW on COVID-19 datasets\\nThe DRaW has been applied on three COVID-19 datasets, DS1, DS2, and DS3. There are three subdirectories, ÔøΩDS1_repurÔøΩ, ÔøΩDS2_repurÔøΩ, and ÔøΩDS3_repurÔøΩ, in the ÔøΩDrug-RepurposingÔøΩ directory. Each subdirectory has been assigned to one of the mentioned datasets. We put the Draw implementation file for each dataset in each subdirectory separately. This is due to keep the corresponding hyperparameters of each dataset. \\nWe use Adam as the optimizer with a learning rate equal to 0.001, beta1 = 0.9, beta2 = 0.999, and epsilon = 1e_7. The dropout rate is set to 0.5. The batch size is chosen by the number of samples per dataset. This hyperparameter for DS1 is equal to 8, and those for DS2 and DS3 are set to 32.\\nTo run the model, it is enough to execute \"Drug-Repurposing.py\" script in the command line. After that, execute \"score.py\". The repurposed drugs will be stored in the \"meanScore.csv\" spreadsheet. It contains the average of ach drug ranking. The lower, the better. For example, to run the DRaW on DS1:\\n```bash\\ncd Drug-Repurposing\\\\DS1_repur\\npython Drug-Repurposing.py \\npython score.py\\n```\\nSame goes for other datasets. Just change the directory path.\\n# Performance analysis\\nIn order to analysis the performance, there is a one extra directory in the root, ÔøΩPerformance_analysisÔøΩ. By running following command the model is trained on a given dataset and returns its performance metrics, AUC-ROC, AUPR, F1 score, etc.   \\nThe input parameter ÔøΩdataset_nameÔøΩ is one the following five datasetsÔøΩ name. The first one is COVID-19 DS3 and other four are golden benchmarks. \\n\\'DS3\\',\\'ic\\',\\'nr\\',\\'gpcr\\',\\'e\\'\\n\\n```bash\\ncd Performance_analysis\\npython main.py dataset_name\\n``` \\n source \\n [plan source]>>step1.execute \"Drug-Repurposing.py\" script in the command line. step2. after that, execute \"score.py\":\\n```bash\\ncd Drug-Repurposing\\\\DS1_repur\\npython Drug-Repurposing.py \\npython score.py\\n``` \\n ',\n",
       " 'NRN-EZ \\n **INSTALLATION FOR VERSION 1.1.6**\\n\\nNRN-EZ was built with PyInstaller 3.6, and requires the following languages and libraries:\\n\\nÔøΩ\\tPython 3.6.9 and higher (currently up to 3.10)\\n\\nÔøΩ\\tPyQt 5.10.1\\n\\nÔøΩ\\tPyQtGraph 0.11.0\\n\\nInstallation instructions for Linux (Ubuntu and Pop!_OS): download the Linux zip file and, from the command window, run a bash command for the install.sh file, in the corresponding installation folder. \\n\\nInstallation instructions for Mac OS: download the Mac zip file and copy the NRN-EZ app to the Applications folder. \\n\\nInstallation instructions for Windows: download the Win zip file and run the installation wizard. \\n source \\n [plan source]>>step1. install the requirements:Python 3.6.9 and higher (currently up to 3.10), PyQt 5.10.1, PyQtGraph 0.11.0\\nstep2. for Linux: download the Linux zip file and, from the command window, run a bash command for the install.sh file, in the corresponding installation folder. \\nstep2. for Mac OS: download the Mac zip file and copy the NRN-EZ app to the Applications folder. \\nstep2. for Windows: download the Win zip file and run the installation wizard. \\n ',\n",
       " 'guiding-instruction-based-image-editing-via \\n ## Requirements\\n```\\nconda create -n mgie python=3.10 -y\\nconda activate mgie\\nconda update -n base -c defaults conda setuptools -y\\nconda install -c conda-forge git git-lfs ffmpeg vim htop ninja gpustat -y\\nconda clean -a -y\\n\\npip install -U pip cmake cython==0.29.36 pydantic==1.10 numpy\\npip install -U gdown pydrive2 wget jupyter jupyterlab jupyterthemes ipython\\npip install -U sentencepiece transformers diffusers tokenizers datasets gradio==3.37 accelerate evaluate git+https://github.com/openai/CLIP.git\\npip install -U https://download.pytorch.org/whl/cu113/torch-1.12.0%2Bcu113-cp310-cp310-linux_x86_64.whl https://download.pytorch.org/whl/cu113/torchvision-0.13.0%2Bcu113-cp310-cp310-linux_x86_64.whl https://download.pytorch.org/whl/cu113/torchaudio-0.12.0%2Bcu113-cp310-cp310-linux_x86_64.whl\\npip install -U deepspeed\\n\\n# git clone this repo\\ncd ml-mgie\\ngit submodule update --init --recursive\\ncd LLaVA\\npip install -e .\\npip install -U https://download.pytorch.org/whl/cu113/torch-1.12.0%2Bcu113-cp310-cp310-linux_x86_64.whl https://download.pytorch.org/whl/cu113/torchvision-0.13.0%2Bcu113-cp310-cp310-linux_x86_64.whl https://download.pytorch.org/whl/cu113/torchaudio-0.12.0%2Bcu113-cp310-cp310-linux_x86_64.whl\\npip install -U ninja flash-attn==1.0.2\\npip install -U pydrive2 gdown wget\\n\\ncd ..\\ncp mgie_llava.py LLaVA/llava/model/llava.py\\ncp mgie_train.py LLaVA/llava/train/train.py\\n``` \\n source \\n [plan source]>> step1. create conda environment ```\\nconda create -n mgie python=3.10 -y\\nconda activate mgie\\nconda update -n base -c defaults conda setuptools -y\\nconda install -c conda-forge git git-lfs ffmpeg vim htop ninja gpustat -y\\nconda clean -a -y ```\\nstep2. install dependencies ```\\npip install -U pip cmake cython==0.29.36 pydantic==1.10 numpy\\npip install -U gdown pydrive2 wget jupyter jupyterlab jupyterthemes ipython\\npip install -U sentencepiece transformers diffusers tokenizers datasets gradio==3.37 accelerate evaluate git+https://github.com/openai/CLIP.git\\npip install -U https://download.pytorch.org/whl/cu113/torch-1.12.0%2Bcu113-cp310-cp310-linux_x86_64.whl https://download.pytorch.org/whl/cu113/torchvision-0.13.0%2Bcu113-cp310-cp310-linux_x86_64.whl https://download.pytorch.org/whl/cu113/torchaudio-0.12.0%2Bcu113-cp310-cp310-linux_x86_64.whl\\npip install -U deepspeed ```\\nstep3. git clone this repo ```\\ncd ml-mgie\\ngit submodule update --init --recursive\\ncd LLaVA ```\\nstep4. install module ```\\npip install -e .\\npip install -U https://download.pytorch.org/whl/cu113/torch-1.12.0%2Bcu113-cp310-cp310-linux_x86_64.whl https://download.pytorch.org/whl/cu113/torchvision-0.13.0%2Bcu113-cp310-cp310-linux_x86_64.whl https://download.pytorch.org/whl/cu113/torchaudio-0.12.0%2Bcu113-cp310-cp310-linux_x86_64.whl\\npip install -U ninja flash-attn==1.0.2\\npip install -U pydrive2 gdown wget\\ncd ..\\ncp mgie_llava.py LLaVA/llava/model/llava.py\\ncp mgie_train.py LLaVA/llava/train/train.py\\n``` \\n ',\n",
       " 'self-play-fine-tuning-converts-weak-language \\n ## Setup\\nThe following steps provide the necessary setup to run our codes.\\n1. Create a Python virtual environment with Conda:\\n```\\nconda create -n myenv python=3.10\\nconda activate myenv\\n```\\n2. Install PyTorch `v2.1.0` with compatible cuda version, following instructions from [PyTorch Installation Page](https://pytorch.org/get-started/locally/). For example with cuda 11:\\n```\\npip install torch==2.1.0 torchvision==0.16.0 torchaudio==2.1.0 --index-url https://download.pytorch.org/whl/cu118\\n```\\n3. Install the following Python dependencies to run the codes.\\n```\\npython -m pip install .\\npython -m pip install flash-attn --no-build-isolation\\n```\\n4. Login to your huggingface account for downloading models\\n```\\nhuggingface-cli login --token \"${your_access_token}\"\\n``` \\n source \\n [plan source]>>step1.create a Python virtual environment with Conda:\\n```\\nconda create -n myenv python=3.10\\nconda activate myenv\\n```\\nstep2.install PyTorch `v2.1.0` with compatible cuda version, following instructions from [PyTorch Installation Page](https://pytorch.org/get-started/locally/). For example with cuda 11:\\n```\\npip install torch==2.1.0 torchvision==0.16.0 torchaudio==2.1.0 --index-url https://download.pytorch.org/whl/cu118\\n```\\nstep3.install the following Python dependencies to run the codes.\\n```\\npython -m pip install .\\npython -m pip install flash-attn --no-build-isolation\\n```\\nstep4.login to your huggingface account for downloading models\\n```\\nhuggingface-cli login --token \"${your_access_token}\"\\n``` \\n ',\n",
       " \"genegpt-teaching-large-language-models-to-use \\n # Requirements\\n\\nThe code has been tested with Python 3.9.13. Please first install the required packages by:\\n```bash\\npip install -r requirements.txt\\n```\\n\\nYou also need an OpenAI API key to run GeneGPT with Codex. Replace the placeholder with your key in `config.py`:\\n```bash\\n$ cat config.py \\nAPI_KEY = 'YOUR_OPENAI_API_KEY'\\n```\\n\\n## Using GeneGPT\\n\\nAfter setting up the environment, one can run GeneGPT on GeneTuring by:\\n```bash\\npython main.py 111111\\n```\\nwhere `111111` denotes that all Documentations (Dc.1-2) and Demonstrations (Dm.1-4) are used.\\n\\nTo run GeneGPT-slim, simply use:\\n```bash\\npython main.py 001001\\n```\\nwhich will only use the Dm.1 and Dm.4 for in-context learning. \\n source \\n [plan source]>>step1.install requirements:\\n```bash\\npip install -r requirements.txt\\n```\\nstep2.set OpenAI API key to run GeneGPT with Codex. replace the placeholder with your key in `config.py`:\\n```bash\\n$ cat config.py \\nAPI_KEY = 'YOUR_OPENAI_API_KEY'\\n```\\nstep3. execute GeneGPT\\nAfter setting up the environment, one can run GeneGPT on GeneTuring by:\\n```bash\\npython main.py 111111\\n```\\nwhere `111111` denotes that all Documentations (Dc.1-2) and Demonstrations (Dm.1-4) are used.\\nstep4. To run GeneGPT-slim, simply use:\\n```bash\\npython main.py 001001\\n``` \\n \",\n",
       " 'learning-to-fly-in-seconds \\n ## Instructions to run the code\\n### Docker (isolated)\\nWe provide a pre-built Docker image with a simple web interface that can be executed using a single command (given that Docker is already installed on your machine):\\n```\\ndocker run -it --rm -p 8000:8000 arpllab/learning_to_fly\\n```\\nAfter the container is running, navigate to [https://0.0.0.0:8000](https://0.0.0.0:8000) and you should see something like (after starting the training):\\n\\n<div align=\"center\">\\n<img src=\"https://github.com/arplaboratory/learning_to_fly_media/blob/master/simulator_screenshot.png\" />\\n</div>\\n\\nNote that to make this Docker image compatible with a broad range of CPUs, some optimizations have been turned off. For full speed we recommend a [Native installation](#Native-installation). \\n### Docker installation (isolated)\\nWith the following instructions you can also easily build the Docker image yourself. If you want to run the code on bare metal jump [Native installation](#Native-installation).\\n\\nFirst, install Docker on your machine. Then move to the original directory `learning_to_fly` and build the Docker image:\\n```\\ndocker build -t arpllab/learning_to_fly .\\n```\\nIf desired you can also build the container for building the firmware:\\n```\\ndocker build -t arpllab/learning_to_fly_build_firmware -f Dockerfile_build_firmware .\\n```\\nAfter that you can run it using e.g.:\\n```\\ndocker run -it --rm -p 8000:8000 arpllab/learning_to_fly\\n```\\nThis will open the port `8000` for the UI of the training program and run it inside the container.\\n\\nNavigate to [https://0.0.0.0:8000](https://0.0.0.0:8000) with your browser, and you should see something like in the screenshot above (after starting the training).\\n\\nThe training UI configuration does not log data by default. If you want to inspect the training data run:\\n```\\ndocker run -it --rm -p 6006:6006 arpllab/learning_to_fly training_headless\\n```\\nNavigate to [https://0.0.0.0:6006](https://0.0.0.0:6006) with your browser to investigate the Tensorboard logs.\\n\\nIf you would like to benchmark the training speed you can use:\\n```\\ndocker run -it --rm arpllab/learning_to_fly training_benchmark\\n```\\nThis is the fastest configuration, without logging, UI, checkpointing etc.\\n### Native installation\\nClone this repository:\\n```\\ngit clone https://github.com/arplaboratory/learning-to-fly learning_to_fly\\ncd learning_to_fly\\n```\\nThen instantiate the `RLtools` submodule:\\n```\\ngit submodule update --init -- external/rl_tools\\ncd external/rl_tools\\n```\\n\\nThen instantiate some dependencies of `RLtools` (for conveniences like checkpointing, Tensorboard logging, testing, etc.):\\n```\\ngit submodule update --init -- external/cli11 external/highfive external/json/ external/tensorboard tests/lib/googletest/\\n```\\n\\n#### Install dependencies on Ubuntu\\n```\\nsudo apt update && sudo apt install libhdf5-dev libopenblas-dev protobuf-compiler libprotobuf-dev libboost-all-dev\\n```\\nAs an alternative to openblas you can also install [Intel MKL](https://www.intel.com/content/www/us/en/developer/tools/oneapi/onemkl-download.html) which in our experience is significantly faster than OpenBLAS.\\n#### Install dependencies on macOS\\n```\\nbrew install hdf5 protobuf boost\\n```\\nPlease make sure that `brew` links the libraries correctly. If not you might have to link e.g. `protobuf` manually using `brew link protobuf`.\\n\\n\\n\\n\\nGoing back to the main directory (`learning_to_fly`), we can now configure the build of the code:\\n```\\ncd ../../\\nmkdir build\\ncd build\\n```\\n- Ubuntu + OpenBLAS: `cmake .. -DCMAKE_BUILD_TYPE=Release -DRL_TOOLS_BACKEND_ENABLE_OPENBLAS:BOOL=ON`\\n- Ubuntu + MKL: `cmake .. -DCMAKE_BUILD_TYPE=Release -DRL_TOOLS_BACKEND_ENABLE_MKL:BOOL=ON`\\n- macOS (tested on Sonoma): `cmake .. -DCMAKE_BUILD_TYPE=Release`\\n\\nFinally, we can build the targets:\\n```\\ncmake --build . -j8\\n```\\n\\nAfter successfully building the targets, we can run the code (in the original directory `learning_to_fly`):\\n```\\ncd ..\\n./build/src/training_headless \\n```\\nWhile this is running, you should be able to see training metrics using Tensorboard\\n\\nIf not already installed:\\n```\\npython3 -m pip install tensorboard\\n```\\nThen from the original directory `learning_to_fly`:\\n```\\ntensorboard --logdir=logs\\n```\\n\\nTo run the training with the UI, we download the JavaScript dependencies in the form of the two files `three.module.js` and `OrbitControls.js`:\\n```\\ncd src/ui\\n./get_dependencies.sh\\n```\\n\\nAfter that we can execute the UI binary from the root folder:\\n```\\ncd ../../\\n./build/src/ui 0.0.0.0 8000\\n```\\nNow you should be able to navigate to [http://0.0.0.0:8000](http://0.0.0.0:8000) in your browser and start the training.\\n\\nTo run the benchmark (with UI, checkpointing and Tensorboard logging turned off):\\n```\\nsudo nice -n -20 ./build/src/training_benchmark\\n```\\n\\n## Deploying trained policies on a Crazyflie\\nTrain a policy, e.g. using the Docker image with the UI:\\n```\\ndocker run -it --rm -p 8000:8000 -v $(pwd)/checkpoints:/learning_to_fly/checkpoints arpllab/learning_to_fly \\n```\\nThe checkpoints are placed in the current working directory\\'s `checkpoints` folder. Inspect the logs of the container to find the path of the final log, e.g., `checkpoints/multirotor_td3/2023_11_16_14_46_38_d+o+a+r+h+c+f+w+e+_002/actor_000000000300000.h`. \\nWe can mount this file into the container `arpllab/learning_to_fly_build_firmware` for building the firmware, e.g.: \\n```\\ndocker run -it --rm -v $(pwd)/checkpoints/multirotor_td3/2023_11_16_14_46_38_d+o+a+r+h+c+f+w+e+_002/actor_000000000300000.h:/controller/data/actor.h:ro -v $(pwd)/build_firmware:/output arpllab/learning_to_fly_build_firmware\\n```\\nThis should build the firmware using the newly trained policy and output the binary to `build_firmware/cf2.bin`. After that we can use the `cfclient` package to flash the firmware (find the installation instructions [here](https://www.bitcraze.io/documentation/repository/crazyflie-clients-python/master/installation/install/))\\n```\\ncfloader flash build_firmware/cf2.bin stm32-fw -w radio://0/80/2M\\n``` \\n source,docker \\n [plan1>>Docker (isolated)]\\nstep1: Execute a single command (given that Docker is already installed on your machine):\\n```\\ndocker run -it --rm -p 8000:8000 arpllab/learning_to_fly\\n```\\nstep2. the container is running, now step3. navigate to [https://0.0.0.0:8000](https://0.0.0.0:8000) and step 4. you should see something like (after starting the training):\\n<div align=\"center\">\\n<img src=\"https://github.com/arplaboratory/learning_to_fly_media/blob/master/simulator_screenshot.png\" />\\n</div>\\nNote that to make this Docker image compatible with a broad range of CPUs, some optimizations have been turned off. For full speed we recommend a [Native installation](#Native-installation). \\n[plan>>Docker installation (isolated)]\\nstep1. install Docker on your machine. step2. Then move to the original directory `learning_to_fly` and step3. build the Docker image:\\n```\\ndocker build -t arpllab/learning_to_fly .\\n```\\n[optional] If desired you can also build the container for building the firmware:\\n```\\ndocker build -t arpllab/learning_to_fly_build_firmware -f Dockerfile_build_firmware .\\n```\\nstep4. After that you can run it using e.g.:\\n```\\ndocker run -it --rm -p 8000:8000 arpllab/learning_to_fly\\n```\\nContext. This will open the port `8000` for the UI of the training program and run it inside the container.\\nstep5. Navigate to [https://0.0.0.0:8000](https://0.0.0.0:8000) with your browser, and you should see something like in the screenshot above (after starting the training).\\nThe training UI configuration does not log data by default. If you want to inspect the training data run:\\n```\\ndocker run -it --rm -p 6006:6006 arpllab/learning_to_fly training_headless\\n```\\nNavigate to [https://0.0.0.0:6006](https://0.0.0.0:6006) with your browser to investigate the Tensorboard logs.\\n\\n[plan>>Native installation]\\nstep1. clone this repository:\\n```\\ngit clone https://github.com/arplaboratory/learning-to-fly learning_to_fly\\ncd learning_to_fly\\n```\\nstep2.Instantiate the `RLtools` submodule:\\n```\\ngit submodule update --init -- external/rl_tools\\ncd external/rl_tools\\n```\\nstep3. Check dependencies of `RLtools` (for conveniences like checkpointing, Tensorboard logging, testing, etc.):\\n```\\ngit submodule update --init -- external/cli11 external/highfive external/json/ external/tensorboard tests/lib/googletest/\\n```\\nstep4. Install dependencies on Ubuntu\\n```\\nsudo apt update && sudo apt install libhdf5-dev libopenblas-dev protobuf-compiler libprotobuf-dev libboost-all-dev\\n```\\noptional. As an alternative to openblas you can also install [Intel MKL](https://www.intel.com/content/www/us/en/developer/tools/oneapi/onemkl-download.html) which in our experience is significantly faster than OpenBLAS.\\n#### Install dependencies on macOS\\n```\\nbrew install hdf5 protobuf boost\\n```\\nstep5.  Configure the build of the code:\\n```\\ncd ../../\\nmkdir build\\ncd build\\n```\\n- Ubuntu + OpenBLAS: `cmake .. -DCMAKE_BUILD_TYPE=Release -DRL_TOOLS_BACKEND_ENABLE_OPENBLAS:BOOL=ON`\\n- Ubuntu + MKL: `cmake .. -DCMAKE_BUILD_TYPE=Release -DRL_TOOLS_BACKEND_ENABLE_MKL:BOOL=ON`\\n- macOS (tested on Sonoma): `cmake .. -DCMAKE_BUILD_TYPE=Release`\\nstep6. build the targets:\\n```\\ncmake --build . -j8\\n```\\nstep7. run the code (in the original directory `learning_to_fly`):\\n```\\ncd ..\\n./build/src/training_headless \\n```\\nWhile this is running, you should be able to see training metrics using Tensorboard\\n\\nIf not already installed:\\n```\\npython3 -m pip install tensorboard\\n```\\nThen from the original directory `learning_to_fly`:\\n```\\ntensorboard --logdir=logs\\n```\\n\\nTo run the training with the UI, we download the JavaScript dependencies in the form of the two files `three.module.js` and `OrbitControls.js`:\\n```\\ncd src/ui\\n./get_dependencies.sh\\n```\\nstep8.execute the UI binary from the root folder:\\n```\\ncd ../../\\n./build/src/ui 0.0.0.0 8000\\n```\\nstep9. navigate to [http://0.0.0.0:8000](http://0.0.0.0:8000) in your browser and start the training.\\nstep10. run the benchmark (with UI, checkpointing and Tensorboard logging turned off):\\n```\\nsudo nice -n -20 ./build/src/training_benchmark\\n``` \\n ',\n",
       " '/LargeWorldModel/LWM \\n ## Setup\\nInstall the requirements with:\\n```\\nconda create -n lwm python=3.10\\npip install -U \"jax[cuda12_pip]==0.4.23\" -f https://storage.googleapis.com/jax-releases/jax_cuda_releases.html\\npip install -r requirements.txt\\n```\\nor set up TPU VM with:\\n```\\nsh tpu_requirements.sh\\n``` \\n packagemanager, source \\n [plan packagemanager]>>step1.install the requirements with:\\n```\\nconda create -n lwm python=3.10\\npip install -U \"jax[cuda12_pip]==0.4.23\" -f https://storage.googleapis.com/jax-releases/jax_cuda_releases.html\\npip install -r requirements.txt\\n```\\noptional. set up TPU VM with:\\n```\\nsh tpu_requirements.sh\\n``` \\n ',\n",
       " 'microsoft/UFO \\n ### ___ Step 1: Installation\\nUFO requires **Python >= 3.10** running on **Windows OS >= 10**. It can be installed by running the following command:\\n```bash\\n# [optional to create conda environment]\\n# conda create -n ufo python=3.10\\n# conda activate ufo\\n\\n# clone the repository\\ngit clone https://github.com/microsoft/UFO.git\\ncd UFO\\n# install the requirements\\npip install -r requirements.txt\\n```\\n\\n### __ Step 2: Configure the LLMs\\nBefore running UFO, you need to provide your LLM configurations. Taking OpenAI as an example, you can configure `ufo/config/config.yaml` file as follows. \\n\\n#### OpenAI\\n```\\nAPI_TYPE: \"openai\" \\nOPENAI_API_BASE: \"https://api.openai.com/v1/chat/completions\" # The base URL for the OpenAI API\\nOPENAI_API_KEY: \"YOUR_API_KEY\"  # Set the value to the openai key for the llm model\\nOPENAI_API_MODEL: \"GPTV_MODEL_NAME\"  # The only OpenAI model by now that accepts visual input\\n```\\n\\n#### Azure OpenAI (AOAI)\\n```\\nAPI_TYPE: \"aoai\" \\nOPENAI_API_BASE: \"YOUR_ENDPOINT\" # The AOAI API address. Format: https://{your-resource-name}.openai.azure.com/openai/deployments/{deployment-id}/completions?api-version={api-version}\\nOPENAI_API_KEY: \"YOUR_API_KEY\"  # Set the value to the openai key for the llm model\\nOPENAI_API_MODEL: \"GPTV_MODEL_NAME\"  # The only OpenAI model by now that accepts visual input\\n```\\n\\n\\n### __ Step 3: Start UFO\\n\\n#### __ You can execute the following on your Windows command Line (CLI):\\n\\n```bash\\n# assume you are in the cloned UFO folder\\npython -m ufo --task <your_task_name>\\n```\\n\\nThis will start the UFO process and you can interact with it through the command line interface. \\nIf everything goes well, you will see the following message:\\n\\n```bash\\nWelcome to use UFO__, A UI-focused Agent for Windows OS Interaction. \\n _   _  _____   ___\\n| | | ||  ___| / _ \\\\\\n| | | || |_   | | | |\\n| |_| ||  _|  | |_| |\\n \\\\___/ |_|     \\\\___/\\nPlease enter your request to be completed__:\\n```\\n#### __Reminder:  ####\\n- Before UFO executing your request, please make sure the targeted applications are active on the system.\\n- The GPT-V accepts screenshots of your desktop and application GUI as input. Please ensure that no sensitive or confidential information is visible or captured during the execution process. For further information, refer to [DISCLAIMER.md](./DISCLAIMER.md).\\n\\n\\n###  Step 4 __: Execution Logs \\n\\nYou can find the screenshots taken and request & response logs in the following folder:\\n```\\n./ufo/logs/<your_task_name>/\\n```\\nYou may use them to debug, replay, or analyze the agent output. \\n source \\n [plan source]>>step1: Run the following command:\\n```\\nconda create -n ufo python=3.10\\nconda activate ufo\\nclone the repository\\ngit clone https://github.com/microsoft/UFO.git\\ncd UFO```\\nstep2. install the requirements:\\n```pip install -r requirements.txt\\n```\\nstep 3: configure the LLMs `ufo/config/config.yaml` file as follows:\\nfor OpenAI\\n```\\nAPI_TYPE: \"openai\" \\nOPENAI_API_BASE: \"https://api.openai.com/v1/chat/completions\" # The base URL for the OpenAI API\\nOPENAI_API_KEY: \"YOUR_API_KEY\"  # Set the value to the openai key for the llm model\\nOPENAI_API_MODEL: \"GPTV_MODEL_NAME\"  # The only OpenAI model by now that accepts visual input\\n```\\nfor Azure OpenAI (AOAI):\\n```\\nAPI_TYPE: \"aoai\" \\nOPENAI_API_BASE: \"YOUR_ENDPOINT\" # The AOAI API address. Format: https://{your-resource-name}.openai.azure.com/openai/deployments/{deployment-id}/completions?api-version={api-version}\\nOPENAI_API_KEY: \"YOUR_API_KEY\"  # Set the value to the openai key for the llm model\\nOPENAI_API_MODEL: \"GPTV_MODEL_NAME\"  # The only OpenAI model by now that accepts visual input\\n```\\nstep4: Start UFO using command line:\\n```\\n# assume you are in the cloned UFO folder\\npython -m ufo --task <your_task_name>\\n```\\nstep5. check installation. If everything goes well, you will see the following message in the console:\\n```bash\\nWelcome to use UFO__, A UI-focused Agent for Windows OS Interaction. \\n``` \\n ',\n",
       " '/catid/dora \\n ## Demo\\n\\nInstall conda: https://docs.conda.io/projects/miniconda/en/latest/index.html\\n\\n```bash\\ngit clone https://github.com/catid/dora.git\\ncd dora\\n\\nconda create -n dora python=3.10 -y && conda activate dora\\n\\npip install -U -r requirements.txt\\n\\npython dora.py\\n``` \\n source \\n [plan source]>>step1. install conda:https://docs.conda.io/projects/miniconda/en/latest/index.html. step2. clone the repository and move to the folder:\\n```bash\\ngit clone https://github.com/catid/dora.git\\ncd dora\\nstep3. create conda environment:```\\nconda create -n dora python=3.10 -y && conda activate dora```\\nstep4. install requirements:```\\npip install -U -r requirements.txt```\\nstep5. execute the script: ```python dora.py``` \\n ',\n",
       " 'YOLO-World \\n ### 1. Installation\\n\\nYOLO-World is developed based on `torch==1.11.0` `mmyolo==0.6.0` and `mmdetection==3.0.0`.\\n\\n#### Clone Project \\n\\n```bash\\ngit clone --recursive https://github.com/AILab-CVC/YOLO-World.git\\n```\\n#### Install\\n\\n```bash\\npip install torch wheel -q\\npip install -e .\\n``` \\n source \\n [plan source]>>step1. clone repository:\\n```\\ngit clone --recursive https://github.com/AILab-CVC/YOLO-World.git\\n```\\nstep2. install module:\\npip install torch wheel -q\\npip install -e .\\n``` \\n ',\n",
       " 'FasterDecoding/BitDelta \\n ## Install\\n\\n1. Clone the repo and navigate to BitDelta:\\n\\n```\\ngit clone https://github.com/FasterDecoding/BitDelta\\ncd BitDelta\\n```\\n\\n2. Set up environment:\\n\\n```bash\\nconda create -yn bitdelta python=3.9\\nconda activate bitdelta\\n\\npip install -e .\\n``` \\n source \\n [plan source]>>step1.clone the repo and navigate to BitDelta:\\n```\\ngit clone https://github.com/FasterDecoding/BitDelta\\ncd BitDelta\\n```\\nstep2.set up environment:\\n```bash\\nconda create -yn bitdelta python=3.9\\nconda activate bitdelta\\npip install -e .\\n``` \\n ',\n",
       " 'tensorflow \\n ## Install\\n\\nSee the [TensorFlow install guide](https://www.tensorflow.org/install) for the\\n[pip package](https://www.tensorflow.org/install/pip), to\\n[enable GPU support](https://www.tensorflow.org/install/gpu), use a\\n[Docker container](https://www.tensorflow.org/install/docker), and\\n[build from source](https://www.tensorflow.org/install/source).\\n\\nTo install the current release, which includes support for\\n[CUDA-enabled GPU cards](https://www.tensorflow.org/install/gpu) *(Ubuntu and\\nWindows)*:\\n\\n```\\n$ pip install tensorflow\\n```\\n\\nOther devices (DirectX and MacOS-metal) are supported using\\n[Device plugins](https://www.tensorflow.org/install/gpu_plugins#available_devices).\\n\\nA smaller CPU-only package is also available:\\n\\n```\\n$ pip install tensorflow-cpu\\n```\\n\\nTo update TensorFlow to the latest version, add `--upgrade` flag to the above\\ncommands.\\n\\n*Nightly binaries are available for testing using the\\n[tf-nightly](https://pypi.python.org/pypi/tf-nightly) and\\n[tf-nightly-cpu](https://pypi.python.org/pypi/tf-nightly-cpu) packages on PyPi.* \\n packagemanager \\n [plan packagemanager]>>via pip. step1.:\\n```\\n$ pip install tensorflow\\n```\\nstep2. optional. A smaller CPU-only package is also available:\\n```\\n$ pip install tensorflow-cpu\\n```\\nstep3. optional.\\nTo update TensorFlow to the latest version, add `--upgrade` flag to the above\\ncommands.\\n[plan binary]>> binaries are available for testing using the\\n[tf-nightly](https://pypi.python.org/pypi/tf-nightly) and\\n[tf-nightly-cpu](https://pypi.python.org/pypi/tf-nightly-cpu) packages on PyPi. \\n ',\n",
       " \"transformers \\n ## Installation\\n\\n### With pip\\n\\nThis repository is tested on Python 3.8+, Flax 0.4.1+, PyTorch 1.11+, and TensorFlow 2.6+.\\n\\nYou should install __ Transformers in a [virtual environment](https://docs.python.org/3/library/venv.html). If you're unfamiliar with Python virtual environments, check out the [user guide](https://packaging.python.org/guides/installing-using-pip-and-virtual-environments/).\\n\\nFirst, create a virtual environment with the version of Python you're going to use and activate it.\\n\\nThen, you will need to install at least one of Flax, PyTorch, or TensorFlow.\\nPlease refer to [TensorFlow installation page](https://www.tensorflow.org/install/), [PyTorch installation page](https://pytorch.org/get-started/locally/#start-locally) and/or [Flax](https://github.com/google/flax#quick-install) and [Jax](https://github.com/google/jax#installation) installation pages regarding the specific installation command for your platform.\\n\\nWhen one of those backends has been installed, __ Transformers can be installed using pip as follows:\\n\\n```bash\\npip install transformers\\n```\\n\\nIf you'd like to play with the examples or need the bleeding edge of the code and can't wait for a new release, you must [install the library from source](https://huggingface.co/docs/transformers/installation#installing-from-source).\\n\\n### With conda\\n\\n__ Transformers can be installed using conda as follows:\\n\\n```shell script\\nconda install conda-forge::transformers\\n```\\n\\n> **_NOTE:_** Installing `transformers` from the `huggingface` channel is deprecated.\\n\\nFollow the installation pages of Flax, PyTorch or TensorFlow to see how to install them with conda.\\n\\n> **_NOTE:_**  On Windows, you may be prompted to activate Developer Mode in order to benefit from caching. If this is not an option for you, please let us know in [this issue](https://github.com/huggingface/huggingface_hub/issues/1062). \\n packagemanager \\n [plan packagemanager]>>via pip:\\nstep1. install __ Transformers in a [virtual environment](https://docs.python.org/3/library/venv.html).(extra information) If you're unfamiliar with Python virtual environments, check out the [user guide](https://packaging.python.org/guides/installing-using-pip-and-virtual-environments/).\\nstep2. create a virtual environment with the version of Python you're going to use and activate it.\\nstep3.  install at least one of Flax, PyTorch, or TensorFlow.\\nextrainoformation. Please refer to [TensorFlow installation page](https://www.tensorflow.org/install/), [PyTorch installation page](https://pytorch.org/get-started/locally/#start-locally) and/or [Flax](https://github.com/google/flax#quick-install) and [Jax](https://github.com/google/jax#installation) installation pages regarding the specific installation command for your platform.\\nstep4. When one of those backends has been installed, __ Transformers can be installed using pip as follows:\\n```bash\\npip install transformers\\n```\\nextrainformation. If you'd like to play with the examples or need the bleeding edge of the code and can't wait for a new release, you must [install the library from source](https://huggingface.co/docs/transformers/installation#installing-from-source).\\n[plan packagemanager]>>via conda:\\nstep1.\\n```shell script\\nconda install conda-forge::transformers\\n```\\n> **_NOTE:_** Installing `transformers` from the `huggingface` channel is deprecated.\\nFollow the installation pages of Flax, PyTorch or TensorFlow to see how to install them with conda.\\n> **_NOTE:_**  On Windows, you may be prompted to activate Developer Mode in order to benefit from caching. If this is not an option for you, please let us know in [this issue](https://github.com/huggingface/huggingface_hub/issues/1062). \\n \",\n",
       " 'langchain \\n ## Quick Install\\n\\nWith pip:\\n```bash\\npip install langchain\\n```\\n\\nWith conda:\\n```bash\\nconda install langchain -c conda-forge\\n``` \\n packagemanager \\n [plan packagemanager]>>step1: via pip\\n```bash\\npip install langchain\\n```\\n[plan packagemanager]>>step1: via conda:\\n```bash\\nconda install langchain -c conda-forge\\n``` \\n ',\n",
       " 'DIG/dig-stable \\n ## Installation\\n\\n### Install from pip\\nThe key dependencies of DIG: Dive into Graphs are PyTorch (>=1.10.0), PyTorch Geometric (>=2.0.0), and RDKit.\\n\\n1. Install [PyTorch](https://pytorch.org/get-started/locally/) (>=1.10.0)\\n\\n```shell script\\n$ python -c \"import torch; print(torch.__version__)\"\\n>>> 1.10.0\\n```\\n\\n\\n\\n\\n2. Install [PyG](https://pytorch-geometric.readthedocs.io/en/latest/notes/installation.html#) (>=2.0.0)\\n\\n```shell script\\n$ python -c \"import torch_geometric; print(torch_geometric.__version__)\"\\n>>> 2.0.0\\n```\\n    \\n3. Install DIG: Dive into Graphs.\\n\\n```shell script\\npip install dive-into-graphs\\n```\\n\\n\\nAfter installation, you can check the version. You have successfully installed DIG: Dive into Graphs if no error occurs.\\n\\n``` shell script\\n$ python\\n>>> from dig.version import __version__\\n>>> print(__version__)\\n```\\n\\n### Install from source\\nIf you want to try the latest features that have not been released yet, you can install dig from source.\\n\\n```shell script\\ngit clone https://github.com/divelab/DIG.git\\ncd DIG\\npip install .\\n``` \\n packagemanager \\n [plan packagemanager]>>step 1. Install [PyTorch](https://pytorch.org/get-started/locally/) (>=1.10.0)\\n```python -c \"import torch; print(torch.__version__)\"\\n```\\nstep2. Install [PyG](https://pytorch-geometric.readthedocs.io/en/latest/notes/installation.html#) (>=2.0.0)\\n```\\n$ python -c \"import torch_geometric; print(torch_geometric.__version__)\"\\n``` \\nstep3. Install DIG: Dive into Graphs.\\n```\\npip install dive-into-graphs\\n```\\nstep4. check the version installed.\\n```\\npython\\n>>> from dig.version import __version__\\n>>> print(__version__)\\n```\\n[plan source] step1. Clone repository ```\\ngit clone https://github.com/divelab/DIG.git\\n``` \\nstep2. move to the folder ```cd DIG```\\nstep3. install the module ```pip install .``` \\n ']"
      ]
     },
     "execution_count": 29,
     "metadata": {},
     "output_type": "execute_result"
    }
   ],
   "source": [
    "content_dataset[\"text\"]\n",
    "\n"
   ]
  },
  {
   "cell_type": "code",
   "execution_count": 30,
   "metadata": {},
   "outputs": [],
   "source": [
    "from transformers import AutoTokenizer, AutoModel\n",
    "\n",
    "model_ckpt = \"sentence-transformers/multi-qa-mpnet-base-dot-v1\"\n",
    "tokenizer = AutoTokenizer.from_pretrained(model_ckpt)\n",
    "model = AutoModel.from_pretrained(model_ckpt)"
   ]
  },
  {
   "cell_type": "code",
   "execution_count": 31,
   "metadata": {},
   "outputs": [
    {
     "data": {
      "text/plain": [
       "MPNetModel(\n",
       "  (embeddings): MPNetEmbeddings(\n",
       "    (word_embeddings): Embedding(30527, 768, padding_idx=1)\n",
       "    (position_embeddings): Embedding(514, 768, padding_idx=1)\n",
       "    (LayerNorm): LayerNorm((768,), eps=1e-05, elementwise_affine=True)\n",
       "    (dropout): Dropout(p=0.1, inplace=False)\n",
       "  )\n",
       "  (encoder): MPNetEncoder(\n",
       "    (layer): ModuleList(\n",
       "      (0-11): 12 x MPNetLayer(\n",
       "        (attention): MPNetAttention(\n",
       "          (attn): MPNetSelfAttention(\n",
       "            (q): Linear(in_features=768, out_features=768, bias=True)\n",
       "            (k): Linear(in_features=768, out_features=768, bias=True)\n",
       "            (v): Linear(in_features=768, out_features=768, bias=True)\n",
       "            (o): Linear(in_features=768, out_features=768, bias=True)\n",
       "            (dropout): Dropout(p=0.1, inplace=False)\n",
       "          )\n",
       "          (LayerNorm): LayerNorm((768,), eps=1e-05, elementwise_affine=True)\n",
       "          (dropout): Dropout(p=0.1, inplace=False)\n",
       "        )\n",
       "        (intermediate): MPNetIntermediate(\n",
       "          (dense): Linear(in_features=768, out_features=3072, bias=True)\n",
       "          (intermediate_act_fn): GELUActivation()\n",
       "        )\n",
       "        (output): MPNetOutput(\n",
       "          (dense): Linear(in_features=3072, out_features=768, bias=True)\n",
       "          (LayerNorm): LayerNorm((768,), eps=1e-05, elementwise_affine=True)\n",
       "          (dropout): Dropout(p=0.1, inplace=False)\n",
       "        )\n",
       "      )\n",
       "    )\n",
       "    (relative_attention_bias): Embedding(32, 12)\n",
       "  )\n",
       "  (pooler): MPNetPooler(\n",
       "    (dense): Linear(in_features=768, out_features=768, bias=True)\n",
       "    (activation): Tanh()\n",
       "  )\n",
       ")"
      ]
     },
     "execution_count": 31,
     "metadata": {},
     "output_type": "execute_result"
    }
   ],
   "source": [
    "import torch\n",
    "\n",
    "device = torch.device(\"cpu\")\n",
    "model.to(device)"
   ]
  },
  {
   "cell_type": "code",
   "execution_count": 32,
   "metadata": {},
   "outputs": [],
   "source": [
    "def cls_pooling(model_output):\n",
    "    return model_output.last_hidden_state[:, 0]"
   ]
  },
  {
   "cell_type": "code",
   "execution_count": 33,
   "metadata": {},
   "outputs": [],
   "source": [
    "def get_embeddings(text_list):\n",
    "    encoded_input = tokenizer(\n",
    "        text_list, padding=True, truncation=True, return_tensors=\"pt\"\n",
    "    )\n",
    "    encoded_input = {k: v.to(device) for k, v in encoded_input.items()}\n",
    "    model_output = model(**encoded_input)\n",
    "    return cls_pooling(model_output)"
   ]
  },
  {
   "cell_type": "code",
   "execution_count": 34,
   "metadata": {},
   "outputs": [
    {
     "data": {
      "text/plain": [
       "torch.Size([1, 768])"
      ]
     },
     "execution_count": 34,
     "metadata": {},
     "output_type": "execute_result"
    }
   ],
   "source": [
    "# from the dataset\n",
    "embedding = get_embeddings(content_dataset[\"text\"][0])\n",
    "embedding.shape"
   ]
  },
  {
   "cell_type": "code",
   "execution_count": 35,
   "metadata": {},
   "outputs": [
    {
     "data": {
      "application/vnd.jupyter.widget-view+json": {
       "model_id": "e996d6559dc4410e92417ef4e6f8d0a1",
       "version_major": 2,
       "version_minor": 0
      },
      "text/plain": [
       "Map:   0%|          | 0/29 [00:00<?, ? examples/s]"
      ]
     },
     "metadata": {},
     "output_type": "display_data"
    }
   ],
   "source": [
    "embeddings_dataset = content_dataset.map(\n",
    "    lambda x: {\"embeddings\": get_embeddings(x[\"text\"]).detach().cpu().numpy()[0]}\n",
    ")"
   ]
  },
  {
   "cell_type": "code",
   "execution_count": null,
   "metadata": {},
   "outputs": [],
   "source": [
    "# !conda install faiss-cpu -y # algorithms to quickly search and cluster embedding vectors it needs to be installed via conda"
   ]
  },
  {
   "cell_type": "code",
   "execution_count": null,
   "metadata": {},
   "outputs": [],
   "source": [
    "# !conda install -c pytorch faiss-cpu -y"
   ]
  },
  {
   "cell_type": "code",
   "execution_count": 156,
   "metadata": {},
   "outputs": [
    {
     "name": "stderr",
     "output_type": "stream",
     "text": [
      "100%|██████████| 3/3 [00:00<00:00, 340.74it/s]\n"
     ]
    },
    {
     "data": {
      "text/plain": [
       "Dataset({\n",
       "    features: ['html_url', 'title', 'comments', 'body', 'comment_length', 'text', 'embeddings'],\n",
       "    num_rows: 2175\n",
       "})"
      ]
     },
     "execution_count": 156,
     "metadata": {},
     "output_type": "execute_result"
    }
   ],
   "source": [
    "# import faiss-cpu conda\n",
    "# embeddings_dataset.add_faiss_index(column=\"embeddings\")"
   ]
  },
  {
   "cell_type": "code",
   "execution_count": 36,
   "metadata": {},
   "outputs": [
    {
     "data": {
      "application/vnd.jupyter.widget-view+json": {
       "model_id": "e0043680b1d44ae2a84e7d0484894932",
       "version_major": 2,
       "version_minor": 0
      },
      "text/plain": [
       "  0%|          | 0/1 [00:00<?, ?it/s]"
      ]
     },
     "metadata": {},
     "output_type": "display_data"
    },
    {
     "data": {
      "text/plain": [
       "Dataset({\n",
       "    features: ['software', 'readme_url', 'content', 'plan', 'steps', 'content_length', 'text', 'embeddings'],\n",
       "    num_rows: 29\n",
       "})"
      ]
     },
     "execution_count": 36,
     "metadata": {},
     "output_type": "execute_result"
    }
   ],
   "source": [
    "embeddings_dataset.add_faiss_index(column=\"embeddings\")"
   ]
  },
  {
   "cell_type": "code",
   "execution_count": 44,
   "metadata": {},
   "outputs": [
    {
     "data": {
      "text/plain": [
       "(1, 768)"
      ]
     },
     "execution_count": 44,
     "metadata": {},
     "output_type": "execute_result"
    }
   ],
   "source": [
    "question = 'what is the plan of https://raw.githubusercontent.com/cfeng783/GTT?'\n",
    "question_embedding = get_embeddings([question]).cpu().detach().numpy()\n",
    "\n",
    "question_embedding.shape"
   ]
  },
  {
   "cell_type": "code",
   "execution_count": 45,
   "metadata": {},
   "outputs": [],
   "source": [
    "scores, samples = embeddings_dataset.get_nearest_examples(\"embeddings\", question_embedding, k=5)"
   ]
  },
  {
   "cell_type": "code",
   "execution_count": 46,
   "metadata": {},
   "outputs": [
    {
     "data": {
      "text/html": [
       "<div>\n",
       "<style scoped>\n",
       "    .dataframe tbody tr th:only-of-type {\n",
       "        vertical-align: middle;\n",
       "    }\n",
       "\n",
       "    .dataframe tbody tr th {\n",
       "        vertical-align: top;\n",
       "    }\n",
       "\n",
       "    .dataframe thead th {\n",
       "        text-align: right;\n",
       "    }\n",
       "</style>\n",
       "<table border=\"1\" class=\"dataframe\">\n",
       "  <thead>\n",
       "    <tr style=\"text-align: right;\">\n",
       "      <th></th>\n",
       "      <th>software</th>\n",
       "      <th>readme_url</th>\n",
       "      <th>content</th>\n",
       "      <th>plan</th>\n",
       "      <th>steps</th>\n",
       "      <th>content_length</th>\n",
       "      <th>text</th>\n",
       "      <th>embeddings</th>\n",
       "      <th>scores</th>\n",
       "    </tr>\n",
       "  </thead>\n",
       "  <tbody>\n",
       "    <tr>\n",
       "      <th>4</th>\n",
       "      <td>only-the-curve-shape-matters-training</td>\n",
       "      <td>https://raw.githubusercontent.com/cfeng783/GTT...</td>\n",
       "      <td>## Getting Started\\n\\n#### Install dependencie...</td>\n",
       "      <td>source</td>\n",
       "      <td>[plan source]&gt;&gt; [INCOMPLETE] step1. Install de...</td>\n",
       "      <td>15</td>\n",
       "      <td>only-the-curve-shape-matters-training \\n ## Ge...</td>\n",
       "      <td>[-0.25307658314704895, -0.6750497221946716, -0...</td>\n",
       "      <td>48.823574</td>\n",
       "    </tr>\n",
       "    <tr>\n",
       "      <th>3</th>\n",
       "      <td>genegpt-teaching-large-language-models-to-use</td>\n",
       "      <td>https://raw.githubusercontent.com/ncbi/GeneGPT...</td>\n",
       "      <td># Requirements\\n\\nThe code has been tested wit...</td>\n",
       "      <td>source</td>\n",
       "      <td>[plan source]&gt;&gt;step1.install requirements:\\n``...</td>\n",
       "      <td>104</td>\n",
       "      <td>genegpt-teaching-large-language-models-to-use ...</td>\n",
       "      <td>[-0.4030008614063263, -0.32260626554489136, -0...</td>\n",
       "      <td>47.592957</td>\n",
       "    </tr>\n",
       "    <tr>\n",
       "      <th>2</th>\n",
       "      <td>geometric-slosh-free-tracking-for-robotic</td>\n",
       "      <td>https://raw.githubusercontent.com/jonarriza96/...</td>\n",
       "      <td>## Installation\\n\\n### Dependencies\\n\\nInitial...</td>\n",
       "      <td>source</td>\n",
       "      <td>[plan source]&gt;&gt; step1. Check dependencies. ste...</td>\n",
       "      <td>69</td>\n",
       "      <td>geometric-slosh-free-tracking-for-robotic \\n #...</td>\n",
       "      <td>[-0.3325411379337311, -0.45105645060539246, -0...</td>\n",
       "      <td>44.597107</td>\n",
       "    </tr>\n",
       "    <tr>\n",
       "      <th>1</th>\n",
       "      <td>guiding-instruction-based-image-editing-via</td>\n",
       "      <td>https://raw.githubusercontent.com/apple/ml-mgi...</td>\n",
       "      <td>## Requirements\\n```\\nconda create -n mgie pyt...</td>\n",
       "      <td>source</td>\n",
       "      <td>[plan source]&gt;&gt; step1. create conda environmen...</td>\n",
       "      <td>121</td>\n",
       "      <td>guiding-instruction-based-image-editing-via \\n...</td>\n",
       "      <td>[-0.19101731479167938, -0.4127528667449951, -0...</td>\n",
       "      <td>43.995201</td>\n",
       "    </tr>\n",
       "    <tr>\n",
       "      <th>0</th>\n",
       "      <td>tensorflow</td>\n",
       "      <td>https://raw.githubusercontent.com/tensorflow/t...</td>\n",
       "      <td>## Install\\n\\nSee the [TensorFlow install guid...</td>\n",
       "      <td>packagemanager</td>\n",
       "      <td>[plan packagemanager]&gt;&gt;via pip. step1.:\\n```\\n...</td>\n",
       "      <td>95</td>\n",
       "      <td>tensorflow \\n ## Install\\n\\nSee the [TensorFlo...</td>\n",
       "      <td>[-0.4453235864639282, -0.4245409369468689, -0....</td>\n",
       "      <td>43.752434</td>\n",
       "    </tr>\n",
       "  </tbody>\n",
       "</table>\n",
       "</div>"
      ],
      "text/plain": [
       "                                        software  \\\n",
       "4          only-the-curve-shape-matters-training   \n",
       "3  genegpt-teaching-large-language-models-to-use   \n",
       "2      geometric-slosh-free-tracking-for-robotic   \n",
       "1    guiding-instruction-based-image-editing-via   \n",
       "0                                     tensorflow   \n",
       "\n",
       "                                          readme_url  \\\n",
       "4  https://raw.githubusercontent.com/cfeng783/GTT...   \n",
       "3  https://raw.githubusercontent.com/ncbi/GeneGPT...   \n",
       "2  https://raw.githubusercontent.com/jonarriza96/...   \n",
       "1  https://raw.githubusercontent.com/apple/ml-mgi...   \n",
       "0  https://raw.githubusercontent.com/tensorflow/t...   \n",
       "\n",
       "                                             content            plan  \\\n",
       "4  ## Getting Started\\n\\n#### Install dependencie...          source   \n",
       "3  # Requirements\\n\\nThe code has been tested wit...          source   \n",
       "2  ## Installation\\n\\n### Dependencies\\n\\nInitial...          source   \n",
       "1  ## Requirements\\n```\\nconda create -n mgie pyt...          source   \n",
       "0  ## Install\\n\\nSee the [TensorFlow install guid...  packagemanager   \n",
       "\n",
       "                                               steps  content_length  \\\n",
       "4  [plan source]>> [INCOMPLETE] step1. Install de...              15   \n",
       "3  [plan source]>>step1.install requirements:\\n``...             104   \n",
       "2  [plan source]>> step1. Check dependencies. ste...              69   \n",
       "1  [plan source]>> step1. create conda environmen...             121   \n",
       "0  [plan packagemanager]>>via pip. step1.:\\n```\\n...              95   \n",
       "\n",
       "                                                text  \\\n",
       "4  only-the-curve-shape-matters-training \\n ## Ge...   \n",
       "3  genegpt-teaching-large-language-models-to-use ...   \n",
       "2  geometric-slosh-free-tracking-for-robotic \\n #...   \n",
       "1  guiding-instruction-based-image-editing-via \\n...   \n",
       "0  tensorflow \\n ## Install\\n\\nSee the [TensorFlo...   \n",
       "\n",
       "                                          embeddings     scores  \n",
       "4  [-0.25307658314704895, -0.6750497221946716, -0...  48.823574  \n",
       "3  [-0.4030008614063263, -0.32260626554489136, -0...  47.592957  \n",
       "2  [-0.3325411379337311, -0.45105645060539246, -0...  44.597107  \n",
       "1  [-0.19101731479167938, -0.4127528667449951, -0...  43.995201  \n",
       "0  [-0.4453235864639282, -0.4245409369468689, -0....  43.752434  "
      ]
     },
     "execution_count": 46,
     "metadata": {},
     "output_type": "execute_result"
    }
   ],
   "source": [
    "import pandas as pd\n",
    "\n",
    "samples_df= pd.DataFrame.from_dict(samples)\n",
    "samples_df[\"scores\"] = scores\n",
    "samples_df.sort_values(\"scores\", ascending=False, inplace=False)"
   ]
  },
  {
   "cell_type": "code",
   "execution_count": 47,
   "metadata": {},
   "outputs": [
    {
     "name": "stdout",
     "output_type": "stream",
     "text": [
      "CONTENT: ## Install\n",
      "\n",
      "See the [TensorFlow install guide](https://www.tensorflow.org/install) for the\n",
      "[pip package](https://www.tensorflow.org/install/pip), to\n",
      "[enable GPU support](https://www.tensorflow.org/install/gpu), use a\n",
      "[Docker container](https://www.tensorflow.org/install/docker), and\n",
      "[build from source](https://www.tensorflow.org/install/source).\n",
      "\n",
      "To install the current release, which includes support for\n",
      "[CUDA-enabled GPU cards](https://www.tensorflow.org/install/gpu) *(Ubuntu and\n",
      "Windows)*:\n",
      "\n",
      "```\n",
      "$ pip install tensorflow\n",
      "```\n",
      "\n",
      "Other devices (DirectX and MacOS-metal) are supported using\n",
      "[Device plugins](https://www.tensorflow.org/install/gpu_plugins#available_devices).\n",
      "\n",
      "A smaller CPU-only package is also available:\n",
      "\n",
      "```\n",
      "$ pip install tensorflow-cpu\n",
      "```\n",
      "\n",
      "To update TensorFlow to the latest version, add `--upgrade` flag to the above\n",
      "commands.\n",
      "\n",
      "*Nightly binaries are available for testing using the\n",
      "[tf-nightly](https://pypi.python.org/pypi/tf-nightly) and\n",
      "[tf-nightly-cpu](https://pypi.python.org/pypi/tf-nightly-cpu) packages on PyPi.*\n",
      "SCORE: 43.75243377685547\n",
      "SOFTWARE: tensorflow\n",
      "METHOD: packagemanager\n",
      "STEPS: [plan packagemanager]>>via pip. step1.:\n",
      "```\n",
      "$ pip install tensorflow\n",
      "```\n",
      "step2. optional. A smaller CPU-only package is also available:\n",
      "```\n",
      "$ pip install tensorflow-cpu\n",
      "```\n",
      "step3. optional.\n",
      "To update TensorFlow to the latest version, add `--upgrade` flag to the above\n",
      "commands.\n",
      "[plan binary]>> binaries are available for testing using the\n",
      "[tf-nightly](https://pypi.python.org/pypi/tf-nightly) and\n",
      "[tf-nightly-cpu](https://pypi.python.org/pypi/tf-nightly-cpu) packages on PyPi.\n",
      "==================================================\n",
      "\n",
      "CONTENT: ## Requirements\n",
      "```\n",
      "conda create -n mgie python=3.10 -y\n",
      "conda activate mgie\n",
      "conda update -n base -c defaults conda setuptools -y\n",
      "conda install -c conda-forge git git-lfs ffmpeg vim htop ninja gpustat -y\n",
      "conda clean -a -y\n",
      "\n",
      "pip install -U pip cmake cython==0.29.36 pydantic==1.10 numpy\n",
      "pip install -U gdown pydrive2 wget jupyter jupyterlab jupyterthemes ipython\n",
      "pip install -U sentencepiece transformers diffusers tokenizers datasets gradio==3.37 accelerate evaluate git+https://github.com/openai/CLIP.git\n",
      "pip install -U https://download.pytorch.org/whl/cu113/torch-1.12.0%2Bcu113-cp310-cp310-linux_x86_64.whl https://download.pytorch.org/whl/cu113/torchvision-0.13.0%2Bcu113-cp310-cp310-linux_x86_64.whl https://download.pytorch.org/whl/cu113/torchaudio-0.12.0%2Bcu113-cp310-cp310-linux_x86_64.whl\n",
      "pip install -U deepspeed\n",
      "\n",
      "# git clone this repo\n",
      "cd ml-mgie\n",
      "git submodule update --init --recursive\n",
      "cd LLaVA\n",
      "pip install -e .\n",
      "pip install -U https://download.pytorch.org/whl/cu113/torch-1.12.0%2Bcu113-cp310-cp310-linux_x86_64.whl https://download.pytorch.org/whl/cu113/torchvision-0.13.0%2Bcu113-cp310-cp310-linux_x86_64.whl https://download.pytorch.org/whl/cu113/torchaudio-0.12.0%2Bcu113-cp310-cp310-linux_x86_64.whl\n",
      "pip install -U ninja flash-attn==1.0.2\n",
      "pip install -U pydrive2 gdown wget\n",
      "\n",
      "cd ..\n",
      "cp mgie_llava.py LLaVA/llava/model/llava.py\n",
      "cp mgie_train.py LLaVA/llava/train/train.py\n",
      "```\n",
      "SCORE: 43.995201110839844\n",
      "SOFTWARE: guiding-instruction-based-image-editing-via\n",
      "METHOD: source\n",
      "STEPS: [plan source]>> step1. create conda environment ```\n",
      "conda create -n mgie python=3.10 -y\n",
      "conda activate mgie\n",
      "conda update -n base -c defaults conda setuptools -y\n",
      "conda install -c conda-forge git git-lfs ffmpeg vim htop ninja gpustat -y\n",
      "conda clean -a -y ```\n",
      "step2. install dependencies ```\n",
      "pip install -U pip cmake cython==0.29.36 pydantic==1.10 numpy\n",
      "pip install -U gdown pydrive2 wget jupyter jupyterlab jupyterthemes ipython\n",
      "pip install -U sentencepiece transformers diffusers tokenizers datasets gradio==3.37 accelerate evaluate git+https://github.com/openai/CLIP.git\n",
      "pip install -U https://download.pytorch.org/whl/cu113/torch-1.12.0%2Bcu113-cp310-cp310-linux_x86_64.whl https://download.pytorch.org/whl/cu113/torchvision-0.13.0%2Bcu113-cp310-cp310-linux_x86_64.whl https://download.pytorch.org/whl/cu113/torchaudio-0.12.0%2Bcu113-cp310-cp310-linux_x86_64.whl\n",
      "pip install -U deepspeed ```\n",
      "step3. git clone this repo ```\n",
      "cd ml-mgie\n",
      "git submodule update --init --recursive\n",
      "cd LLaVA ```\n",
      "step4. install module ```\n",
      "pip install -e .\n",
      "pip install -U https://download.pytorch.org/whl/cu113/torch-1.12.0%2Bcu113-cp310-cp310-linux_x86_64.whl https://download.pytorch.org/whl/cu113/torchvision-0.13.0%2Bcu113-cp310-cp310-linux_x86_64.whl https://download.pytorch.org/whl/cu113/torchaudio-0.12.0%2Bcu113-cp310-cp310-linux_x86_64.whl\n",
      "pip install -U ninja flash-attn==1.0.2\n",
      "pip install -U pydrive2 gdown wget\n",
      "cd ..\n",
      "cp mgie_llava.py LLaVA/llava/model/llava.py\n",
      "cp mgie_train.py LLaVA/llava/train/train.py\n",
      "```\n",
      "==================================================\n",
      "\n",
      "CONTENT: ## Installation\n",
      "\n",
      "### Dependencies\n",
      "\n",
      "Initialize git submodules with\n",
      "\n",
      "```\n",
      "    git submodule init\n",
      "    git submodule update\n",
      "```\n",
      "\n",
      "### Python environment\n",
      "\n",
      "Install the specific versions of every package from `requirements.txt` in a new conda environment:\n",
      "\n",
      "```\n",
      "conda create --name gsft python=3.9\n",
      "conda activate gsft\n",
      "pip install -r requirements.txt\n",
      "```\n",
      "\n",
      "To ensure that Python paths are properly defined, update the `~/.bashrc` by adding the following lines\n",
      "\n",
      "```\n",
      "export GSFT_PATH=/path_to_gsfc\n",
      "export PYTHONPATH=$PYTHONPATH:/$GSFT_PATH\n",
      "```\n",
      "SCORE: 44.59710693359375\n",
      "SOFTWARE: geometric-slosh-free-tracking-for-robotic\n",
      "METHOD: source\n",
      "STEPS: [plan source]>> step1. Check dependencies. step2. Initialize git submodules with\n",
      "```\n",
      "    git submodule init\n",
      "    git submodule update\n",
      "```\n",
      "step3. Create conda environment and install requirements:\n",
      "```\n",
      "conda create --name gsft python=3.9\n",
      "conda activate gsft\n",
      "pip install -r requirements.txt\n",
      "```\n",
      "step4. Create variables to ensure that Python paths are properly defined, update the `~/.bashrc` by adding the following lines\n",
      "```\n",
      "export GSFT_PATH=/path_to_gsfc\n",
      "export PYTHONPATH=$PYTHONPATH:/$GSFT_PATH\n",
      "```\n",
      "==================================================\n",
      "\n",
      "CONTENT: # Requirements\n",
      "\n",
      "The code has been tested with Python 3.9.13. Please first install the required packages by:\n",
      "```bash\n",
      "pip install -r requirements.txt\n",
      "```\n",
      "\n",
      "You also need an OpenAI API key to run GeneGPT with Codex. Replace the placeholder with your key in `config.py`:\n",
      "```bash\n",
      "$ cat config.py \n",
      "API_KEY = 'YOUR_OPENAI_API_KEY'\n",
      "```\n",
      "\n",
      "## Using GeneGPT\n",
      "\n",
      "After setting up the environment, one can run GeneGPT on GeneTuring by:\n",
      "```bash\n",
      "python main.py 111111\n",
      "```\n",
      "where `111111` denotes that all Documentations (Dc.1-2) and Demonstrations (Dm.1-4) are used.\n",
      "\n",
      "To run GeneGPT-slim, simply use:\n",
      "```bash\n",
      "python main.py 001001\n",
      "```\n",
      "which will only use the Dm.1 and Dm.4 for in-context learning.\n",
      "SCORE: 47.59295654296875\n",
      "SOFTWARE: genegpt-teaching-large-language-models-to-use\n",
      "METHOD: source\n",
      "STEPS: [plan source]>>step1.install requirements:\n",
      "```bash\n",
      "pip install -r requirements.txt\n",
      "```\n",
      "step2.set OpenAI API key to run GeneGPT with Codex. replace the placeholder with your key in `config.py`:\n",
      "```bash\n",
      "$ cat config.py \n",
      "API_KEY = 'YOUR_OPENAI_API_KEY'\n",
      "```\n",
      "step3. execute GeneGPT\n",
      "After setting up the environment, one can run GeneGPT on GeneTuring by:\n",
      "```bash\n",
      "python main.py 111111\n",
      "```\n",
      "where `111111` denotes that all Documentations (Dc.1-2) and Demonstrations (Dm.1-4) are used.\n",
      "step4. To run GeneGPT-slim, simply use:\n",
      "```bash\n",
      "python main.py 001001\n",
      "```\n",
      "==================================================\n",
      "\n",
      "CONTENT: ## Getting Started\n",
      "\n",
      "#### Install dependencies (with python 3.10) \n",
      "\n",
      "```shell\n",
      "pip install -r requirements.txt\n",
      "```\n",
      "SCORE: 48.82357406616211\n",
      "SOFTWARE: only-the-curve-shape-matters-training\n",
      "METHOD: source\n",
      "STEPS: [plan source]>> [INCOMPLETE] step1. Install dependencies with ```pip install -r requirements.txt```\n",
      "==================================================\n",
      "\n"
     ]
    }
   ],
   "source": [
    "for _, row in samples_df.iterrows():\n",
    "    print(f\"CONTENT: {row.content}\")\n",
    "    print(f\"SCORE: {row.scores}\")\n",
    "    print(f\"SOFTWARE: {row.software}\")\n",
    "    print(f\"METHOD: {row.plan}\")\n",
    "    print(f\"STEPS: {row.steps}\")\n",
    "    print(\"=\" * 50)\n",
    "    print()"
   ]
  }
 ],
 "metadata": {
  "kernelspec": {
   "display_name": "Python 3",
   "language": "python",
   "name": "python3"
  },
  "language_info": {
   "codemirror_mode": {
    "name": "ipython",
    "version": 3
   },
   "file_extension": ".py",
   "mimetype": "text/x-python",
   "name": "python",
   "nbconvert_exporter": "python",
   "pygments_lexer": "ipython3",
   "version": "3.9.18"
  }
 },
 "nbformat": 4,
 "nbformat_minor": 2
}
