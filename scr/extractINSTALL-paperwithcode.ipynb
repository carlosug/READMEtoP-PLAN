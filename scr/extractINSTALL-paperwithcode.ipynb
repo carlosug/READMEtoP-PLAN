{
 "cells": [
  {
   "cell_type": "code",
   "execution_count": null,
   "metadata": {},
   "outputs": [],
   "source": [
    "# This Python notebook is designed to:\n",
    "# 1. Create a list of GitHub repositories from the awesome list found in the README.md file at https://github.com/jamesmurdza/awesome-ai-devtools\n",
    "# 2. For each GitHub repository in the list, read the README file and extract the installation instructions (e.g., sections titled \"How to install\", code blocks containing \"pip install\", \"git clone .git\", etc.)\n",
    "# 3. Generate a JSON-LD file with the following fields for each repository:\n",
    "#    - field1: URL (the GitHub link of the repository)\n",
    "#    - field2: Text (the extracted installation instructions)\n",
    "#    - field3: Tokens (the individual tokens of the text in field2)\n"
   ]
  },
  {
   "cell_type": "code",
   "execution_count": 2,
   "metadata": {},
   "outputs": [],
   "source": [
    "import requests\n",
    "from bs4 import BeautifulSoup\n",
    "import re\n",
    "import json\n",
    "from rdflib import Graph, Literal, RDF, URIRef\n",
    "from rdflib.namespace import FOAF, XSD"
   ]
  },
  {
   "cell_type": "code",
   "execution_count": 20,
   "metadata": {},
   "outputs": [],
   "source": [
    "   def fetch_repo_list(url):\n",
    "       response = requests.get(url)\n",
    "       soup = BeautifulSoup(response.text, 'html.parser')\n",
    "       # Adjusted regex pattern based on your findings\n",
    "       repo_links = soup.find_all('a', href=re.compile('https://github\\.com/[^/]+/[^/]+'))\n",
    "       return [link['href'] for link in repo_links]"
   ]
  },
  {
   "cell_type": "code",
   "execution_count": 21,
   "metadata": {},
   "outputs": [],
   "source": [
    "\n",
    "# Function to extract README content using GitHub API\n",
    "def fetch_readme_content(repo_url):\n",
    "    api_url = f\"https://api.github.com/repos/{'/'.join(repo_url.split('/')[-2:])}/readme\"\n",
    "    headers = {'Accept': 'application/vnd.github.v3.raw'}\n",
    "    response = requests.get(api_url, headers=headers)\n",
    "    if response.status_code == 200:\n",
    "        return response.text\n",
    "    else:\n",
    "        return None"
   ]
  },
  {
   "cell_type": "code",
   "execution_count": 22,
   "metadata": {},
   "outputs": [],
   "source": [
    "# Function to extract installation instructions from README content\n",
    "def extract_installation_instructions(readme_content):\n",
    "    # Simple regex to find installation blocks, can be improved\n",
    "    matches = re.findall(r'```[bash|sh].*?pip install.*?```', readme_content, re.DOTALL)\n",
    "    return matches"
   ]
  },
  {
   "cell_type": "code",
   "execution_count": 23,
   "metadata": {},
   "outputs": [],
   "source": [
    "# Function to generate JSON-LD\n",
    "def generate_jsonld(repos_data):\n",
    "    g = Graph()\n",
    "    for repo in repos_data:\n",
    "        repo_uri = URIRef(repo['URL'])\n",
    "        g.add((repo_uri, RDF.type, FOAF.Document))\n",
    "        g.add((repo_uri, FOAF.topic, Literal(repo['Text'], datatype=XSD.string)))\n",
    "        # Tokens can be added similarly\n",
    "    g.serialize(destination=\"output.jsonld\", format='json-ld')"
   ]
  },
  {
   "cell_type": "code",
   "execution_count": 24,
   "metadata": {},
   "outputs": [
    {
     "name": "stdout",
     "output_type": "stream",
     "text": [
      "[]\n"
     ]
    }
   ],
   "source": [
    "\n",
    "# Main execution\n",
    "awesome_list_url = \"https://raw.githubusercontent.com/jamesmurdza/awesome-ai-devtools/main/README.md\"\n",
    "repos_urls = fetch_repo_list(awesome_list_url)\n",
    "print(repos_urls)"
   ]
  },
  {
   "cell_type": "code",
   "execution_count": 8,
   "metadata": {},
   "outputs": [],
   "source": [
    "repos_data = []\n",
    "\n",
    "for repo_url in repos_urls:\n",
    "    readme_content = fetch_readme_content(repo_url)\n",
    "    if readme_content:\n",
    "        instructions = extract_installation_instructions(readme_content)\n",
    "        repos_data.append({\n",
    "            \"URL\": repo_url,\n",
    "            \"Text\": \" \".join(instructions),\n",
    "            \"Tokens\": []  # Tokenization can be added as needed\n",
    "        })\n",
    "\n",
    "generate_jsonld(repos_data)"
   ]
  }
 ],
 "metadata": {
  "kernelspec": {
   "display_name": "base",
   "language": "python",
   "name": "python3"
  },
  "language_info": {
   "codemirror_mode": {
    "name": "ipython",
    "version": 3
   },
   "file_extension": ".py",
   "mimetype": "text/x-python",
   "name": "python",
   "nbconvert_exporter": "python",
   "pygments_lexer": "ipython3",
   "version": "3.11.6"
  }
 },
 "nbformat": 4,
 "nbformat_minor": 2
}
